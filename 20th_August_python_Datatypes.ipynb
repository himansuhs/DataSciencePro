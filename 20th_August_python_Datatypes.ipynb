{
  "nbformat": 4,
  "nbformat_minor": 0,
  "metadata": {
    "colab": {
      "provenance": []
    },
    "kernelspec": {
      "name": "python3",
      "display_name": "Python 3"
    },
    "language_info": {
      "name": "python"
    }
  },
  "cells": [
    {
      "cell_type": "markdown",
      "source": [
        "STRING"
      ],
      "metadata": {
        "id": "aUBqYx_nxBCt"
      }
    },
    {
      "cell_type": "markdown",
      "source": [
        "1. Write a program to reverse a string."
      ],
      "metadata": {
        "id": "m34kBxvhxT9s"
      }
    },
    {
      "cell_type": "code",
      "execution_count": null,
      "metadata": {
        "colab": {
          "base_uri": "https://localhost:8080/",
          "height": 36
        },
        "id": "71TEn3vEuoW4",
        "outputId": "9109fec2-c853-4051-b9ad-dd02f4852fcf"
      },
      "outputs": [
        {
          "output_type": "execute_result",
          "data": {
            "text/plain": [
              "'usnamih'"
            ],
            "application/vnd.google.colaboratory.intrinsic+json": {
              "type": "string"
            }
          },
          "metadata": {},
          "execution_count": 1
        }
      ],
      "source": [
        "s=\"himansu\"\n",
        "s[::-1]\n",
        "s"
      ]
    },
    {
      "cell_type": "markdown",
      "source": [
        "2. Check if a string is a palindrome.\n"
      ],
      "metadata": {
        "id": "knpYludvZyZ7"
      }
    },
    {
      "cell_type": "code",
      "source": [
        "def tOCheckPalindrome(st):\n",
        "  temp_st=st[::-1]\n",
        "  if st==temp_st:\n",
        "    print(\"It's a palindrome\")\n",
        "\n",
        "  else:\n",
        "    print(\"It is not a palindrome\")\n"
      ],
      "metadata": {
        "id": "6NhwLAfMZvgL"
      },
      "execution_count": null,
      "outputs": []
    },
    {
      "cell_type": "code",
      "source": [
        "tOCheckPalindrome(\"aa\")"
      ],
      "metadata": {
        "colab": {
          "base_uri": "https://localhost:8080/"
        },
        "id": "Y3_tn1PPbJSL",
        "outputId": "6586ac18-d59f-4dbf-a1d8-c6581fec9fee"
      },
      "execution_count": null,
      "outputs": [
        {
          "output_type": "stream",
          "name": "stdout",
          "text": [
            "It's a palindrome\n"
          ]
        }
      ]
    },
    {
      "cell_type": "markdown",
      "source": [
        "3. Convert a string to uppercase"
      ],
      "metadata": {
        "id": "zsm46QpTdKqA"
      }
    },
    {
      "cell_type": "code",
      "source": [
        "s=\"himansu\"\n",
        "s.upper()"
      ],
      "metadata": {
        "colab": {
          "base_uri": "https://localhost:8080/",
          "height": 36
        },
        "id": "vjkg2IlodRc_",
        "outputId": "6eb13a18-3de9-47b5-c393-fae005ef6530"
      },
      "execution_count": null,
      "outputs": [
        {
          "output_type": "execute_result",
          "data": {
            "text/plain": [
              "'HIMANSU'"
            ],
            "application/vnd.google.colaboratory.intrinsic+json": {
              "type": "string"
            }
          },
          "metadata": {},
          "execution_count": 6
        }
      ]
    },
    {
      "cell_type": "markdown",
      "source": [
        "4. Convert a string to lowercase."
      ],
      "metadata": {
        "id": "iw-DZlYIdcEm"
      }
    },
    {
      "cell_type": "code",
      "source": [
        "s=\"HIMANSU\"\n",
        "s.lower()"
      ],
      "metadata": {
        "colab": {
          "base_uri": "https://localhost:8080/",
          "height": 36
        },
        "id": "nPlfA3GFdbho",
        "outputId": "cac2bcf0-d72d-4a1b-b70d-5b4fb8f8952e"
      },
      "execution_count": null,
      "outputs": [
        {
          "output_type": "execute_result",
          "data": {
            "text/plain": [
              "'himansu'"
            ],
            "application/vnd.google.colaboratory.intrinsic+json": {
              "type": "string"
            }
          },
          "metadata": {},
          "execution_count": 8
        }
      ]
    },
    {
      "cell_type": "markdown",
      "source": [
        "5. Count the number of vowels in a string.\n"
      ],
      "metadata": {
        "id": "1N89EIgZeERD"
      }
    },
    {
      "cell_type": "code",
      "source": [
        "s=\"himansu\"\n",
        "vowels=\"aeiou\"\n",
        "count=0\n",
        "for char in s:\n",
        "  if char in vowels:\n",
        "      count=count+1\n",
        "\n",
        "\n",
        "\n"
      ],
      "metadata": {
        "id": "dQgkoHJ9eHtZ"
      },
      "execution_count": null,
      "outputs": []
    },
    {
      "cell_type": "code",
      "source": [
        "count"
      ],
      "metadata": {
        "colab": {
          "base_uri": "https://localhost:8080/"
        },
        "id": "7sIYF9ffexF2",
        "outputId": "87b76798-5412-40ac-fe59-ee2d1bbb2d72"
      },
      "execution_count": null,
      "outputs": [
        {
          "output_type": "execute_result",
          "data": {
            "text/plain": [
              "3"
            ]
          },
          "metadata": {},
          "execution_count": 29
        }
      ]
    },
    {
      "cell_type": "markdown",
      "source": [
        "6. Count the number of consonants in a string"
      ],
      "metadata": {
        "id": "82nEo7UXvyiM"
      }
    },
    {
      "cell_type": "code",
      "source": [
        "s=\"himansu\"\n",
        "consonants = \"bcdfghjklmnpqrstvwxyzBCDFGHJKLMNPQRSTVWXYZ\"\n",
        "count=0\n",
        "for char in s:\n",
        "  if char in consonants:\n",
        "      count=count+1"
      ],
      "metadata": {
        "id": "HZP83ow_ie_s"
      },
      "execution_count": null,
      "outputs": []
    },
    {
      "cell_type": "code",
      "source": [
        "count"
      ],
      "metadata": {
        "colab": {
          "base_uri": "https://localhost:8080/"
        },
        "id": "CFazCFG0v3Tf",
        "outputId": "415a7a24-3169-4490-c45b-8383010ba896"
      },
      "execution_count": null,
      "outputs": [
        {
          "output_type": "execute_result",
          "data": {
            "text/plain": [
              "4"
            ]
          },
          "metadata": {},
          "execution_count": 26
        }
      ]
    },
    {
      "cell_type": "markdown",
      "source": [
        "7. Remove all whitespaces from a string.\n"
      ],
      "metadata": {
        "id": "obEpchAFKmvd"
      }
    },
    {
      "cell_type": "code",
      "source": [
        "def removeWhitespaces(st):\n",
        "  result=\"\"\n",
        "  for char in st:\n",
        "    if char!=\" \":\n",
        "      result=result+char\n",
        "  return result\n",
        "\n",
        "removeWhitespaces(\"himansu is  a  developer\")\n",
        "\n"
      ],
      "metadata": {
        "colab": {
          "base_uri": "https://localhost:8080/",
          "height": 36
        },
        "id": "6PQzIAWIKmKh",
        "outputId": "19214968-61e2-4ed2-ec0a-0581e0e9f49a"
      },
      "execution_count": null,
      "outputs": [
        {
          "output_type": "execute_result",
          "data": {
            "text/plain": [
              "'himansuisadeveloper'"
            ],
            "application/vnd.google.colaboratory.intrinsic+json": {
              "type": "string"
            }
          },
          "metadata": {},
          "execution_count": 39
        }
      ]
    },
    {
      "cell_type": "markdown",
      "source": [
        "8. Find the length of a string without using the `len()` function.\n"
      ],
      "metadata": {
        "id": "ADcjtCnpTWQG"
      }
    },
    {
      "cell_type": "code",
      "source": [
        "def stringCount(st):\n",
        "  count=0\n",
        "  for i in st:\n",
        "    count=count+1\n",
        "  return count\n",
        "stringCount(\"himansu\")"
      ],
      "metadata": {
        "colab": {
          "base_uri": "https://localhost:8080/"
        },
        "id": "q-eXMii1TaX3",
        "outputId": "b9de0c14-ff5d-43ee-9559-f3e72b20feb7"
      },
      "execution_count": null,
      "outputs": [
        {
          "output_type": "execute_result",
          "data": {
            "text/plain": [
              "7"
            ]
          },
          "metadata": {},
          "execution_count": 43
        }
      ]
    },
    {
      "cell_type": "markdown",
      "source": [
        "Check if a string contains a specific word\n"
      ],
      "metadata": {
        "id": "hHLZbLUXXE-b"
      }
    },
    {
      "cell_type": "code",
      "source": [
        "def stringSprcific(st,ch):\n",
        "  for char in st:\n",
        "    if char==ch:\n",
        "      return True\n",
        "\n",
        "stringSprcific(\"himansu\",\"m\")\n"
      ],
      "metadata": {
        "colab": {
          "base_uri": "https://localhost:8080/"
        },
        "id": "ofnixfJZXISj",
        "outputId": "c3ba6d73-868c-478f-ab15-46708ee0f2e3"
      },
      "execution_count": null,
      "outputs": [
        {
          "output_type": "execute_result",
          "data": {
            "text/plain": [
              "True"
            ]
          },
          "metadata": {},
          "execution_count": 50
        }
      ]
    },
    {
      "cell_type": "markdown",
      "source": [
        "Replace a word in a string with another word.\n"
      ],
      "metadata": {
        "id": "hTcUfRX1Xjgv"
      }
    },
    {
      "cell_type": "code",
      "source": [
        "def replaceWord(st,ch):\n",
        "       new_st=st.replace(ch,\"engineer\")\n",
        "       return new_st\n",
        "replaceWord(\"himansu is a developer\",\"developer\")"
      ],
      "metadata": {
        "colab": {
          "base_uri": "https://localhost:8080/",
          "height": 36
        },
        "id": "slDa_RykXniE",
        "outputId": "3667a5b6-aff0-4cb6-ca63-e37113755f95"
      },
      "execution_count": null,
      "outputs": [
        {
          "output_type": "execute_result",
          "data": {
            "text/plain": [
              "'himansu is a engineer'"
            ],
            "application/vnd.google.colaboratory.intrinsic+json": {
              "type": "string"
            }
          },
          "metadata": {},
          "execution_count": 59
        }
      ]
    },
    {
      "cell_type": "markdown",
      "source": [
        "11. Count the occurrences of a word in a string"
      ],
      "metadata": {
        "id": "NBBVvTLSZZA3"
      }
    },
    {
      "cell_type": "code",
      "source": [
        "def occurrenceString(st,ch):\n",
        "  count=0\n",
        "  word=st.split()\n",
        "  for char in word:\n",
        "    if ch==char:\n",
        "      count=count+1\n",
        "  return count\n",
        "occurrenceString(\"himansu is a developer and himansu is an engineer\",\"himansu\")"
      ],
      "metadata": {
        "colab": {
          "base_uri": "https://localhost:8080/"
        },
        "id": "X87vevq5Zapx",
        "outputId": "a3075600-3454-4c45-a66a-2b39ecfa75b2"
      },
      "execution_count": null,
      "outputs": [
        {
          "output_type": "execute_result",
          "data": {
            "text/plain": [
              "2"
            ]
          },
          "metadata": {},
          "execution_count": 64
        }
      ]
    },
    {
      "cell_type": "markdown",
      "source": [
        "12. Find the first occurrence of a word in a string.\n"
      ],
      "metadata": {
        "id": "VpHth9snhheN"
      }
    },
    {
      "cell_type": "code",
      "source": [
        "\n",
        "def firstOcc(st,ch):\n",
        "  index=st.find(ch)\n",
        "  if index==-1:\n",
        "    return None\n",
        "  return index\n",
        "st=\"himansu is a developer and himansu is an engineer\"\n",
        "ch=\"is\"\n",
        "firstOcc(st,ch)"
      ],
      "metadata": {
        "colab": {
          "base_uri": "https://localhost:8080/"
        },
        "id": "zybZkSrzhiOQ",
        "outputId": "909db25c-defe-4d84-fe44-192eeeba34df"
      },
      "execution_count": null,
      "outputs": [
        {
          "output_type": "execute_result",
          "data": {
            "text/plain": [
              "8"
            ]
          },
          "metadata": {},
          "execution_count": 74
        }
      ]
    },
    {
      "cell_type": "markdown",
      "source": [
        "13. Find the last occurrence of a word in a string\n",
        "\n",
        "\n",
        "\n"
      ],
      "metadata": {
        "id": "T_Na0cRG56_5"
      }
    },
    {
      "cell_type": "code",
      "source": [
        "def lastOcc2(st,ch):\n",
        "  index=st.rfind(ch)\n",
        "  if index==-1:\n",
        "    return None\n",
        "  return index\n",
        "st=\"himansu is a developer and himansu is an engineer\"\n",
        "ch=\"is\"\n",
        "lastOcc2(st,ch)\n"
      ],
      "metadata": {
        "colab": {
          "base_uri": "https://localhost:8080/"
        },
        "id": "rbMYyNJ_9Md4",
        "outputId": "0ca17192-bf6e-47fb-9469-b0a8cfecb779"
      },
      "execution_count": null,
      "outputs": [
        {
          "output_type": "execute_result",
          "data": {
            "text/plain": [
              "35"
            ]
          },
          "metadata": {},
          "execution_count": 5
        }
      ]
    },
    {
      "cell_type": "markdown",
      "source": [
        "14. Split a string into a list of words."
      ],
      "metadata": {
        "id": "9imOmVai-k1N"
      }
    },
    {
      "cell_type": "code",
      "source": [
        "st=\"himansu is a developer\"\n",
        "word=st.split()\n",
        "word"
      ],
      "metadata": {
        "colab": {
          "base_uri": "https://localhost:8080/"
        },
        "id": "K5O1U6yG-nkk",
        "outputId": "9e8c206a-c56a-48cb-b8cc-731fdaa49c36"
      },
      "execution_count": null,
      "outputs": [
        {
          "output_type": "execute_result",
          "data": {
            "text/plain": [
              "['himansu', 'is', 'a', 'developer']"
            ]
          },
          "metadata": {},
          "execution_count": 10
        }
      ]
    },
    {
      "cell_type": "markdown",
      "source": [
        "\n",
        "\n",
        "15. Join a list of words into a string."
      ],
      "metadata": {
        "id": "B0ivpL3A-6fV"
      }
    },
    {
      "cell_type": "code",
      "source": [
        "def join_string(word):\n",
        "  joined_word=\"\".join(word)\n",
        "  return joined_word\n",
        "word=\"This is an example\"\n",
        "text=join_string(word)\n",
        "print(\"joined string\",text)"
      ],
      "metadata": {
        "colab": {
          "base_uri": "https://localhost:8080/"
        },
        "id": "NIekagXV-5ue",
        "outputId": "0aebc5f8-ba79-48ea-c63b-bedfe3ee9f17"
      },
      "execution_count": null,
      "outputs": [
        {
          "output_type": "stream",
          "name": "stdout",
          "text": [
            "joined string This is an example\n"
          ]
        }
      ]
    },
    {
      "cell_type": "markdown",
      "source": [
        "16. Convert a string where words are separated by spaces to one where words\n",
        "are separated by underscores"
      ],
      "metadata": {
        "id": "D9o5gH4hCRV0"
      }
    },
    {
      "cell_type": "code",
      "source": [
        "def String_space_to_UnderScores(st):\n",
        "  word=st.replace(\" \",\"_\")\n",
        "  return word\n",
        "st=\"himansu is a developer\"\n",
        "print(String_space_to_UnderScores(st))\n",
        "\n"
      ],
      "metadata": {
        "colab": {
          "base_uri": "https://localhost:8080/"
        },
        "id": "P7dBu2VLCU5J",
        "outputId": "39ed0881-97af-434e-d7ec-f592520513ed"
      },
      "execution_count": null,
      "outputs": [
        {
          "output_type": "stream",
          "name": "stdout",
          "text": [
            "himansu_is_a_developer\n"
          ]
        }
      ]
    },
    {
      "cell_type": "markdown",
      "source": [
        "17. Check if a string starts with a specific word or phrase.\n"
      ],
      "metadata": {
        "id": "C7wOI3qAEfB9"
      }
    },
    {
      "cell_type": "code",
      "source": [
        "def start_specific_word(st,ch):\n",
        "  lst=st.split()\n",
        "  if lst[0]==ch:\n",
        "    return True\n",
        "st=\"himansu is a developer\"\n",
        "ch=\"himansu\"\n",
        "start_specific_word(st,ch)"
      ],
      "metadata": {
        "id": "U74kaoLnEfuu"
      },
      "execution_count": null,
      "outputs": []
    },
    {
      "cell_type": "markdown",
      "source": [
        "18. Check if a string ends with a specific word or phrase.\n"
      ],
      "metadata": {
        "id": "lGdk9BZuF28o"
      }
    },
    {
      "cell_type": "code",
      "source": [
        "def ends_specific_word(st,ch):\n",
        "  is_end=st.endswith(ch)\n",
        "  return is_end\n",
        "st=\"himansu is a developer\"\n",
        "ch=\"developer\"\n",
        "ends_specific_word(st,ch)"
      ],
      "metadata": {
        "colab": {
          "base_uri": "https://localhost:8080/"
        },
        "id": "dOGxQvXEF3oU",
        "outputId": "fb855f4b-eddf-4ca1-a0c2-47a21a56475c"
      },
      "execution_count": null,
      "outputs": [
        {
          "output_type": "execute_result",
          "data": {
            "text/plain": [
              "True"
            ]
          },
          "metadata": {},
          "execution_count": 20
        }
      ]
    },
    {
      "cell_type": "markdown",
      "source": [
        "19. Convert a string to title case (e.g., \"hello world\" to \"Hello World\").\n"
      ],
      "metadata": {
        "id": "fSTDl_iIHSDw"
      }
    },
    {
      "cell_type": "code",
      "source": [
        "st=\"hello world\"\n",
        "s=st.title()\n",
        "s"
      ],
      "metadata": {
        "colab": {
          "base_uri": "https://localhost:8080/",
          "height": 36
        },
        "id": "9jH-0BMUHUha",
        "outputId": "d8569533-e8ca-44e7-bfd2-03208031fabc"
      },
      "execution_count": null,
      "outputs": [
        {
          "output_type": "execute_result",
          "data": {
            "text/plain": [
              "'Hello World'"
            ],
            "application/vnd.google.colaboratory.intrinsic+json": {
              "type": "string"
            }
          },
          "metadata": {},
          "execution_count": 22
        }
      ]
    },
    {
      "cell_type": "markdown",
      "source": [
        "20. Find the longest word in a string.\n"
      ],
      "metadata": {
        "id": "d3pHk3dgHmEn"
      }
    },
    {
      "cell_type": "code",
      "source": [
        "def longest_string(st):\n",
        "  lst=st.split()\n",
        "  max_length=0\n",
        "  longest_word=\"\"\n",
        "  for char in lst:\n",
        "    if len(char)>max_length:\n",
        "      max_length=len(char)\n",
        "      longest_word=char\n",
        "  return longest_word\n",
        "st=\"himansu is a developer\"\n",
        "longest_string(st)"
      ],
      "metadata": {
        "colab": {
          "base_uri": "https://localhost:8080/",
          "height": 36
        },
        "id": "PNjxnTBtHm4_",
        "outputId": "1c688c64-9851-4aa6-96bd-a91f761eb8bf"
      },
      "execution_count": null,
      "outputs": [
        {
          "output_type": "execute_result",
          "data": {
            "text/plain": [
              "'developer'"
            ],
            "application/vnd.google.colaboratory.intrinsic+json": {
              "type": "string"
            }
          },
          "metadata": {},
          "execution_count": 24
        }
      ]
    },
    {
      "cell_type": "markdown",
      "source": [
        "Find the shortest word in a string"
      ],
      "metadata": {
        "id": "rvEs127nUKTE"
      }
    },
    {
      "cell_type": "code",
      "source": [
        "def shortest_string(st):\n",
        "  lst=st.split()\n",
        "  min_length=len(lst[0])\n",
        "  shortest_word=\"\"\n",
        "  for char in lst:\n",
        "    if len(char)<min_length:\n",
        "      min_length=len(char)\n",
        "      shortest_word=char\n",
        "  return shortest_word\n",
        "st=\"himansu is a developer\"\n",
        "shortest_string(st)\n"
      ],
      "metadata": {
        "colab": {
          "base_uri": "https://localhost:8080/",
          "height": 36
        },
        "id": "0wrf5-n4UOGl",
        "outputId": "1828d1f1-90d4-467d-f609-61874888035d"
      },
      "execution_count": null,
      "outputs": [
        {
          "output_type": "execute_result",
          "data": {
            "text/plain": [
              "'a'"
            ],
            "application/vnd.google.colaboratory.intrinsic+json": {
              "type": "string"
            }
          },
          "metadata": {},
          "execution_count": 27
        }
      ]
    },
    {
      "cell_type": "markdown",
      "source": [
        "22. Reverse the order of words in a string.\n"
      ],
      "metadata": {
        "id": "6pCUJa5mWFM6"
      }
    },
    {
      "cell_type": "code",
      "source": [
        "def reverse_Order_string(st):\n",
        "  word=\"\"\n",
        "  for char in st:\n",
        "    word=char+word\n",
        "\n",
        "\n",
        "  return word\n",
        "st=\"himansu is a developer\"\n",
        "reverse_Order_string(st)\n",
        "\n"
      ],
      "metadata": {
        "colab": {
          "base_uri": "https://localhost:8080/",
          "height": 36
        },
        "id": "3kuG3_CEWGcR",
        "outputId": "adf6d472-6c77-4a3d-e14c-fd911edad33a"
      },
      "execution_count": null,
      "outputs": [
        {
          "output_type": "execute_result",
          "data": {
            "text/plain": [
              "'repoleved a si usnamih'"
            ],
            "application/vnd.google.colaboratory.intrinsic+json": {
              "type": "string"
            }
          },
          "metadata": {},
          "execution_count": 33
        }
      ]
    },
    {
      "cell_type": "markdown",
      "source": [
        "23. Check if a string is alphanumeric.\n"
      ],
      "metadata": {
        "id": "HS-zKdLkckok"
      }
    },
    {
      "cell_type": "code",
      "source": [
        "def is_alpha_numeric(st):\n",
        "  if st.isalnum():\n",
        "    return True\n",
        "st=\"himansu123\"\n",
        "is_alpha_numeric(st)"
      ],
      "metadata": {
        "colab": {
          "base_uri": "https://localhost:8080/"
        },
        "id": "RlhUuiuZcjtL",
        "outputId": "d778a3e0-4cb9-4830-9054-fbe8834f411b"
      },
      "execution_count": null,
      "outputs": [
        {
          "output_type": "execute_result",
          "data": {
            "text/plain": [
              "True"
            ]
          },
          "metadata": {},
          "execution_count": 34
        }
      ]
    },
    {
      "cell_type": "markdown",
      "source": [
        "24. Extract all digits from a string.\n"
      ],
      "metadata": {
        "id": "YLLbZvA-fcVR"
      }
    },
    {
      "cell_type": "code",
      "source": [
        "def extract_digit(st):\n",
        "  digit=\"\"\n",
        "  for char in st:\n",
        "    if char.isdigit():\n",
        "      digit=char+digit\n",
        "  return digit\n",
        "st=\"himansu123\"\n",
        "extract_digit(st)\n"
      ],
      "metadata": {
        "colab": {
          "base_uri": "https://localhost:8080/",
          "height": 36
        },
        "id": "HLszigkRfe_6",
        "outputId": "d8bb971a-501c-425d-d77e-b68caf2d96c5"
      },
      "execution_count": null,
      "outputs": [
        {
          "output_type": "execute_result",
          "data": {
            "text/plain": [
              "'321'"
            ],
            "application/vnd.google.colaboratory.intrinsic+json": {
              "type": "string"
            }
          },
          "metadata": {},
          "execution_count": 36
        }
      ]
    },
    {
      "cell_type": "markdown",
      "source": [
        "25. Extract all alphabets from a string.\n"
      ],
      "metadata": {
        "id": "3mpIjghtha7J"
      }
    },
    {
      "cell_type": "code",
      "source": [
        "def extract_digit(st):\n",
        "  digit=\"\"\n",
        "  for char in st:\n",
        "    if char.isalpha():\n",
        "      digit=digit+char\n",
        "  return digit\n",
        "st=\"himansu123\"\n",
        "extract_digit(st)"
      ],
      "metadata": {
        "colab": {
          "base_uri": "https://localhost:8080/",
          "height": 36
        },
        "id": "QOpuEyQ8hcBT",
        "outputId": "6776b005-152d-4db0-feff-688dfcd81ad4"
      },
      "execution_count": null,
      "outputs": [
        {
          "output_type": "execute_result",
          "data": {
            "text/plain": [
              "'himansu'"
            ],
            "application/vnd.google.colaboratory.intrinsic+json": {
              "type": "string"
            }
          },
          "metadata": {},
          "execution_count": 39
        }
      ]
    },
    {
      "cell_type": "markdown",
      "source": [
        "26. Count the number of uppercase letters in a string.\n"
      ],
      "metadata": {
        "id": "H_Uj3F9a1spG"
      }
    },
    {
      "cell_type": "code",
      "source": [
        "def to_check_uppercase(st):\n",
        "  upper_case=sum(1 for char in st if char.isupper())\n",
        "  return upper_case\n",
        "st=\"HimANsu\"\n",
        "to_check_uppercase(st)\n",
        "\n"
      ],
      "metadata": {
        "colab": {
          "base_uri": "https://localhost:8080/"
        },
        "id": "cRfI-cDs1trU",
        "outputId": "28813acb-1bf3-445d-f3dc-1501619001e0"
      },
      "execution_count": null,
      "outputs": [
        {
          "output_type": "execute_result",
          "data": {
            "text/plain": [
              "3"
            ]
          },
          "metadata": {},
          "execution_count": 41
        }
      ]
    },
    {
      "cell_type": "markdown",
      "source": [
        "27. Count the number of lowercase letters in a string.\n"
      ],
      "metadata": {
        "id": "-pZyseRp5nDH"
      }
    },
    {
      "cell_type": "code",
      "source": [
        "def to_check_uppercase(st):\n",
        "  upper_case=sum(1 for char in st if char.islower())\n",
        "  return upper_case\n",
        "st=\"HimANsu\"\n",
        "to_check_uppercase(st)"
      ],
      "metadata": {
        "colab": {
          "base_uri": "https://localhost:8080/"
        },
        "id": "aNzje_wD2bTr",
        "outputId": "07d677bd-d27f-4748-a52d-829685ce837e"
      },
      "execution_count": null,
      "outputs": [
        {
          "output_type": "execute_result",
          "data": {
            "text/plain": [
              "4"
            ]
          },
          "metadata": {},
          "execution_count": 42
        }
      ]
    },
    {
      "cell_type": "markdown",
      "source": [
        "28. Swap the case of each character in a string"
      ],
      "metadata": {
        "id": "NRLQc3cY57Cd"
      }
    },
    {
      "cell_type": "code",
      "source": [
        "def Swap_case(st):\n",
        "  swapcase=st.swapcase()\n",
        "  return swapcase\n",
        "st=\"HImaNsu\"\n",
        "Swap_case(st)"
      ],
      "metadata": {
        "colab": {
          "base_uri": "https://localhost:8080/",
          "height": 36
        },
        "id": "B5gAdWqS6CpZ",
        "outputId": "1f229dde-60eb-4028-ca7e-1d2cdc1d6fec"
      },
      "execution_count": null,
      "outputs": [
        {
          "output_type": "execute_result",
          "data": {
            "text/plain": [
              "'hiMAnSU'"
            ],
            "application/vnd.google.colaboratory.intrinsic+json": {
              "type": "string"
            }
          },
          "metadata": {},
          "execution_count": 44
        }
      ]
    },
    {
      "cell_type": "markdown",
      "source": [
        "29. Remove a specific word from a string.\n"
      ],
      "metadata": {
        "id": "d2StJPbb7ped"
      }
    },
    {
      "cell_type": "code",
      "source": [
        "def remove_specific_word(st,ch):\n",
        "  result=\"\"\n",
        "  for char in st:\n",
        "    if char==ch:\n",
        "      continue\n",
        "    result=result+char\n",
        "  return result\n",
        "remove_specific_word(\"himansu\",\"m\")"
      ],
      "metadata": {
        "colab": {
          "base_uri": "https://localhost:8080/",
          "height": 36
        },
        "id": "ItoEVKEY7rNm",
        "outputId": "29355480-c673-4f56-8db2-c27cf616c34c"
      },
      "execution_count": null,
      "outputs": [
        {
          "output_type": "execute_result",
          "data": {
            "text/plain": [
              "'hiansu'"
            ],
            "application/vnd.google.colaboratory.intrinsic+json": {
              "type": "string"
            }
          },
          "metadata": {},
          "execution_count": 47
        }
      ]
    },
    {
      "cell_type": "markdown",
      "source": [
        "\n",
        "30. Check if a string is a valid email address"
      ],
      "metadata": {
        "id": "S2N7-J9Q9d1_"
      }
    },
    {
      "cell_type": "code",
      "source": [
        "def check_email_address(email):\n",
        "  if email.count(\"@\")==1:\n",
        "    if \".\" in email:\n",
        "      return True\n",
        "email=\"himansu@gmail.com\"\n",
        "check_email_address(email)\n",
        "\n"
      ],
      "metadata": {
        "colab": {
          "base_uri": "https://localhost:8080/"
        },
        "id": "woIL46_-9gzL",
        "outputId": "26bbcbf5-b5dc-42fb-ec30-1e94cb164926"
      },
      "execution_count": null,
      "outputs": [
        {
          "output_type": "execute_result",
          "data": {
            "text/plain": [
              "True"
            ]
          },
          "metadata": {},
          "execution_count": 52
        }
      ]
    },
    {
      "cell_type": "markdown",
      "source": [
        "31. Extract the username from an email address string.\n"
      ],
      "metadata": {
        "id": "MGAhXzEAAVqK"
      }
    },
    {
      "cell_type": "code",
      "source": [
        "def extract_username(email):\n",
        "  username=email.split(\"@\")[0]\n",
        "  return username\n",
        "email=\"himansu@gmail.com\"\n",
        "extract_username(email)"
      ],
      "metadata": {
        "colab": {
          "base_uri": "https://localhost:8080/",
          "height": 36
        },
        "id": "rXDX4vHyAXq2",
        "outputId": "4037aa61-e607-4857-a4a7-c7f83c5cddb4"
      },
      "execution_count": null,
      "outputs": [
        {
          "output_type": "execute_result",
          "data": {
            "text/plain": [
              "'himansu'"
            ],
            "application/vnd.google.colaboratory.intrinsic+json": {
              "type": "string"
            }
          },
          "metadata": {},
          "execution_count": 53
        }
      ]
    },
    {
      "cell_type": "markdown",
      "source": [
        "32. Extract the domain name from an email address string.\n"
      ],
      "metadata": {
        "id": "nbO9U5u4BD5c"
      }
    },
    {
      "cell_type": "code",
      "source": [
        "def extract_domain_name(email):\n",
        "  domain_name=email.split(\".\")[1]\n",
        "  return domain_name\n",
        "email=\"himansu@gmail.com\"\n",
        "extract_domain_name(email)"
      ],
      "metadata": {
        "colab": {
          "base_uri": "https://localhost:8080/",
          "height": 36
        },
        "id": "5pQwlbx3BEfY",
        "outputId": "48e03b78-448e-4944-ec9e-aa03449d6300"
      },
      "execution_count": null,
      "outputs": [
        {
          "output_type": "execute_result",
          "data": {
            "text/plain": [
              "'com'"
            ],
            "application/vnd.google.colaboratory.intrinsic+json": {
              "type": "string"
            }
          },
          "metadata": {},
          "execution_count": 55
        }
      ]
    },
    {
      "cell_type": "markdown",
      "source": [
        "33. Replace multiple spaces in a string with a single space"
      ],
      "metadata": {
        "id": "YfKA7DGzCjUT"
      }
    },
    {
      "cell_type": "code",
      "source": [
        "def multiple_space(st):\n",
        "  s=\" \".join(st.split())\n",
        "  return s\n",
        "st=\"himansu    is   a  developer\"\n",
        "multiple_space(st)"
      ],
      "metadata": {
        "colab": {
          "base_uri": "https://localhost:8080/",
          "height": 36
        },
        "id": "79Ct6TaQCiB3",
        "outputId": "058f2257-28f6-44ca-dddb-73bb8135d580"
      },
      "execution_count": null,
      "outputs": [
        {
          "output_type": "execute_result",
          "data": {
            "text/plain": [
              "'himansu is a developer'"
            ],
            "application/vnd.google.colaboratory.intrinsic+json": {
              "type": "string"
            }
          },
          "metadata": {},
          "execution_count": 61
        }
      ]
    },
    {
      "cell_type": "markdown",
      "source": [
        "34. Check if a string is a valid URL.\n"
      ],
      "metadata": {
        "id": "nxyXDKM_ICc4"
      }
    },
    {
      "cell_type": "code",
      "source": [
        "from urllib.parse import urlparse\n",
        "def is_valid(url):\n",
        "  try:\n",
        "    result=urlparse(url)\n",
        "    return all([result.scheme,result.netloc])\n",
        "  except ValueError:\n",
        "    return False\n",
        "is_valid(\"https://www.example.com\")"
      ],
      "metadata": {
        "colab": {
          "base_uri": "https://localhost:8080/"
        },
        "id": "7PbyLgZZIDVO",
        "outputId": "bafb392c-2d7b-4fb1-9843-576069ce8701"
      },
      "execution_count": null,
      "outputs": [
        {
          "output_type": "execute_result",
          "data": {
            "text/plain": [
              "True"
            ]
          },
          "metadata": {},
          "execution_count": 63
        }
      ]
    },
    {
      "cell_type": "markdown",
      "source": [
        "35. Extract the protocol (http or https) from a URL string."
      ],
      "metadata": {
        "id": "rjoOGs8NMOfJ"
      }
    },
    {
      "cell_type": "code",
      "source": [
        "def extract_protocol(url):\n",
        "  protocol=url.split(\":\")[0]\n",
        "  return protocol\n",
        "extract_protocol(\"https://www.example.com\")"
      ],
      "metadata": {
        "colab": {
          "base_uri": "https://localhost:8080/",
          "height": 36
        },
        "id": "7RmivqTyMVFC",
        "outputId": "29305ecd-1da1-4de0-fd14-c1ba5c2e3aa9"
      },
      "execution_count": null,
      "outputs": [
        {
          "output_type": "execute_result",
          "data": {
            "text/plain": [
              "'https'"
            ],
            "application/vnd.google.colaboratory.intrinsic+json": {
              "type": "string"
            }
          },
          "metadata": {},
          "execution_count": 64
        }
      ]
    },
    {
      "cell_type": "markdown",
      "source": [
        "36. Find the frequency of each character in a string."
      ],
      "metadata": {
        "id": "EMkTBOuXNPAY"
      }
    },
    {
      "cell_type": "code",
      "source": [
        "def character_frequency(input_string):\n",
        "    frequency = {}  # Create an empty dictionary to store character frequencies\n",
        "\n",
        "    for char in input_string:\n",
        "        if char in frequency:\n",
        "            frequency[char] += 1  # Increment the frequency count if the character is already in the dictionary\n",
        "        else:\n",
        "            frequency[char] = 1   # Initialize the frequency count to 1 if the character is not in the dictionary\n",
        "\n",
        "    return frequency\n",
        "\n",
        "# Example string\n",
        "input_str = \"hello world\"\n",
        "\n",
        "# Calculate character frequencies\n",
        "char_freq = character_frequency(input_str)\n",
        "\n",
        "# Print character frequencies\n",
        "for char, freq in char_freq.items():\n",
        "    print(f\"Character: '{char}', Frequency: {freq}\")"
      ],
      "metadata": {
        "colab": {
          "base_uri": "https://localhost:8080/"
        },
        "id": "oiOfmzIeNTh5",
        "outputId": "136df3fd-d66b-486f-beb7-1f0583a52897"
      },
      "execution_count": null,
      "outputs": [
        {
          "output_type": "stream",
          "name": "stdout",
          "text": [
            "Character: 'h', Frequency: 1\n",
            "Character: 'e', Frequency: 1\n",
            "Character: 'l', Frequency: 3\n",
            "Character: 'o', Frequency: 2\n",
            "Character: ' ', Frequency: 1\n",
            "Character: 'w', Frequency: 1\n",
            "Character: 'r', Frequency: 1\n",
            "Character: 'd', Frequency: 1\n"
          ]
        }
      ]
    },
    {
      "cell_type": "markdown",
      "source": [
        "37. Remove all punctuation from a string."
      ],
      "metadata": {
        "id": "G6TXiSmoQ8fy"
      }
    },
    {
      "cell_type": "code",
      "source": [
        "import string\n",
        "\n",
        "def remove_punctuation(input_string):\n",
        "    # Create a translation table to remove punctuation\n",
        "    translator = str.maketrans(\"\", \"\", string.punctuation)\n",
        "\n",
        "    # Use the translation table to remove punctuation from the input string\n",
        "    clean_string = input_string.translate(translator)\n",
        "\n",
        "    return clean_string\n",
        "\n",
        "# Example string with punctuation\n",
        "input_str = \"Hello, world! How's it going?\"\n",
        "\n",
        "# Remove punctuation\n",
        "cleaned_str = remove_punctuation(input_str)\n",
        "\n",
        "# Print the cleaned string\n",
        "print(\"Original string:\", input_str)\n",
        "print(\"Cleaned string:\", cleaned_str)"
      ],
      "metadata": {
        "colab": {
          "base_uri": "https://localhost:8080/"
        },
        "id": "cncBP9oNQ9TE",
        "outputId": "c33bbdc3-dc7c-4e69-f8d3-32962fc0d4af"
      },
      "execution_count": null,
      "outputs": [
        {
          "output_type": "stream",
          "name": "stdout",
          "text": [
            "Original string: Hello, world! How's it going?\n",
            "Cleaned string: Hello world Hows it going\n"
          ]
        }
      ]
    },
    {
      "cell_type": "markdown",
      "source": [
        "\n",
        "38. Check if a string contains only digits"
      ],
      "metadata": {
        "id": "Ia1MEvabNqBe"
      }
    },
    {
      "cell_type": "code",
      "source": [
        "def string_digit(st):\n",
        "  return st.isdigit()\n",
        "st=\"12himansu\"\n",
        "string_digit(st)"
      ],
      "metadata": {
        "id": "lHyFMQz6SRu7",
        "colab": {
          "base_uri": "https://localhost:8080/"
        },
        "outputId": "90f5d6c3-fa51-4ccb-e15a-2be00c502c7e"
      },
      "execution_count": null,
      "outputs": [
        {
          "output_type": "execute_result",
          "data": {
            "text/plain": [
              "False"
            ]
          },
          "metadata": {},
          "execution_count": 1
        }
      ]
    },
    {
      "cell_type": "markdown",
      "source": [
        "39. Check if a string contains only alphabets.\n",
        "\n",
        "\n",
        "\n"
      ],
      "metadata": {
        "id": "a1z-6MZ9VyN5"
      }
    },
    {
      "cell_type": "code",
      "source": [
        "def string_alphabet(st):\n",
        "  return st.isalpha()\n",
        "st=\"himansu12\"\n",
        "string_alphabet(st)\n"
      ],
      "metadata": {
        "colab": {
          "base_uri": "https://localhost:8080/"
        },
        "id": "ib9TpqlcV1Qn",
        "outputId": "1c84b337-964d-4224-c5b0-452fd251b95c"
      },
      "execution_count": null,
      "outputs": [
        {
          "output_type": "execute_result",
          "data": {
            "text/plain": [
              "False"
            ]
          },
          "metadata": {},
          "execution_count": 3
        }
      ]
    },
    {
      "cell_type": "markdown",
      "source": [
        "40. Convert a string to a list of characters.\n"
      ],
      "metadata": {
        "id": "rj1nUcCdXDz6"
      }
    },
    {
      "cell_type": "code",
      "source": [
        "def string_list(st):\n",
        "  return list(st)\n",
        "st=\"himansu\"\n",
        "string_list(st)"
      ],
      "metadata": {
        "colab": {
          "base_uri": "https://localhost:8080/"
        },
        "id": "EQ-DohfLXEdK",
        "outputId": "9d5a8f63-4145-4acb-ce8a-f90d0c8b1211"
      },
      "execution_count": null,
      "outputs": [
        {
          "output_type": "execute_result",
          "data": {
            "text/plain": [
              "['h', 'i', 'm', 'a', 'n', 's', 'u']"
            ]
          },
          "metadata": {},
          "execution_count": 5
        }
      ]
    },
    {
      "cell_type": "markdown",
      "source": [
        "41. Check if two strings are anagrams.\n"
      ],
      "metadata": {
        "id": "uUw96jbvYBnn"
      }
    },
    {
      "cell_type": "code",
      "source": [
        "def are_anagrams(str1, str2):\n",
        "    # Remove spaces and convert strings to lowercase for accurate comparison\n",
        "    str1 = str1.replace(\" \", \"\").lower()\n",
        "    str2 = str2.replace(\" \", \"\").lower()\n",
        "\n",
        "    # Sort the characters in both strings and compare\n",
        "    return sorted(str1) == sorted(str2)\n",
        "\n",
        "# Example strings\n",
        "string1 = \"listen\"\n",
        "string2 = \"silent\"\n",
        "string3 = \"hello\"\n",
        "string4 = \"world\"\n",
        "\n",
        "# Check if strings are anagrams\n",
        "result1 = are_anagrams(string1, string2)\n",
        "result2 = are_anagrams(string3, string4)\n",
        "\n",
        "# Print the results\n",
        "print(f\"'{string1}' and '{string2}' are anagrams:\", result1)\n",
        "print(f\"'{string3}' and '{string4}' are anagrams:\", result2)"
      ],
      "metadata": {
        "colab": {
          "base_uri": "https://localhost:8080/"
        },
        "id": "Mrk_Bd7WYCSl",
        "outputId": "ba3f39cb-c7ea-41db-d252-3fa87e750250"
      },
      "execution_count": null,
      "outputs": [
        {
          "output_type": "stream",
          "name": "stdout",
          "text": [
            "'listen' and 'silent' are anagrams: True\n",
            "'hello' and 'world' are anagrams: False\n"
          ]
        }
      ]
    },
    {
      "cell_type": "markdown",
      "source": [
        "42. Encode a string using a Caesar cipher.\n"
      ],
      "metadata": {
        "id": "Qjo5-b51Y5ss"
      }
    },
    {
      "cell_type": "code",
      "source": [
        "def caesar_cipher(st,shift):\n",
        "  encoded_text=\"\"\n",
        "  for char in st:\n",
        "    if char.isalpha():\n",
        "       encoded_char = chr((ord(char) + shift - ord('a')) % 26 + ord('a'))\n",
        "    else:\n",
        "      encoded_char=char\n",
        "    encoded_text+=encoded_char\n",
        "  return encoded_text\n",
        "st=\"himansu123\"\n",
        "shift=3\n",
        "caesar_cipher(st,shift)\n",
        "\n",
        "\n"
      ],
      "metadata": {
        "colab": {
          "base_uri": "https://localhost:8080/",
          "height": 36
        },
        "id": "MBGsFXu2Y6ej",
        "outputId": "2353879f-9920-483b-f3c9-735cb831522f"
      },
      "execution_count": null,
      "outputs": [
        {
          "output_type": "execute_result",
          "data": {
            "text/plain": [
              "'klpdqvx123'"
            ],
            "application/vnd.google.colaboratory.intrinsic+json": {
              "type": "string"
            }
          },
          "metadata": {},
          "execution_count": 12
        }
      ]
    },
    {
      "cell_type": "markdown",
      "source": [
        "43. Decode a Caesar cipher encoded string."
      ],
      "metadata": {
        "id": "3rPGvgEEeP9g"
      }
    },
    {
      "cell_type": "code",
      "source": [
        "def caesar_cipher(st,shift):\n",
        "  decoded_text=\"\"\n",
        "  for char in st:\n",
        "    if char.isalpha():\n",
        "       decoded_char = chr((ord(char) - shift - ord('a')) % 26 + ord('a'))\n",
        "    else:\n",
        "      decoded_char=char\n",
        "    decoded_text+=decoded_char\n",
        "  return decoded_text\n",
        "st=\"klpdqvx123\"\n",
        "shift=3\n",
        "caesar_cipher(st,shift)"
      ],
      "metadata": {
        "colab": {
          "base_uri": "https://localhost:8080/",
          "height": 36
        },
        "id": "gAqXde_IeT5j",
        "outputId": "f195e11c-c659-4f26-a21f-bf4c0bffc394"
      },
      "execution_count": null,
      "outputs": [
        {
          "output_type": "execute_result",
          "data": {
            "text/plain": [
              "'himansu123'"
            ],
            "application/vnd.google.colaboratory.intrinsic+json": {
              "type": "string"
            }
          },
          "metadata": {},
          "execution_count": 14
        }
      ]
    },
    {
      "cell_type": "markdown",
      "source": [
        "\n",
        "44. Find the most frequent word in a string."
      ],
      "metadata": {
        "id": "Wb2N8U4rexW3"
      }
    },
    {
      "cell_type": "code",
      "source": [
        "import re\n",
        "from collections import Counter\n",
        "\n",
        "def most_frequent_word(input_string):\n",
        "    # Remove punctuation and convert to lowercase\n",
        "    clean_string = re.sub(r'[^\\w\\s]', '', input_string).lower()\n",
        "\n",
        "    # Split the string into words\n",
        "    words = clean_string.split()\n",
        "\n",
        "    # Use Counter to count word frequencies\n",
        "    word_counter = Counter(words)\n",
        "\n",
        "    # Find the most common word\n",
        "    most_common_word = word_counter.most_common(1)[0][0]\n",
        "\n",
        "    return most_common_word\n",
        "\n",
        "# Example string\n",
        "input_str = \"Hello world, hello there! How's the world?\"\n",
        "\n",
        "# Find the most frequent word\n",
        "most_common = most_frequent_word(input_str)\n",
        "\n",
        "# Print the result\n",
        "print(\"Most frequent word:\", most_common)"
      ],
      "metadata": {
        "colab": {
          "base_uri": "https://localhost:8080/"
        },
        "id": "_Fs88iP8e0pk",
        "outputId": "b1c0534c-c815-4c93-f195-0a9eb6b19c07"
      },
      "execution_count": null,
      "outputs": [
        {
          "output_type": "stream",
          "name": "stdout",
          "text": [
            "Most frequent word: hello\n"
          ]
        }
      ]
    },
    {
      "cell_type": "markdown",
      "source": [
        "45. Find all unique words in a string."
      ],
      "metadata": {
        "id": "TIgR1qXwffHk"
      }
    },
    {
      "cell_type": "code",
      "source": [
        "import re\n",
        "\n",
        "def unique_words(input_string):\n",
        "    # Remove punctuation and convert to lowercase\n",
        "    clean_string = re.sub(r'[^\\w\\s]', '', input_string).lower()\n",
        "\n",
        "    # Split the string into words and convert to a set for uniqueness\n",
        "    words = set(clean_string.split())\n",
        "\n",
        "    return words\n",
        "\n",
        "# Example string\n",
        "input_str = \"Hello world, hello there! How's the world?\"\n",
        "\n",
        "# Find unique words\n",
        "unique_word_set = unique_words(input_str)\n",
        "\n",
        "# Print the result\n",
        "print(\"Unique words:\", unique_word_set)"
      ],
      "metadata": {
        "colab": {
          "base_uri": "https://localhost:8080/"
        },
        "id": "AEbyW9abfeBr",
        "outputId": "fb2db310-6503-4b20-82a4-4b11c8d083e4"
      },
      "execution_count": null,
      "outputs": [
        {
          "output_type": "stream",
          "name": "stdout",
          "text": [
            "Unique words: {'the', 'there', 'world', 'hello', 'hows'}\n"
          ]
        }
      ]
    },
    {
      "cell_type": "markdown",
      "source": [
        "46. Count the number of syllables in a string."
      ],
      "metadata": {
        "id": "Z4wUPBQ0f2EJ"
      }
    },
    {
      "cell_type": "code",
      "source": [
        "import re\n",
        "\n",
        "def count_syllables(word):\n",
        "    # Count vowel groups using regular expression\n",
        "    vowel_groups = re.findall(r'[aeiouy]+', word, re.IGNORECASE)\n",
        "\n",
        "    return len(vowel_groups)\n",
        "\n",
        "# Example words\n",
        "word1 = \"hello\"\n",
        "word2 = \"banana\"\n",
        "word3 = \"syllable\"\n",
        "\n",
        "# Count syllables\n",
        "syllables1 = count_syllables(word1)\n",
        "syllables2 = count_syllables(word2)\n",
        "syllables3 = count_syllables(word3)\n",
        "\n",
        "# Print the results\n",
        "print(f\"'{word1}' has {syllables1} syllables.\")\n",
        "print(f\"'{word2}' has {syllables2} syllables.\")\n",
        "print(f\"'{word3}' has {syllables3} syllables.\")"
      ],
      "metadata": {
        "colab": {
          "base_uri": "https://localhost:8080/"
        },
        "id": "jKHEAqTBfwM6",
        "outputId": "cda1513e-31b5-4e60-ebb3-9029f175552a"
      },
      "execution_count": null,
      "outputs": [
        {
          "output_type": "stream",
          "name": "stdout",
          "text": [
            "'hello' has 2 syllables.\n",
            "'banana' has 3 syllables.\n",
            "'syllable' has 3 syllables.\n"
          ]
        }
      ]
    },
    {
      "cell_type": "markdown",
      "source": [
        "47. Check if a string contains any special characters."
      ],
      "metadata": {
        "id": "SPCk74V7gKJy"
      }
    },
    {
      "cell_type": "code",
      "source": [
        "import re\n",
        "\n",
        "def contains_special_characters(input_string):\n",
        "    # Define a regular expression pattern to match special characters\n",
        "    pattern = re.compile(r'[!@#$%^&*()_+{}\\[\\]:;<>,.?~\\\\/]')\n",
        "\n",
        "    # Use the search() method to find a match\n",
        "    match = pattern.search(input_string)\n",
        "\n",
        "    # Return True if a match is found, False otherwise\n",
        "    return bool(match)\n",
        "\n",
        "# Example strings\n",
        "string1 = \"Hello, world!\"\n",
        "string2 = \"This is a test.\"\n",
        "string3 = \"Special@Characters\"\n",
        "\n",
        "# Check if strings contain special characters\n",
        "result1 = contains_special_characters(string1)\n",
        "result2 = contains_special_characters(string2)\n",
        "result3 = contains_special_characters(string3)\n",
        "\n",
        "# Print the results\n",
        "print(f\"'{string1}' contains special characters:\", result1)\n",
        "print(f\"'{string2}' contains special characters:\", result2)\n",
        "print(f\"'{string3}' contains special characters:\", result3)"
      ],
      "metadata": {
        "colab": {
          "base_uri": "https://localhost:8080/"
        },
        "id": "J2X_-gx-gLF5",
        "outputId": "59959985-da2e-4361-ebee-70e0b0c1ea85"
      },
      "execution_count": null,
      "outputs": [
        {
          "output_type": "stream",
          "name": "stdout",
          "text": [
            "'Hello, world!' contains special characters: True\n",
            "'This is a test.' contains special characters: True\n",
            "'Special@Characters' contains special characters: True\n"
          ]
        }
      ]
    },
    {
      "cell_type": "markdown",
      "source": [
        "48. Remove the nth word from a string."
      ],
      "metadata": {
        "id": "TIh0Nct7gqsh"
      }
    },
    {
      "cell_type": "code",
      "execution_count": null,
      "metadata": {
        "colab": {
          "base_uri": "https://localhost:8080/"
        },
        "id": "Fd30C7zogslQ",
        "outputId": "f131badf-3874-4bc3-f050-a83d140546d3"
      },
      "outputs": [
        {
          "name": "stdout",
          "output_type": "stream",
          "text": [
            "Original string: This is an example sentence to test the function.\n",
            "Modified string: This is an sentence to test the function.\n",
            "Removed word: example\n"
          ]
        }
      ],
      "source": [
        "def remove_nth_word(input_string, n):\n",
        "    # Split the input string into words\n",
        "    words = input_string.split()\n",
        "\n",
        "    # Check if n is within a valid range\n",
        "    if n >= 1 and n <= len(words):\n",
        "        # Remove the nth word by excluding it from the words list\n",
        "        removed_word = words.pop(n - 1)\n",
        "\n",
        "        # Join the remaining words to form the modified string\n",
        "        modified_string = ' '.join(words)\n",
        "\n",
        "        return modified_string, removed_word\n",
        "    else:\n",
        "        return None, None\n",
        "\n",
        "# Example string and n value\n",
        "input_str = \"This is an example sentence to test the function.\"\n",
        "n_value = 4\n",
        "\n",
        "# Remove the nth word\n",
        "modified_str, removed_word = remove_nth_word(input_str, n_value)\n",
        "\n",
        "# Print the results\n",
        "print(\"Original string:\", input_str)\n",
        "if modified_str is not None:\n",
        "    print(\"Modified string:\", modified_str)\n",
        "    print(\"Removed word:\", removed_word)\n",
        "else:\n",
        "    print(\"Invalid n value.\")"
      ]
    },
    {
      "cell_type": "markdown",
      "source": [
        "50. Convert a CSV string to a list of lists"
      ],
      "metadata": {
        "id": "ssA8wqIphNsE"
      }
    },
    {
      "cell_type": "code",
      "execution_count": null,
      "metadata": {
        "colab": {
          "base_uri": "https://localhost:8080/"
        },
        "id": "-23QMFw5gse9",
        "outputId": "10ec69e9-1790-48e3-be8a-9fc003a4ba7c"
      },
      "outputs": [
        {
          "name": "stdout",
          "output_type": "stream",
          "text": [
            "['Name', ' Age', ' Country']\n",
            "['John', ' 25', ' USA']\n",
            "['Alice', ' 30', ' Canada']\n",
            "['Bob', ' 22', ' UK']\n"
          ]
        }
      ],
      "source": [
        "def csv_string_to_list(csv_string):\n",
        "    # Split the CSV string into lines\n",
        "    lines = csv_string.split('\\n')\n",
        "\n",
        "    # Initialize an empty list to store the result\n",
        "    result = []\n",
        "\n",
        "    for line in lines:\n",
        "        # Split each line into fields using comma as the delimiter\n",
        "        fields = line.split(',')\n",
        "\n",
        "        # Append the fields to the result list as a row\n",
        "        result.append(fields)\n",
        "\n",
        "    return result\n",
        "\n",
        "# Example CSV string\n",
        "csv_data = \"Name, Age, Country\\nJohn, 25, USA\\nAlice, 30, Canada\\nBob, 22, UK\"\n",
        "\n",
        "# Convert CSV string to a list of lists\n",
        "list_of_lists = csv_string_to_list(csv_data)\n",
        "\n",
        "# Print the result\n",
        "for row in list_of_lists:\n",
        "    print(row)"
      ]
    },
    {
      "cell_type": "markdown",
      "source": [
        "**LIST**"
      ],
      "metadata": {
        "id": "JhyaVhv3oiP6"
      }
    },
    {
      "cell_type": "code",
      "source": [
        "lst=[]\n",
        "for i in range(1,11):\n",
        "  lst.append(i)\n",
        "lst"
      ],
      "metadata": {
        "colab": {
          "base_uri": "https://localhost:8080/"
        },
        "id": "3aabtKjsokkL",
        "outputId": "9d3e61d7-4445-46d7-a77c-b7da8fd45787"
      },
      "execution_count": null,
      "outputs": [
        {
          "output_type": "execute_result",
          "data": {
            "text/plain": [
              "[1, 2, 3, 4, 5, 6, 7, 8, 9, 10]"
            ]
          },
          "metadata": {},
          "execution_count": 21
        }
      ]
    },
    {
      "cell_type": "markdown",
      "source": [
        "2. Find the length of a list without using the `len()` function.\n"
      ],
      "metadata": {
        "id": "3hNRv7GdtkYC"
      }
    },
    {
      "cell_type": "code",
      "source": [
        "lst=[1,2,3,4,5]\n",
        "count=0\n",
        "for i in lst:\n",
        "  count=count+1\n",
        "count"
      ],
      "metadata": {
        "colab": {
          "base_uri": "https://localhost:8080/"
        },
        "id": "aWlYvWmttvTC",
        "outputId": "bfc56927-ee1a-4dc1-b7ae-ba83e390b487"
      },
      "execution_count": null,
      "outputs": [
        {
          "output_type": "execute_result",
          "data": {
            "text/plain": [
              "5"
            ]
          },
          "metadata": {},
          "execution_count": 23
        }
      ]
    },
    {
      "cell_type": "markdown",
      "source": [
        "3. Append an element to the end of a list.\n"
      ],
      "metadata": {
        "id": "M7KHV927vQHY"
      }
    },
    {
      "cell_type": "code",
      "source": [
        "lst.append(8)\n",
        "lst"
      ],
      "metadata": {
        "colab": {
          "base_uri": "https://localhost:8080/"
        },
        "id": "24p0HHWbvQxx",
        "outputId": "632d8ea9-08df-494f-ae94-107e9132fcf9"
      },
      "execution_count": null,
      "outputs": [
        {
          "output_type": "execute_result",
          "data": {
            "text/plain": [
              "[1, 2, 3, 4, 5, 8, 8]"
            ]
          },
          "metadata": {},
          "execution_count": 25
        }
      ]
    },
    {
      "cell_type": "markdown",
      "source": [
        "4. Insert an element at a specific index in a list.\n"
      ],
      "metadata": {
        "id": "4i6c_7iDwURO"
      }
    },
    {
      "cell_type": "code",
      "source": [
        "lst.insert(2,10)"
      ],
      "metadata": {
        "id": "Zzlbfg0-wU2I"
      },
      "execution_count": null,
      "outputs": []
    },
    {
      "cell_type": "code",
      "source": [
        "lst"
      ],
      "metadata": {
        "colab": {
          "base_uri": "https://localhost:8080/"
        },
        "id": "E_9a0zK6wcQX",
        "outputId": "daa2a9a0-5748-4584-d3bb-67c6a8004cea"
      },
      "execution_count": null,
      "outputs": [
        {
          "output_type": "execute_result",
          "data": {
            "text/plain": [
              "[1, 2, 10, 3, 4, 5, 8, 8]"
            ]
          },
          "metadata": {},
          "execution_count": 27
        }
      ]
    },
    {
      "cell_type": "markdown",
      "source": [
        "5. Remove an element from a list by its value"
      ],
      "metadata": {
        "id": "aURzNayLwgzt"
      }
    },
    {
      "cell_type": "code",
      "source": [
        "lst.remove(8)"
      ],
      "metadata": {
        "id": "RUab9gmGwhT2"
      },
      "execution_count": null,
      "outputs": []
    },
    {
      "cell_type": "code",
      "source": [
        "lst"
      ],
      "metadata": {
        "colab": {
          "base_uri": "https://localhost:8080/"
        },
        "id": "dAoEHtsAwnHe",
        "outputId": "92b8020e-0726-4939-cb22-1f917cdbe46d"
      },
      "execution_count": null,
      "outputs": [
        {
          "output_type": "execute_result",
          "data": {
            "text/plain": [
              "[1, 2, 10, 3, 4, 5, 8]"
            ]
          },
          "metadata": {},
          "execution_count": 29
        }
      ]
    },
    {
      "cell_type": "markdown",
      "source": [
        "6. Remove an element from a list by its index"
      ],
      "metadata": {
        "id": "J1QCHWMXwtIj"
      }
    },
    {
      "cell_type": "code",
      "source": [
        "lst.pop(2)"
      ],
      "metadata": {
        "colab": {
          "base_uri": "https://localhost:8080/"
        },
        "id": "hTjRvauowtp2",
        "outputId": "0fda4496-9093-43a2-9798-05bae9194f0a"
      },
      "execution_count": null,
      "outputs": [
        {
          "output_type": "execute_result",
          "data": {
            "text/plain": [
              "10"
            ]
          },
          "metadata": {},
          "execution_count": 30
        }
      ]
    },
    {
      "cell_type": "code",
      "source": [
        "lst"
      ],
      "metadata": {
        "colab": {
          "base_uri": "https://localhost:8080/"
        },
        "id": "kwBWkJy5w3mV",
        "outputId": "fe7c811f-9a93-48e0-d9a8-76419786020d"
      },
      "execution_count": null,
      "outputs": [
        {
          "output_type": "execute_result",
          "data": {
            "text/plain": [
              "[1, 2, 3, 4, 5, 8]"
            ]
          },
          "metadata": {},
          "execution_count": 31
        }
      ]
    },
    {
      "cell_type": "markdown",
      "source": [
        "7. Check if an element exists in a list."
      ],
      "metadata": {
        "id": "z7UEiN1Rw7xT"
      }
    },
    {
      "cell_type": "code",
      "source": [
        "if 3 in lst:\n",
        "  print(\"exist\")\n",
        "else:\n",
        "  print(\" not exist\")"
      ],
      "metadata": {
        "colab": {
          "base_uri": "https://localhost:8080/"
        },
        "id": "OCVbfwjMw9C-",
        "outputId": "66d83424-05d5-4235-b152-08af1c9900b6"
      },
      "execution_count": null,
      "outputs": [
        {
          "output_type": "stream",
          "name": "stdout",
          "text": [
            "exist\n"
          ]
        }
      ]
    },
    {
      "cell_type": "markdown",
      "source": [
        "8. Find the index of the first occurrence of an element in a list."
      ],
      "metadata": {
        "id": "2V51f-7FxcUY"
      }
    },
    {
      "cell_type": "code",
      "source": [
        "def firstOcc(lst,element):\n",
        "  for i in lst:\n",
        "    if i==element:\n",
        "      return lst.index(i)\n",
        "lst=[\"h\",\"i\",\"m\"]\n",
        "element=\"i\"\n",
        "firstOcc(lst,element)\n"
      ],
      "metadata": {
        "colab": {
          "base_uri": "https://localhost:8080/"
        },
        "id": "WdCvPBhyxdAO",
        "outputId": "477b627f-8805-4991-cb55-bd8ac4bcd977"
      },
      "execution_count": null,
      "outputs": [
        {
          "output_type": "execute_result",
          "data": {
            "text/plain": [
              "1"
            ]
          },
          "metadata": {},
          "execution_count": 35
        }
      ]
    },
    {
      "cell_type": "markdown",
      "source": [
        "9. Count the occurrences of an element in a list.\n"
      ],
      "metadata": {
        "id": "nauK_XTByH2V"
      }
    },
    {
      "cell_type": "code",
      "source": [
        "def count_occ(lst,element):\n",
        "  count=0\n",
        "  for i in lst:\n",
        "    if i==element:\n",
        "      count=count+1\n",
        "  return count\n",
        "lst=[1,2,1,2,3,1,2,31,1,23]\n",
        "element=1\n",
        "count_occ(lst,element)"
      ],
      "metadata": {
        "colab": {
          "base_uri": "https://localhost:8080/"
        },
        "id": "Pma3kCAXyIcV",
        "outputId": "8b28b3d0-3dac-4fa1-e8f4-49be41aa2256"
      },
      "execution_count": null,
      "outputs": [
        {
          "output_type": "execute_result",
          "data": {
            "text/plain": [
              "4"
            ]
          },
          "metadata": {},
          "execution_count": 36
        }
      ]
    },
    {
      "cell_type": "markdown",
      "source": [
        "10. Reverse the order of elements in a list."
      ],
      "metadata": {
        "id": "ZEoF8CTHyi3Q"
      }
    },
    {
      "cell_type": "code",
      "source": [
        "lst.reverse()\n",
        "lst\n"
      ],
      "metadata": {
        "colab": {
          "base_uri": "https://localhost:8080/"
        },
        "id": "R1AwUpbFywmd",
        "outputId": "37d05e59-d7ee-4fae-bc19-c03d6d4133e1"
      },
      "execution_count": null,
      "outputs": [
        {
          "output_type": "execute_result",
          "data": {
            "text/plain": [
              "[6, 5, 4, 3, 2, 1]"
            ]
          },
          "metadata": {},
          "execution_count": 41
        }
      ]
    },
    {
      "cell_type": "markdown",
      "source": [
        "11. Sort a list in ascending order.\n"
      ],
      "metadata": {
        "id": "DhsdlWAzzj7V"
      }
    },
    {
      "cell_type": "code",
      "source": [
        "lst.sort()\n",
        "lst"
      ],
      "metadata": {
        "colab": {
          "base_uri": "https://localhost:8080/"
        },
        "id": "qHvlMJuMzkby",
        "outputId": "2f65b57d-534c-452a-f387-8c1b6ab77e36"
      },
      "execution_count": null,
      "outputs": [
        {
          "output_type": "execute_result",
          "data": {
            "text/plain": [
              "[1, 2, 3, 4, 5, 6]"
            ]
          },
          "metadata": {},
          "execution_count": 45
        }
      ]
    },
    {
      "cell_type": "markdown",
      "source": [
        "12. Sort a list in descending order."
      ],
      "metadata": {
        "id": "HlTQ4ww9z6H_"
      }
    },
    {
      "cell_type": "code",
      "source": [
        "lst.sort(reverse=True)"
      ],
      "metadata": {
        "id": "3ym8WdIYz6qb"
      },
      "execution_count": null,
      "outputs": []
    },
    {
      "cell_type": "code",
      "source": [
        "lst"
      ],
      "metadata": {
        "colab": {
          "base_uri": "https://localhost:8080/"
        },
        "id": "nzbdRnRyz_TK",
        "outputId": "5cf29d9a-4f4b-45c0-a88c-abda08702cea"
      },
      "execution_count": null,
      "outputs": [
        {
          "output_type": "execute_result",
          "data": {
            "text/plain": [
              "[6, 5, 4, 3, 2, 1]"
            ]
          },
          "metadata": {},
          "execution_count": 47
        }
      ]
    },
    {
      "cell_type": "markdown",
      "source": [
        "13. Create a list of even numbers from 1 to 20.\n"
      ],
      "metadata": {
        "id": "_XAFmKh20C9o"
      }
    },
    {
      "cell_type": "code",
      "source": [
        "lst=[]\n",
        "for i in range(1,21):\n",
        "  if i%2==0:\n",
        "    lst.append(i)\n",
        "lst"
      ],
      "metadata": {
        "colab": {
          "base_uri": "https://localhost:8080/"
        },
        "id": "sPCa5vxl0DX7",
        "outputId": "f194c1f5-2b61-4ee9-b060-1da3f0384f7c"
      },
      "execution_count": null,
      "outputs": [
        {
          "output_type": "execute_result",
          "data": {
            "text/plain": [
              "[2, 4, 6, 8, 10, 12, 14, 16, 18, 20]"
            ]
          },
          "metadata": {},
          "execution_count": 48
        }
      ]
    },
    {
      "cell_type": "markdown",
      "source": [
        "14. Create a list of odd numbers from 1 to 20."
      ],
      "metadata": {
        "id": "vJZ9SIq90hUn"
      }
    },
    {
      "cell_type": "code",
      "source": [
        "lst=[]\n",
        "for i in range(1,21):\n",
        "  if i%2!=0:\n",
        "    lst.append(i)\n",
        "lst"
      ],
      "metadata": {
        "colab": {
          "base_uri": "https://localhost:8080/"
        },
        "id": "Dxi05piE0h75",
        "outputId": "e8a01f18-87ec-440c-eda4-66abdcbddd7f"
      },
      "execution_count": null,
      "outputs": [
        {
          "output_type": "execute_result",
          "data": {
            "text/plain": [
              "[1, 3, 5, 7, 9, 11, 13, 15, 17, 19]"
            ]
          },
          "metadata": {},
          "execution_count": 49
        }
      ]
    },
    {
      "cell_type": "markdown",
      "source": [
        "15. Find the sum of all elements in a list."
      ],
      "metadata": {
        "id": "kckLQ9GN0uxu"
      }
    },
    {
      "cell_type": "code",
      "source": [
        "lst=[1,2,3,4,5,6,7]\n",
        "sum(lst)"
      ],
      "metadata": {
        "colab": {
          "base_uri": "https://localhost:8080/"
        },
        "id": "X8pRzSDi0vQp",
        "outputId": "9fa2dd92-25d5-4961-a4ab-7cbce04421cc"
      },
      "execution_count": null,
      "outputs": [
        {
          "output_type": "execute_result",
          "data": {
            "text/plain": [
              "28"
            ]
          },
          "metadata": {},
          "execution_count": 52
        }
      ]
    },
    {
      "cell_type": "markdown",
      "source": [
        "16. Find the maximum value in a list.\n"
      ],
      "metadata": {
        "id": "moD5w7Ly1AuX"
      }
    },
    {
      "cell_type": "code",
      "source": [
        "s=max(lst)\n",
        "s"
      ],
      "metadata": {
        "colab": {
          "base_uri": "https://localhost:8080/"
        },
        "id": "Qamme7UP1BJR",
        "outputId": "bf14ee93-2dc9-44ca-bef6-ed824d1ebaac"
      },
      "execution_count": null,
      "outputs": [
        {
          "output_type": "execute_result",
          "data": {
            "text/plain": [
              "7"
            ]
          },
          "metadata": {},
          "execution_count": 55
        }
      ]
    },
    {
      "cell_type": "markdown",
      "source": [
        "17. Find the minimum value in a list"
      ],
      "metadata": {
        "id": "_7jf2Yo51xBC"
      }
    },
    {
      "cell_type": "code",
      "source": [
        "s=min(lst)\n",
        "s"
      ],
      "metadata": {
        "colab": {
          "base_uri": "https://localhost:8080/"
        },
        "id": "xldJBzQH1xf6",
        "outputId": "a0b70bec-b297-4692-d012-2cc05aac6917"
      },
      "execution_count": null,
      "outputs": [
        {
          "output_type": "execute_result",
          "data": {
            "text/plain": [
              "1"
            ]
          },
          "metadata": {},
          "execution_count": 56
        }
      ]
    },
    {
      "cell_type": "markdown",
      "source": [
        "18. Create a list of squares of numbers from 1 to 10."
      ],
      "metadata": {
        "id": "iXf1ZzlK129s"
      }
    },
    {
      "cell_type": "code",
      "source": [
        "square=[x**2 for x in range(1,11)]\n",
        "square"
      ],
      "metadata": {
        "colab": {
          "base_uri": "https://localhost:8080/"
        },
        "id": "9fGXRMcB15iK",
        "outputId": "3afbe47f-fa9b-46ee-d496-1576567bfbb3"
      },
      "execution_count": null,
      "outputs": [
        {
          "output_type": "execute_result",
          "data": {
            "text/plain": [
              "[1, 4, 9, 16, 25, 36, 49, 64, 81, 100]"
            ]
          },
          "metadata": {},
          "execution_count": 62
        }
      ]
    },
    {
      "cell_type": "markdown",
      "source": [
        "19. Create a list of random numbers."
      ],
      "metadata": {
        "id": "g8jsf1B93D7p"
      }
    },
    {
      "cell_type": "code",
      "source": [
        "\n",
        "import random\n",
        "random_integer=[random.randint(1,100) for i in range(10)]\n",
        "random_integer"
      ],
      "metadata": {
        "colab": {
          "base_uri": "https://localhost:8080/"
        },
        "id": "G70qOI4D3EZ4",
        "outputId": "565e12df-7099-458f-ac88-6c7cde13500b"
      },
      "execution_count": null,
      "outputs": [
        {
          "output_type": "execute_result",
          "data": {
            "text/plain": [
              "[55, 34, 83, 96, 1, 4, 32, 81, 81, 37]"
            ]
          },
          "metadata": {},
          "execution_count": 65
        }
      ]
    },
    {
      "cell_type": "markdown",
      "source": [
        "20. Remove duplicates from a list.\n"
      ],
      "metadata": {
        "id": "BzyQkHFo3nhh"
      }
    },
    {
      "cell_type": "code",
      "source": [
        "lst=[1,2,1,2,12,3,43,41,1,2]\n",
        "lst=set(lst)\n",
        "lst=list(lst)\n",
        "lst\n"
      ],
      "metadata": {
        "colab": {
          "base_uri": "https://localhost:8080/"
        },
        "id": "UlDMxzSr3puf",
        "outputId": "3c867e0b-51a2-4a2a-b220-2f46c74b62b7"
      },
      "execution_count": null,
      "outputs": [
        {
          "output_type": "execute_result",
          "data": {
            "text/plain": [
              "[1, 2, 3, 41, 43, 12]"
            ]
          },
          "metadata": {},
          "execution_count": 68
        }
      ]
    },
    {
      "cell_type": "markdown",
      "source": [
        "21. Find the common elements between two lists."
      ],
      "metadata": {
        "id": "my9S_ZLY4DLg"
      }
    },
    {
      "cell_type": "code",
      "source": [
        "list1 = [1, 2, 3, 4, 5]\n",
        "list2 = [3, 4, 5, 6, 7]\n",
        "\n",
        "common_elements = set(list1).intersection(list2)\n",
        "\n",
        "print(\"Common elements:\", list(common_elements))\n"
      ],
      "metadata": {
        "colab": {
          "base_uri": "https://localhost:8080/"
        },
        "id": "NOmHNGrx4FWF",
        "outputId": "53b0155f-8060-48d0-ed17-65f53a6f7e52"
      },
      "execution_count": null,
      "outputs": [
        {
          "output_type": "stream",
          "name": "stdout",
          "text": [
            "Common elements: [3, 4, 5]\n"
          ]
        }
      ]
    },
    {
      "cell_type": "markdown",
      "source": [
        "22. Find the difference between two lists.\n"
      ],
      "metadata": {
        "id": "7h9YMiev5qhc"
      }
    },
    {
      "cell_type": "code",
      "source": [
        "difference_element=list(set(list1).difference(list2))\n",
        "difference_element"
      ],
      "metadata": {
        "colab": {
          "base_uri": "https://localhost:8080/"
        },
        "id": "d9dsuA6H5v6b",
        "outputId": "9df075f3-8165-41ac-8bc4-2bf2646a9c46"
      },
      "execution_count": null,
      "outputs": [
        {
          "output_type": "execute_result",
          "data": {
            "text/plain": [
              "[1, 2]"
            ]
          },
          "metadata": {},
          "execution_count": 73
        }
      ]
    },
    {
      "cell_type": "markdown",
      "source": [
        "23. Merge two lists.\n"
      ],
      "metadata": {
        "id": "a0WWt4le58pl"
      }
    },
    {
      "cell_type": "code",
      "source": [
        "merge=list1+list2\n",
        "merge"
      ],
      "metadata": {
        "colab": {
          "base_uri": "https://localhost:8080/"
        },
        "id": "xBtGLRt15-oM",
        "outputId": "1846fb70-57f0-403e-a3c3-902ac3ca794a"
      },
      "execution_count": null,
      "outputs": [
        {
          "output_type": "execute_result",
          "data": {
            "text/plain": [
              "[1, 2, 3, 4, 5, [3, 4, 5, 6, 7], 3, 4, 5, 6, 7]"
            ]
          },
          "metadata": {},
          "execution_count": 77
        }
      ]
    },
    {
      "cell_type": "markdown",
      "source": [
        "24. Multiply all elements in a list by 2."
      ],
      "metadata": {
        "id": "pNN6BtVU6WjB"
      }
    },
    {
      "cell_type": "code",
      "source": [
        "list1=[1,2,2,3,31,1]\n",
        "lst=[x*2 for x in list1]\n",
        "lst"
      ],
      "metadata": {
        "colab": {
          "base_uri": "https://localhost:8080/"
        },
        "id": "8R_wMLZX6XMc",
        "outputId": "c5d599ff-9f83-49e4-b537-44dff601470a"
      },
      "execution_count": null,
      "outputs": [
        {
          "output_type": "execute_result",
          "data": {
            "text/plain": [
              "[2, 4, 4, 6, 62, 2]"
            ]
          },
          "metadata": {},
          "execution_count": 84
        }
      ]
    },
    {
      "cell_type": "markdown",
      "source": [
        "25. Filter out all even numbers from a list."
      ],
      "metadata": {
        "id": "yiEcgShW7RJw"
      }
    },
    {
      "cell_type": "code",
      "source": [
        "lst=[1,2,3,4,5,6,78,9]\n",
        "lst1=[]\n",
        "for i in lst:\n",
        "  if i%2==0:\n",
        "    lst1.append(i)\n",
        "lst1"
      ],
      "metadata": {
        "colab": {
          "base_uri": "https://localhost:8080/"
        },
        "id": "ZnqTXBPn7R0i",
        "outputId": "7f77cc67-42ca-4af2-c833-e14e6d285ef9"
      },
      "execution_count": null,
      "outputs": [
        {
          "output_type": "execute_result",
          "data": {
            "text/plain": [
              "[2, 4, 6, 78]"
            ]
          },
          "metadata": {},
          "execution_count": 85
        }
      ]
    },
    {
      "cell_type": "markdown",
      "source": [
        "26. Convert a list of strings to a list of integers."
      ],
      "metadata": {
        "id": "5Ft6vK3z7lvT"
      }
    },
    {
      "cell_type": "code",
      "source": [
        "lst=[\"1\",\"2\",\"3\",\"4\"]\n",
        "lst_int=[int(x) for x in lst]\n",
        "lst_int"
      ],
      "metadata": {
        "colab": {
          "base_uri": "https://localhost:8080/"
        },
        "id": "MKKEBlHd7mOJ",
        "outputId": "9c85f416-ff9d-4adf-d594-2b41f530ddb7"
      },
      "execution_count": null,
      "outputs": [
        {
          "output_type": "execute_result",
          "data": {
            "text/plain": [
              "[1, 2, 3, 4]"
            ]
          },
          "metadata": {},
          "execution_count": 86
        }
      ]
    },
    {
      "cell_type": "markdown",
      "source": [
        "27. Convert a list of integers to a list of strings."
      ],
      "metadata": {
        "id": "yA3ZPkxa8BPF"
      }
    },
    {
      "cell_type": "code",
      "source": [
        "lst=[1,2,3,4,5]\n",
        "lst_string=[str(x) for x in lst]\n",
        "lst_string"
      ],
      "metadata": {
        "colab": {
          "base_uri": "https://localhost:8080/"
        },
        "id": "bqTfE2sx8BpK",
        "outputId": "e268469b-0b2c-44ab-c3f6-1b034c767165"
      },
      "execution_count": null,
      "outputs": [
        {
          "output_type": "execute_result",
          "data": {
            "text/plain": [
              "['1', '2', '3', '4', '5']"
            ]
          },
          "metadata": {},
          "execution_count": 87
        }
      ]
    },
    {
      "cell_type": "markdown",
      "source": [
        "28. Flatten a nested list.\n"
      ],
      "metadata": {
        "id": "cHu61vzq8NBE"
      }
    },
    {
      "cell_type": "code",
      "execution_count": null,
      "metadata": {
        "colab": {
          "base_uri": "https://localhost:8080/"
        },
        "id": "5iekdXfxgrPo",
        "outputId": "efd4232e-c3e8-4449-ae55-57459491aa15"
      },
      "outputs": [
        {
          "output_type": "stream",
          "name": "stdout",
          "text": [
            "Flattened list: [1, 2, 3, 4, 5, 6, 7, 8, 9]\n"
          ]
        }
      ],
      "source": [
        "# Example nested list\n",
        "nested_list = [[1, 2, 3], [4, 5], [6, 7, 8, 9]]\n",
        "\n",
        "# Function to flatten a nested list\n",
        "def flatten_list(nested):\n",
        "    flattened = []\n",
        "    for sublist in nested:\n",
        "        if isinstance(sublist, list):\n",
        "            flattened.extend(flatten_list(sublist))\n",
        "        else:\n",
        "            flattened.append(sublist)\n",
        "    return flattened\n",
        "\n",
        "# Flatten the nested list\n",
        "flattened_list = flatten_list(nested_list)\n",
        "\n",
        "# Print the flattened list\n",
        "print(\"Flattened list:\", flattened_list)"
      ]
    },
    {
      "cell_type": "markdown",
      "source": [
        "29. Create a list of the first 10 Fibonacci numbers."
      ],
      "metadata": {
        "id": "k1grRnM_9KZR"
      }
    },
    {
      "cell_type": "code",
      "source": [
        "def generate_fibonacci(n):\n",
        "    fibonacci_numbers = [0, 1]\n",
        "    for _ in range(2, n):\n",
        "        next_fibonacci = fibonacci_numbers[-1] + fibonacci_numbers[-2]\n",
        "        fibonacci_numbers.append(next_fibonacci)\n",
        "    return fibonacci_numbers\n",
        "\n",
        "# Generate the first 10 Fibonacci numbers\n",
        "first_10_fibonacci = generate_fibonacci(10)\n",
        "\n",
        "print(first_10_fibonacci)\n"
      ],
      "metadata": {
        "colab": {
          "base_uri": "https://localhost:8080/"
        },
        "id": "gqtiODwY9LCI",
        "outputId": "9dbeb8d3-caf1-431b-b391-64a168dccfaf"
      },
      "execution_count": null,
      "outputs": [
        {
          "output_type": "stream",
          "name": "stdout",
          "text": [
            "[0, 1, 1, 2, 3, 5, 8, 13, 21, 34]\n"
          ]
        }
      ]
    },
    {
      "cell_type": "markdown",
      "source": [
        "30. Check if a list is sorted.\n"
      ],
      "metadata": {
        "id": "nmI8Pbw5-8Jg"
      }
    },
    {
      "cell_type": "code",
      "source": [
        "lst=[3,4,1,2,6,2,8]\n",
        "lst.sort()\n",
        "lst"
      ],
      "metadata": {
        "colab": {
          "base_uri": "https://localhost:8080/"
        },
        "id": "GALA108w9wPg",
        "outputId": "0b0d2ae3-5718-4427-9494-64bc060fefa3"
      },
      "execution_count": null,
      "outputs": [
        {
          "output_type": "execute_result",
          "data": {
            "text/plain": [
              "[1, 2, 2, 3, 4, 6, 8]"
            ]
          },
          "metadata": {},
          "execution_count": 90
        }
      ]
    },
    {
      "cell_type": "markdown",
      "source": [
        "31. Rotate a list to the left by `n` positions.\n"
      ],
      "metadata": {
        "id": "S_llzujFA7-y"
      }
    },
    {
      "cell_type": "code",
      "source": [
        "def rotate_left(lst,n):\n",
        "  n=n % len(lst)\n",
        "  rotated=lst[2:]+lst[:2]\n",
        "  return rotated\n",
        "n=2\n",
        "lst=[1,2,3,4,5,6]\n",
        "rotate_left(lst,n)"
      ],
      "metadata": {
        "colab": {
          "base_uri": "https://localhost:8080/"
        },
        "id": "tzJeQDsSBWGs",
        "outputId": "70a783f6-223e-48c7-946d-9ea6c8c56859"
      },
      "execution_count": null,
      "outputs": [
        {
          "output_type": "execute_result",
          "data": {
            "text/plain": [
              "[3, 4, 5, 6, 1, 2]"
            ]
          },
          "metadata": {},
          "execution_count": 93
        }
      ]
    },
    {
      "cell_type": "markdown",
      "source": [
        "32. Rotate a list to the right by `n` positions.\n"
      ],
      "metadata": {
        "id": "Z12cZ_OQCsLQ"
      }
    },
    {
      "cell_type": "code",
      "source": [
        "def rotate_right(lst,n):\n",
        "  n=n%len(lst)\n",
        "  rotated=lst[-n:]+lst[:-n]\n",
        "  return rotated\n",
        "n=2\n",
        "lst=[1,2,3,4,5,6]\n",
        "rotate_right(lst,n)"
      ],
      "metadata": {
        "colab": {
          "base_uri": "https://localhost:8080/"
        },
        "id": "y9uK5U4SCunT",
        "outputId": "f9692e15-435e-4a87-bfae-c6ff0556b3ac"
      },
      "execution_count": null,
      "outputs": [
        {
          "output_type": "execute_result",
          "data": {
            "text/plain": [
              "[5, 6, 1, 2, 3, 4]"
            ]
          },
          "metadata": {},
          "execution_count": 96
        }
      ]
    },
    {
      "cell_type": "markdown",
      "source": [
        "\n",
        "33. Create a list of prime numbers up to 50"
      ],
      "metadata": {
        "id": "dCf9Vl8AE-s6"
      }
    },
    {
      "cell_type": "code",
      "source": [
        "def is_prime(num):\n",
        "  if num<=1:\n",
        "    return False\n",
        "  if num<=3:\n",
        "    return True\n",
        "  if num%2==0 or num%3==0:\n",
        "    return False\n",
        "  i=5\n",
        "  while i*i<=num:\n",
        "    if num%i==0 or num %(i+2)==0:\n",
        "      return False\n",
        "    i+=6\n",
        "  return True\n",
        "prime_numbers = [num for num in range(2,30) if is_prime(num)]\n",
        "\n",
        "# Print the list of prime numbers\n",
        "print(\"List of prime numbers up to 50:\", prime_numbers)"
      ],
      "metadata": {
        "colab": {
          "base_uri": "https://localhost:8080/"
        },
        "id": "y0LXAlJQE_XP",
        "outputId": "358313a1-236b-4076-bb6d-81fe554d0c49"
      },
      "execution_count": null,
      "outputs": [
        {
          "output_type": "stream",
          "name": "stdout",
          "text": [
            "List of prime numbers up to 50: [2, 3, 5, 7, 11, 13, 17, 19, 23, 29]\n"
          ]
        }
      ]
    },
    {
      "cell_type": "markdown",
      "source": [
        "34. Split a list into chunks of size `n`.\n"
      ],
      "metadata": {
        "id": "_8IT0ffEIeui"
      }
    },
    {
      "cell_type": "code",
      "source": [
        "def split_list(lst,n):\n",
        "  return [lst[i:i+n] for i in range(0,len(lst),n)]\n",
        "lst=[1,2,3,4,5,6,7,8,2,3,43,54]\n",
        "n=2\n",
        "split_list(lst,n)"
      ],
      "metadata": {
        "colab": {
          "base_uri": "https://localhost:8080/"
        },
        "id": "_NsPVaFAJqfZ",
        "outputId": "bd1a1c98-a33c-4d91-8fed-677f86073642"
      },
      "execution_count": null,
      "outputs": [
        {
          "output_type": "execute_result",
          "data": {
            "text/plain": [
              "[[1, 2], [3, 4], [5, 6], [7, 8], [2, 3], [43, 54]]"
            ]
          },
          "metadata": {},
          "execution_count": 98
        }
      ]
    },
    {
      "cell_type": "markdown",
      "source": [
        "35. Find the second largest number in a list.\n"
      ],
      "metadata": {
        "id": "pWolUHeKNXbN"
      }
    },
    {
      "cell_type": "code",
      "source": [
        "lst=[2,3,4,5,2,3,334,54,5]\n",
        "sorted_list=sorted(set(lst))\n",
        "if len(sorted_list)>=2:\n",
        "  second_sorted=sorted_list[-2]\n",
        "second_sorted"
      ],
      "metadata": {
        "colab": {
          "base_uri": "https://localhost:8080/"
        },
        "id": "p8Ms9QFrNYRF",
        "outputId": "1e76f0c2-74f0-4455-fc61-eaea03b68547"
      },
      "execution_count": null,
      "outputs": [
        {
          "output_type": "execute_result",
          "data": {
            "text/plain": [
              "54"
            ]
          },
          "metadata": {},
          "execution_count": 104
        }
      ]
    },
    {
      "cell_type": "markdown",
      "source": [
        "36. Replace every element in a list with its square.\n"
      ],
      "metadata": {
        "id": "HkhC_UsGOyEq"
      }
    },
    {
      "cell_type": "code",
      "source": [
        "lst=[1,2,3,4,5,6]\n",
        "rs=[x**2 for x in lst]\n",
        "rs\n"
      ],
      "metadata": {
        "colab": {
          "base_uri": "https://localhost:8080/"
        },
        "id": "wbDEYXGeOyvj",
        "outputId": "62ca3bac-b575-4a6a-9f5a-fdc6162af7f4"
      },
      "execution_count": null,
      "outputs": [
        {
          "output_type": "execute_result",
          "data": {
            "text/plain": [
              "[1, 4, 9, 16, 25, 36]"
            ]
          },
          "metadata": {},
          "execution_count": 107
        }
      ]
    },
    {
      "cell_type": "markdown",
      "source": [
        "\n",
        "37. Convert a list to a dictionary where list elements become keys and their\n",
        "indices become values"
      ],
      "metadata": {
        "id": "MSi7gA9bPaMW"
      }
    },
    {
      "cell_type": "code",
      "source": [
        "lst=[1,2,3,4,5,6]\n",
        "my_dict={index:element for index,element in enumerate(lst)}\n",
        "my_dict"
      ],
      "metadata": {
        "colab": {
          "base_uri": "https://localhost:8080/"
        },
        "id": "3R2rO9bBPbPz",
        "outputId": "daea5cd2-e747-4c18-c4f3-6bb60a63a0f4"
      },
      "execution_count": null,
      "outputs": [
        {
          "output_type": "execute_result",
          "data": {
            "text/plain": [
              "{0: 1, 1: 2, 2: 3, 3: 4, 4: 5, 5: 6}"
            ]
          },
          "metadata": {},
          "execution_count": 116
        }
      ]
    },
    {
      "cell_type": "markdown",
      "source": [
        "\n",
        "38. Shuffle the elements of a list randomly"
      ],
      "metadata": {
        "id": "uAZz4pbvSUwZ"
      }
    },
    {
      "cell_type": "code",
      "source": [
        "import random\n",
        "random.shuffle(lst)\n",
        "lst"
      ],
      "metadata": {
        "colab": {
          "base_uri": "https://localhost:8080/"
        },
        "id": "OGG4G80ASVZw",
        "outputId": "e874440f-d36a-45ae-8345-74f023789010"
      },
      "execution_count": null,
      "outputs": [
        {
          "output_type": "execute_result",
          "data": {
            "text/plain": [
              "[5, 2, 3, 6, 1, 4]"
            ]
          },
          "metadata": {},
          "execution_count": 117
        }
      ]
    },
    {
      "cell_type": "markdown",
      "source": [
        "\n",
        "39. Create a list of the first 10 factorial numbers"
      ],
      "metadata": {
        "id": "1OwC-dq6SmyI"
      }
    },
    {
      "cell_type": "code",
      "execution_count": null,
      "metadata": {
        "colab": {
          "base_uri": "https://localhost:8080/"
        },
        "id": "MIJJ6FwAgqw7",
        "outputId": "21d81965-6b20-41a7-8f55-1356d5844aea"
      },
      "outputs": [
        {
          "name": "stdout",
          "output_type": "stream",
          "text": [
            "List of the first 10 factorial numbers: [1, 1, 2, 6, 24, 120, 720, 5040, 40320, 362880]\n"
          ]
        }
      ],
      "source": [
        "# Function to calculate factorial\n",
        "def factorial(n):\n",
        "    if n == 0 or n == 1:\n",
        "        return 1\n",
        "    else:\n",
        "        return n * factorial(n - 1)\n",
        "\n",
        "# Create a list of the first 10 factorial numbers\n",
        "factorial_numbers = [factorial(i) for i in range(10)]\n",
        "\n",
        "# Print the list of factorial numbers\n",
        "print(\"List of the first 10 factorial numbers:\", factorial_numbers)"
      ]
    },
    {
      "cell_type": "markdown",
      "source": [
        "40. Check if two lists have at least one element in common.\n"
      ],
      "metadata": {
        "id": "OH4EaoptTgCd"
      }
    },
    {
      "cell_type": "code",
      "source": [
        "def commonE(lst1,lst2):\n",
        "  for i in lst1:\n",
        "    if i in lst2:\n",
        "      return True\n",
        "  return False\n",
        "lst1=[1,2,3,4,5]\n",
        "lst2=[7,8,9]\n",
        "commonE(lst1,lst2)"
      ],
      "metadata": {
        "colab": {
          "base_uri": "https://localhost:8080/"
        },
        "id": "1ACil1IqTjt2",
        "outputId": "309ec2b3-0ec3-4990-f787-1ff94a670dd7"
      },
      "execution_count": null,
      "outputs": [
        {
          "output_type": "execute_result",
          "data": {
            "text/plain": [
              "False"
            ]
          },
          "metadata": {},
          "execution_count": 119
        }
      ]
    },
    {
      "cell_type": "markdown",
      "source": [
        "41. Remove all elements from a list"
      ],
      "metadata": {
        "id": "_zZ0jYl7T-w4"
      }
    },
    {
      "cell_type": "code",
      "source": [
        "lst.clear()\n",
        "lst\n"
      ],
      "metadata": {
        "colab": {
          "base_uri": "https://localhost:8080/"
        },
        "id": "7pw_k3A2UASG",
        "outputId": "f22ea30f-c8a6-433a-96a7-00e1aac8a38b"
      },
      "execution_count": null,
      "outputs": [
        {
          "output_type": "execute_result",
          "data": {
            "text/plain": [
              "[]"
            ]
          },
          "metadata": {},
          "execution_count": 124
        }
      ]
    },
    {
      "cell_type": "markdown",
      "source": [
        "42. Replace negative numbers in a list with 0.\n"
      ],
      "metadata": {
        "id": "oQIfAlMrUmam"
      }
    },
    {
      "cell_type": "code",
      "source": [
        "lst=[1,2,-2,-5,6.-7]\n",
        "for i in range(len(lst)):\n",
        "  if lst[i]<0:\n",
        "    lst[i]=0\n",
        "lst"
      ],
      "metadata": {
        "colab": {
          "base_uri": "https://localhost:8080/"
        },
        "id": "prvlpZAcUo-0",
        "outputId": "89d20ac3-ca66-4258-96cb-843d9a9e4c1f"
      },
      "execution_count": null,
      "outputs": [
        {
          "output_type": "execute_result",
          "data": {
            "text/plain": [
              "[1, 2, 0, 0, 0]"
            ]
          },
          "metadata": {},
          "execution_count": 125
        }
      ]
    },
    {
      "cell_type": "markdown",
      "source": [
        "43. Convert a string into a list of words.\n"
      ],
      "metadata": {
        "id": "k_elbA6GVB53"
      }
    },
    {
      "cell_type": "code",
      "source": [
        "st=\"himansu is a developer\"\n",
        "s=st.split()\n",
        "s"
      ],
      "metadata": {
        "colab": {
          "base_uri": "https://localhost:8080/"
        },
        "id": "DTCJWQLnVFu9",
        "outputId": "9e0cbbf3-7747-4383-9f29-78eaa31f2d8a"
      },
      "execution_count": null,
      "outputs": [
        {
          "output_type": "execute_result",
          "data": {
            "text/plain": [
              "['himansu', 'is', 'a', 'developer']"
            ]
          },
          "metadata": {},
          "execution_count": 128
        }
      ]
    },
    {
      "cell_type": "markdown",
      "source": [
        "44. Convert a list of words into a string.\n"
      ],
      "metadata": {
        "id": "BJB97b1KVXR5"
      }
    },
    {
      "cell_type": "code",
      "source": [
        "lst=['hiamnsu',\"is\",\"a\",\"developer\"]\n",
        "\n",
        "s=\" \".join(lst)"
      ],
      "metadata": {
        "id": "hBXYO-AgVXxW"
      },
      "execution_count": null,
      "outputs": []
    },
    {
      "cell_type": "code",
      "source": [
        "s"
      ],
      "metadata": {
        "colab": {
          "base_uri": "https://localhost:8080/",
          "height": 36
        },
        "id": "3V_tKm5VZFzj",
        "outputId": "1715adfe-d63c-4167-b16c-a08afa34c18b"
      },
      "execution_count": null,
      "outputs": [
        {
          "output_type": "execute_result",
          "data": {
            "text/plain": [
              "'hiamnsu is a developer'"
            ],
            "application/vnd.google.colaboratory.intrinsic+json": {
              "type": "string"
            }
          },
          "metadata": {},
          "execution_count": 137
        }
      ]
    },
    {
      "cell_type": "markdown",
      "source": [
        "45. Create a list of the first `n` powers of 2.\n"
      ],
      "metadata": {
        "id": "nz9XB1cYZMfj"
      }
    },
    {
      "cell_type": "code",
      "source": [
        "def list_n(n):\n",
        "  for i in range(len(lst)):\n",
        "      lst[i]=lst[i]**2\n",
        "  return lst\n",
        "n=5\n",
        "list_n(n)"
      ],
      "metadata": {
        "colab": {
          "base_uri": "https://localhost:8080/"
        },
        "id": "hPsFW7ulZNOZ",
        "outputId": "db0b18db-8a14-409a-ac55-79d5a66128a2"
      },
      "execution_count": null,
      "outputs": [
        {
          "output_type": "execute_result",
          "data": {
            "text/plain": [
              "[1, 4, 9, 16, 25, 36, 49, 64, 81]"
            ]
          },
          "metadata": {},
          "execution_count": 141
        }
      ]
    },
    {
      "cell_type": "markdown",
      "source": [
        "\n",
        "46. Find the longest string in a list of strings"
      ],
      "metadata": {
        "id": "pi3dIp43bHcs"
      }
    },
    {
      "cell_type": "code",
      "execution_count": null,
      "metadata": {
        "colab": {
          "base_uri": "https://localhost:8080/"
        },
        "id": "ktoukRUQgpMZ",
        "outputId": "bc292f3f-ac3e-42bc-eec8-422a2db2ad18"
      },
      "outputs": [
        {
          "output_type": "stream",
          "name": "stdout",
          "text": [
            "Longest string: elderberry\n"
          ]
        }
      ],
      "source": [
        "# Example list of strings\n",
        "string_list = [\"apple\", \"banana\", \"cherry\", \"date\", \"elderberry\"]\n",
        "\n",
        "# Find the longest string in the list\n",
        "longest_string = \"\"\n",
        "for s in string_list:\n",
        "    if len(s) > len(longest_string):\n",
        "        longest_string = s\n",
        "\n",
        "# Print the longest string\n",
        "print(\"Longest string:\", longest_string)"
      ]
    },
    {
      "cell_type": "markdown",
      "source": [
        "47. Find the shortest string in a list of strings.\n"
      ],
      "metadata": {
        "id": "dYqZVQOiezlx"
      }
    },
    {
      "cell_type": "code",
      "execution_count": null,
      "metadata": {
        "colab": {
          "base_uri": "https://localhost:8080/"
        },
        "id": "VwxeF-Ch2b52",
        "outputId": "5d601f49-da78-4fbc-e644-5a5197cd2df0"
      },
      "outputs": [
        {
          "output_type": "stream",
          "name": "stdout",
          "text": [
            "Shortest string: date\n"
          ]
        }
      ],
      "source": [
        "# Example list of strings\n",
        "string_list = [\"apple\", \"banana\", \"cherry\", \"date\", \"elderberry\"]\n",
        "\n",
        "# Find the shortest string in the list\n",
        "shortest_string = string_list[0]  # Initialize with the first string\n",
        "for s in string_list:\n",
        "    if len(s) < len(shortest_string):\n",
        "        shortest_string = s\n",
        "\n",
        "# Print the shortest string\n",
        "print(\"Shortest string:\", shortest_string)"
      ]
    },
    {
      "cell_type": "code",
      "execution_count": null,
      "metadata": {
        "colab": {
          "base_uri": "https://localhost:8080/"
        },
        "id": "Z0UxtOl62eQL",
        "outputId": "70868b83-e9fe-48fd-985c-d93fcdf91e63"
      },
      "outputs": [
        {
          "output_type": "stream",
          "name": "stdout",
          "text": [
            "List of the first 5 triangular numbers: [1, 3, 6, 10, 15]\n"
          ]
        }
      ],
      "source": [
        "# Function to calculate triangular numbers\n",
        "def triangular_numbers(n):\n",
        "    return [i * (i + 1) // 2 for i in range(1, n + 1)]\n",
        "\n",
        "# Specify the value of n\n",
        "n = 5\n",
        "\n",
        "# Create a list of the first n triangular numbers\n",
        "triangular_list = triangular_numbers(n)\n",
        "\n",
        "# Print the list of triangular numbers\n",
        "print(\"List of the first\", n, \"triangular numbers:\", triangular_list)"
      ]
    },
    {
      "cell_type": "markdown",
      "source": [
        "49. Check if a list contains another list as a subsequence.\n"
      ],
      "metadata": {
        "id": "c-a-2EvljsPD"
      }
    },
    {
      "cell_type": "code",
      "source": [
        "def is_subsequence(subsequence,main_list):\n",
        "  subsq_index=0\n",
        "  for element in main_list:\n",
        "    if i==subsequence[subsq_index]:\n",
        "      subsq_index += 1\n",
        "      if len(subsequence)==subsq_index:\n",
        "        return True\n",
        "  return False\n",
        "main_list=[1,2,3,4,5,6,7,8,9,10]\n",
        "subsequence=[1,2,3]\n",
        "is_subsequence(main_list,subsequence)"
      ],
      "metadata": {
        "colab": {
          "base_uri": "https://localhost:8080/"
        },
        "id": "wOhVDJxFjs5O",
        "outputId": "f979c941-5532-48d9-be8d-9aeb6560ad9b"
      },
      "execution_count": null,
      "outputs": [
        {
          "output_type": "execute_result",
          "data": {
            "text/plain": [
              "False"
            ]
          },
          "metadata": {},
          "execution_count": 148
        }
      ]
    },
    {
      "cell_type": "markdown",
      "source": [
        "50. Swap two elements in a list by their indices"
      ],
      "metadata": {
        "id": "Gm5HPgdKmdLm"
      }
    },
    {
      "cell_type": "code",
      "source": [
        "lst=[1,2,3,4,5]\n",
        "index1=1\n",
        "index=3\n",
        "lst[index1],lst[index]=lst[index],lst[index1]\n",
        "lst\n"
      ],
      "metadata": {
        "colab": {
          "base_uri": "https://localhost:8080/"
        },
        "id": "HJzVBKeYmewc",
        "outputId": "d597905d-1502-463c-8743-1c08aa3b7caf"
      },
      "execution_count": null,
      "outputs": [
        {
          "output_type": "execute_result",
          "data": {
            "text/plain": [
              "[1, 4, 3, 2, 5]"
            ]
          },
          "metadata": {},
          "execution_count": 149
        }
      ]
    },
    {
      "cell_type": "markdown",
      "source": [
        "**Tuple**"
      ],
      "metadata": {
        "id": "Xwd3iK693Hx8"
      }
    },
    {
      "cell_type": "markdown",
      "source": [
        "\n",
        "1. Create a tuple with integers from 1 to 5"
      ],
      "metadata": {
        "id": "D26Uc0gY4zWA"
      }
    },
    {
      "cell_type": "code",
      "source": [
        "tp=(1,2,3,4,5)\n",
        "tp"
      ],
      "metadata": {
        "colab": {
          "base_uri": "https://localhost:8080/"
        },
        "id": "kKCtETx13rmB",
        "outputId": "19675854-9036-4b60-e902-e7b499dc28cd"
      },
      "execution_count": 3,
      "outputs": [
        {
          "output_type": "execute_result",
          "data": {
            "text/plain": [
              "(1, 2, 3, 4, 5)"
            ]
          },
          "metadata": {},
          "execution_count": 3
        }
      ]
    },
    {
      "cell_type": "markdown",
      "source": [
        "\n",
        "2. Access the third element of a tuple"
      ],
      "metadata": {
        "id": "fG78NjVW5P0H"
      }
    },
    {
      "cell_type": "code",
      "source": [
        "tp[2]"
      ],
      "metadata": {
        "colab": {
          "base_uri": "https://localhost:8080/"
        },
        "id": "PYxyx1ug5QlU",
        "outputId": "a2fcf72d-15d0-4a2b-b001-18bf5eb398dd"
      },
      "execution_count": 4,
      "outputs": [
        {
          "output_type": "execute_result",
          "data": {
            "text/plain": [
              "3"
            ]
          },
          "metadata": {},
          "execution_count": 4
        }
      ]
    },
    {
      "cell_type": "markdown",
      "source": [
        "3. Find the length of a tuple without using the `len()` function.\n"
      ],
      "metadata": {
        "id": "_XVI2IAm5Y-i"
      }
    },
    {
      "cell_type": "code",
      "source": [
        "count=0\n",
        "for i in tp:\n",
        "  count=count+1\n",
        "count\n"
      ],
      "metadata": {
        "colab": {
          "base_uri": "https://localhost:8080/"
        },
        "id": "yGYHjKgd5b6k",
        "outputId": "a4df4b37-4023-4973-dc83-f73a5ec0c644"
      },
      "execution_count": 5,
      "outputs": [
        {
          "output_type": "execute_result",
          "data": {
            "text/plain": [
              "5"
            ]
          },
          "metadata": {},
          "execution_count": 5
        }
      ]
    },
    {
      "cell_type": "markdown",
      "source": [
        "4. Count the occurrences of an element in a tuple.\n"
      ],
      "metadata": {
        "id": "f4ErG7cJ5rlD"
      }
    },
    {
      "cell_type": "code",
      "source": [
        "def first_OCC(tp,c):\n",
        "  count=0\n",
        "  for i in tp:\n",
        "    if i==c:\n",
        "      count=count+1\n",
        "  return count\n",
        "c=3\n",
        "first_OCC(tp,c)"
      ],
      "metadata": {
        "colab": {
          "base_uri": "https://localhost:8080/"
        },
        "id": "491hTKdV5sZN",
        "outputId": "364b290a-bf13-4ab4-da2d-814d2ffea795"
      },
      "execution_count": 9,
      "outputs": [
        {
          "output_type": "execute_result",
          "data": {
            "text/plain": [
              "1"
            ]
          },
          "metadata": {},
          "execution_count": 9
        }
      ]
    },
    {
      "cell_type": "markdown",
      "source": [
        "5. Find the index of the first occurrence of an element in a tuple."
      ],
      "metadata": {
        "id": "xnNfzkFm6Goq"
      }
    },
    {
      "cell_type": "code",
      "source": [
        "def index_first_occ(tp,c):\n",
        "  for i in tp:\n",
        "    if i==c:\n",
        "      return tp.index(i)\n",
        "c=3\n",
        "index_first_occ(tp,c)"
      ],
      "metadata": {
        "colab": {
          "base_uri": "https://localhost:8080/"
        },
        "id": "Ft61hZrN6KSt",
        "outputId": "7b748831-8f20-421b-cc66-2438ba649a64"
      },
      "execution_count": 11,
      "outputs": [
        {
          "output_type": "execute_result",
          "data": {
            "text/plain": [
              "2"
            ]
          },
          "metadata": {},
          "execution_count": 11
        }
      ]
    },
    {
      "cell_type": "markdown",
      "source": [
        "6. Check if an element exists in a tuple.\n"
      ],
      "metadata": {
        "id": "y3RPaWeB62f2"
      }
    },
    {
      "cell_type": "code",
      "source": [
        "def element_exist_tuple(tp,c):\n",
        "  for i in tp:\n",
        "    if i==c:\n",
        "      return True\n",
        "c=3\n",
        "element_exist_tuple(tp,c)"
      ],
      "metadata": {
        "colab": {
          "base_uri": "https://localhost:8080/"
        },
        "id": "JWB4hMGq63AN",
        "outputId": "fce00328-471f-4103-d05d-81d780ba4ad9"
      },
      "execution_count": 12,
      "outputs": [
        {
          "output_type": "execute_result",
          "data": {
            "text/plain": [
              "True"
            ]
          },
          "metadata": {},
          "execution_count": 12
        }
      ]
    },
    {
      "cell_type": "markdown",
      "source": [
        "\n",
        "7. Convert a tuple to a list"
      ],
      "metadata": {
        "id": "WekbqZ2l7P4V"
      }
    },
    {
      "cell_type": "code",
      "source": [
        "list(tp)"
      ],
      "metadata": {
        "colab": {
          "base_uri": "https://localhost:8080/"
        },
        "id": "AzsCsRpm7Qbc",
        "outputId": "b02df997-42fd-4704-be00-47ea03c1e118"
      },
      "execution_count": 13,
      "outputs": [
        {
          "output_type": "execute_result",
          "data": {
            "text/plain": [
              "[1, 2, 3, 4, 5]"
            ]
          },
          "metadata": {},
          "execution_count": 13
        }
      ]
    },
    {
      "cell_type": "markdown",
      "source": [
        "\n",
        "8. Convert a list to a tuple"
      ],
      "metadata": {
        "id": "bD7JGarR7U2u"
      }
    },
    {
      "cell_type": "code",
      "source": [
        "tuple(tp)"
      ],
      "metadata": {
        "colab": {
          "base_uri": "https://localhost:8080/"
        },
        "id": "yvTiZjE37ZG0",
        "outputId": "2119ca3f-4818-4f5a-ead9-f0cdf60f7ece"
      },
      "execution_count": 14,
      "outputs": [
        {
          "output_type": "execute_result",
          "data": {
            "text/plain": [
              "(1, 2, 3, 4, 5)"
            ]
          },
          "metadata": {},
          "execution_count": 14
        }
      ]
    },
    {
      "cell_type": "markdown",
      "source": [
        "9. Unpack the elements of a tuple into variables.\n"
      ],
      "metadata": {
        "id": "MY6gKBFw7fwS"
      }
    },
    {
      "cell_type": "code",
      "source": [
        "tp1=(1,2,3)\n",
        "var1,var2,var3=tp1\n",
        "print(var1)\n",
        "print(var2)\n",
        "print(var3)"
      ],
      "metadata": {
        "colab": {
          "base_uri": "https://localhost:8080/"
        },
        "id": "QMGBnb7O7gXU",
        "outputId": "7600c063-5ac0-4e29-a0ff-9e121622c4fb"
      },
      "execution_count": 17,
      "outputs": [
        {
          "output_type": "stream",
          "name": "stdout",
          "text": [
            "1\n",
            "2\n",
            "3\n"
          ]
        }
      ]
    },
    {
      "cell_type": "markdown",
      "source": [
        "10. Create a tuple of even numbers from 1 to 10.\n"
      ],
      "metadata": {
        "id": "El6_haG18MMj"
      }
    },
    {
      "cell_type": "code",
      "source": [
        "even_number=[num for num in range(2,10,2)]\n",
        "even_tuple=tuple(even_number)\n",
        "even_tuple"
      ],
      "metadata": {
        "colab": {
          "base_uri": "https://localhost:8080/"
        },
        "id": "hA-gl_o18MyN",
        "outputId": "2a9bd483-8874-4c55-9a64-e9b8080885df"
      },
      "execution_count": 20,
      "outputs": [
        {
          "output_type": "execute_result",
          "data": {
            "text/plain": [
              "(2, 4, 6, 8)"
            ]
          },
          "metadata": {},
          "execution_count": 20
        }
      ]
    },
    {
      "cell_type": "markdown",
      "source": [
        "11. Create a tuple of odd numbers from 1 to 10.\n"
      ],
      "metadata": {
        "id": "8OYc4mB99Ako"
      }
    },
    {
      "cell_type": "code",
      "source": [
        "odd_number=[num for num in range(1,11,2)]\n",
        "odd_tuple=tuple(odd_number)\n",
        "odd_tuple"
      ],
      "metadata": {
        "colab": {
          "base_uri": "https://localhost:8080/"
        },
        "id": "4TCWZ0Pu9Cnk",
        "outputId": "e460cb2e-0b13-4f6e-d864-2f868080ffdf"
      },
      "execution_count": 22,
      "outputs": [
        {
          "output_type": "execute_result",
          "data": {
            "text/plain": [
              "(1, 3, 5, 7, 9)"
            ]
          },
          "metadata": {},
          "execution_count": 22
        }
      ]
    },
    {
      "cell_type": "markdown",
      "source": [
        "\n",
        "12. Concatenate two tuples"
      ],
      "metadata": {
        "id": "K8FIOYHL9PRD"
      }
    },
    {
      "cell_type": "code",
      "source": [
        "t1=(1,2,3,4)\n",
        "t2=(5,6,7)\n",
        "s=t1+t2\n",
        "s"
      ],
      "metadata": {
        "colab": {
          "base_uri": "https://localhost:8080/"
        },
        "id": "judNWP0a9SjC",
        "outputId": "d5420fd5-eea8-4adc-bd4c-84c3bffdd52d"
      },
      "execution_count": 26,
      "outputs": [
        {
          "output_type": "execute_result",
          "data": {
            "text/plain": [
              "(1, 2, 3, 4, 5, 6, 7)"
            ]
          },
          "metadata": {},
          "execution_count": 26
        }
      ]
    },
    {
      "cell_type": "markdown",
      "source": [
        "\n",
        "13. Repeat a tuple three times."
      ],
      "metadata": {
        "id": "z8aT9EKw9pzE"
      }
    },
    {
      "cell_type": "code",
      "source": [
        "three_times=t1*3\n",
        "three_times"
      ],
      "metadata": {
        "colab": {
          "base_uri": "https://localhost:8080/"
        },
        "id": "CPRSOjEJ9qYM",
        "outputId": "32b0ae6a-b084-4431-97c7-1c574b9e0392"
      },
      "execution_count": 27,
      "outputs": [
        {
          "output_type": "execute_result",
          "data": {
            "text/plain": [
              "(1, 2, 3, 4, 1, 2, 3, 4, 1, 2, 3, 4)"
            ]
          },
          "metadata": {},
          "execution_count": 27
        }
      ]
    },
    {
      "cell_type": "markdown",
      "source": [
        "14. Check if a tuple is empty.\n"
      ],
      "metadata": {
        "id": "UeYaFSFP9zVU"
      }
    },
    {
      "cell_type": "code",
      "execution_count": 28,
      "metadata": {
        "colab": {
          "base_uri": "https://localhost:8080/"
        },
        "id": "KnupOMgfC4RQ",
        "outputId": "550f46b8-c642-49cc-9636-8a565e5b8e6f"
      },
      "outputs": [
        {
          "output_type": "stream",
          "name": "stdout",
          "text": [
            "The empty_tuple is empty.\n",
            "The non_empty_tuple is not empty.\n"
          ]
        }
      ],
      "source": [
        "# Step 1: Create an empty tuple and a non-empty tuple\n",
        "empty_tuple = ()\n",
        "non_empty_tuple = (1, 2, 3)\n",
        "\n",
        "# Step 2: Check if the tuples are empty\n",
        "if not empty_tuple:\n",
        "    print(\"The empty_tuple is empty.\")\n",
        "else:\n",
        "    print(\"The empty_tuple is not empty.\")\n",
        "\n",
        "if not non_empty_tuple:\n",
        "    print(\"The non_empty_tuple is empty.\")\n",
        "else:\n",
        "    print(\"The non_empty_tuple is not empty.\")"
      ]
    },
    {
      "cell_type": "markdown",
      "source": [
        "\n",
        "15. Create a nested tuple"
      ],
      "metadata": {
        "id": "ZOosF5L5-UMX"
      }
    },
    {
      "cell_type": "code",
      "source": [
        "nested_tuple=((1,2,3),(4,5,6),(True,False))\n",
        "nested_tuple"
      ],
      "metadata": {
        "colab": {
          "base_uri": "https://localhost:8080/"
        },
        "id": "1fxBdu91-Whj",
        "outputId": "b84f7a45-35c9-4731-8cf4-6de731bc1361"
      },
      "execution_count": 29,
      "outputs": [
        {
          "output_type": "execute_result",
          "data": {
            "text/plain": [
              "((1, 2, 3), (4, 5, 6), (True, False))"
            ]
          },
          "metadata": {},
          "execution_count": 29
        }
      ]
    },
    {
      "cell_type": "markdown",
      "source": [
        "16. Access the first element of a nested tuple.\n"
      ],
      "metadata": {
        "id": "V66aNkUL-mHl"
      }
    },
    {
      "cell_type": "code",
      "source": [
        "nested_tuple[0]"
      ],
      "metadata": {
        "colab": {
          "base_uri": "https://localhost:8080/"
        },
        "id": "GhxokQCO-mxB",
        "outputId": "e513c78b-9dc2-41ff-cbf7-88d3c94e1f68"
      },
      "execution_count": 30,
      "outputs": [
        {
          "output_type": "execute_result",
          "data": {
            "text/plain": [
              "(1, 2, 3)"
            ]
          },
          "metadata": {},
          "execution_count": 30
        }
      ]
    },
    {
      "cell_type": "markdown",
      "source": [
        "17. Create a tuple with a single element.\n"
      ],
      "metadata": {
        "id": "e5-8mt_m-sAT"
      }
    },
    {
      "cell_type": "code",
      "source": [
        "single_element=(1,)\n",
        "single_element"
      ],
      "metadata": {
        "colab": {
          "base_uri": "https://localhost:8080/"
        },
        "id": "PnTc2sLd-slJ",
        "outputId": "fa1fe427-8456-45c6-a6f1-4533b9686f68"
      },
      "execution_count": 33,
      "outputs": [
        {
          "output_type": "execute_result",
          "data": {
            "text/plain": [
              "(1,)"
            ]
          },
          "metadata": {},
          "execution_count": 33
        }
      ]
    },
    {
      "cell_type": "markdown",
      "source": [
        "\n",
        "18. Compare two tuples"
      ],
      "metadata": {
        "id": "0PhRFF2--83M"
      }
    },
    {
      "cell_type": "code",
      "source": [
        "compare=t1==t2\n",
        "compare"
      ],
      "metadata": {
        "colab": {
          "base_uri": "https://localhost:8080/"
        },
        "id": "snePOGkV-9d6",
        "outputId": "e0355d75-fb68-40f9-8202-b0dc539fa750"
      },
      "execution_count": 35,
      "outputs": [
        {
          "output_type": "execute_result",
          "data": {
            "text/plain": [
              "False"
            ]
          },
          "metadata": {},
          "execution_count": 35
        }
      ]
    },
    {
      "cell_type": "markdown",
      "source": [
        "19. Delete a tuple.\n"
      ],
      "metadata": {
        "id": "IR-LNqyW_aBT"
      }
    },
    {
      "cell_type": "code",
      "source": [
        "del t1"
      ],
      "metadata": {
        "id": "8_6KbhoC_azh"
      },
      "execution_count": 40,
      "outputs": []
    },
    {
      "cell_type": "markdown",
      "source": [
        "20. Slice a tuple"
      ],
      "metadata": {
        "id": "GEUCOf7q_9Gj"
      }
    },
    {
      "cell_type": "code",
      "source": [
        "t2[2:4]"
      ],
      "metadata": {
        "colab": {
          "base_uri": "https://localhost:8080/"
        },
        "id": "wIc8TlU__9x6",
        "outputId": "5daaa37f-0011-4f40-ad69-8985f1f1868e"
      },
      "execution_count": 41,
      "outputs": [
        {
          "output_type": "execute_result",
          "data": {
            "text/plain": [
              "(7,)"
            ]
          },
          "metadata": {},
          "execution_count": 41
        }
      ]
    },
    {
      "cell_type": "markdown",
      "source": [
        "21. Find the maximum value in a tuple.\n"
      ],
      "metadata": {
        "id": "JxLR4e23ADoR"
      }
    },
    {
      "cell_type": "code",
      "source": [
        "s=max(t2)\n",
        "s"
      ],
      "metadata": {
        "colab": {
          "base_uri": "https://localhost:8080/"
        },
        "id": "oZFcrOPIAENx",
        "outputId": "053666c6-3057-41cd-f76c-257acebf8475"
      },
      "execution_count": 43,
      "outputs": [
        {
          "output_type": "execute_result",
          "data": {
            "text/plain": [
              "7"
            ]
          },
          "metadata": {},
          "execution_count": 43
        }
      ]
    },
    {
      "cell_type": "markdown",
      "source": [
        "\n",
        "22. Find the minimum value in a tuple"
      ],
      "metadata": {
        "id": "PXY75FEEAKNQ"
      }
    },
    {
      "cell_type": "code",
      "source": [
        "s=min(t2)\n",
        "s"
      ],
      "metadata": {
        "colab": {
          "base_uri": "https://localhost:8080/"
        },
        "id": "VsdbNQtAAMpa",
        "outputId": "36d29858-eca9-4bf9-e96d-30bee8c93735"
      },
      "execution_count": 44,
      "outputs": [
        {
          "output_type": "execute_result",
          "data": {
            "text/plain": [
              "5"
            ]
          },
          "metadata": {},
          "execution_count": 44
        }
      ]
    },
    {
      "cell_type": "markdown",
      "source": [
        "23. Convert a string to a tuple of characters.\n"
      ],
      "metadata": {
        "id": "t7m482JKARpE"
      }
    },
    {
      "cell_type": "code",
      "source": [
        "s=\"himansu\"\n",
        "tuple(s)"
      ],
      "metadata": {
        "colab": {
          "base_uri": "https://localhost:8080/"
        },
        "id": "VWZLLlCvASNp",
        "outputId": "b800aa6a-3b1e-4c0d-e8ee-33fe1dbf854a"
      },
      "execution_count": 45,
      "outputs": [
        {
          "output_type": "execute_result",
          "data": {
            "text/plain": [
              "('h', 'i', 'm', 'a', 'n', 's', 'u')"
            ]
          },
          "metadata": {},
          "execution_count": 45
        }
      ]
    },
    {
      "cell_type": "markdown",
      "source": [
        "\n",
        "24. Convert a tuple of characters to a string.\n"
      ],
      "metadata": {
        "id": "V7j395bEAgEj"
      }
    },
    {
      "cell_type": "code",
      "source": [
        "str(s)"
      ],
      "metadata": {
        "colab": {
          "base_uri": "https://localhost:8080/",
          "height": 36
        },
        "id": "Kw2UBEXAAgmA",
        "outputId": "b1f82987-4c5e-4bc3-b9e1-a2f93d6406cf"
      },
      "execution_count": 47,
      "outputs": [
        {
          "output_type": "execute_result",
          "data": {
            "text/plain": [
              "'himansu'"
            ],
            "application/vnd.google.colaboratory.intrinsic+json": {
              "type": "string"
            }
          },
          "metadata": {},
          "execution_count": 47
        }
      ]
    },
    {
      "cell_type": "markdown",
      "source": [
        "25. Create a tuple from multiple data types.\n"
      ],
      "metadata": {
        "id": "K4HruFOVBjn3"
      }
    },
    {
      "cell_type": "code",
      "source": [
        "mixed_tuple=(1,3.14,\"hllo\",True)\n",
        "mixed_tuple"
      ],
      "metadata": {
        "colab": {
          "base_uri": "https://localhost:8080/"
        },
        "id": "Xb67RkTJBkIa",
        "outputId": "f90fa56b-6e64-43c6-cf3f-0bde7cd1f095"
      },
      "execution_count": 48,
      "outputs": [
        {
          "output_type": "execute_result",
          "data": {
            "text/plain": [
              "(1, 3.14, 'hllo', True)"
            ]
          },
          "metadata": {},
          "execution_count": 48
        }
      ]
    },
    {
      "cell_type": "markdown",
      "source": [
        "\n",
        "26. Check if two tuples are identical"
      ],
      "metadata": {
        "id": "BG7J6d_mCAn4"
      }
    },
    {
      "cell_type": "code",
      "execution_count": 49,
      "metadata": {
        "colab": {
          "base_uri": "https://localhost:8080/"
        },
        "id": "8okUaLN8Z8BV",
        "outputId": "6885e78f-d3f8-4271-9abe-1e92a440a741"
      },
      "outputs": [
        {
          "output_type": "stream",
          "name": "stdout",
          "text": [
            "tuple1 and tuple2 are identical: True\n",
            "tuple1 and tuple3 are identical: False\n"
          ]
        }
      ],
      "source": [
        "# Step 1: Create two tuples\n",
        "tuple1 = (1, 2, 3)\n",
        "tuple2 = (1, 2, 3)\n",
        "tuple3 = (4, 5, 6)\n",
        "\n",
        "# Step 2: Compare the tuples for identity using the equality operator\n",
        "are_identical1 = tuple1 == tuple2\n",
        "are_identical2 = tuple1 == tuple3\n",
        "\n",
        "# Step 3: Print the results\n",
        "print(\"tuple1 and tuple2 are identical:\", are_identical1)\n",
        "print(\"tuple1 and tuple3 are identical:\", are_identical2)"
      ]
    },
    {
      "cell_type": "markdown",
      "source": [
        "\n",
        "27. Sort the elements of a tuple."
      ],
      "metadata": {
        "id": "6dRXPvsDCtYo"
      }
    },
    {
      "cell_type": "code",
      "source": [
        "t3=(3.42,1,2,6)\n",
        "sorted(t3)"
      ],
      "metadata": {
        "colab": {
          "base_uri": "https://localhost:8080/"
        },
        "id": "uSiHG8xlCt7Y",
        "outputId": "a2600724-3eb2-4bbb-a9a9-b2bd80ca0630"
      },
      "execution_count": 52,
      "outputs": [
        {
          "output_type": "execute_result",
          "data": {
            "text/plain": [
              "[1, 2, 3.42, 6]"
            ]
          },
          "metadata": {},
          "execution_count": 52
        }
      ]
    },
    {
      "cell_type": "markdown",
      "source": [
        "\n",
        "28. Convert a tuple of integers to a tuple of strings"
      ],
      "metadata": {
        "id": "2p6CR_4FDCZI"
      }
    },
    {
      "cell_type": "code",
      "source": [
        "t4=(1,2,3,4)\n",
        "s=[tuple(str(i) for i in t4)]\n",
        "s\n",
        "\n",
        "\n",
        "\n",
        "\n",
        "\n"
      ],
      "metadata": {
        "colab": {
          "base_uri": "https://localhost:8080/"
        },
        "id": "Xg4eIk61DC9g",
        "outputId": "b7b9000e-2661-4e02-80c9-a8487da6753c"
      },
      "execution_count": 64,
      "outputs": [
        {
          "output_type": "execute_result",
          "data": {
            "text/plain": [
              "[('1', '2', '3', '4')]"
            ]
          },
          "metadata": {},
          "execution_count": 64
        }
      ]
    },
    {
      "cell_type": "markdown",
      "source": [
        "\n",
        "29. Convert a tuple of strings to a tuple of integers"
      ],
      "metadata": {
        "id": "nhQUxVlvEwco"
      }
    },
    {
      "cell_type": "code",
      "source": [
        "t5=(\"1\",\"3\",\"4\",\"5\")\n",
        "s=[tuple(int(i) for i in t5)]\n",
        "s"
      ],
      "metadata": {
        "colab": {
          "base_uri": "https://localhost:8080/"
        },
        "id": "j5ZNlQznExDf",
        "outputId": "d6a8a731-57b2-4409-d20e-c450667f3e7e"
      },
      "execution_count": 65,
      "outputs": [
        {
          "output_type": "execute_result",
          "data": {
            "text/plain": [
              "[(1, 3, 4, 5)]"
            ]
          },
          "metadata": {},
          "execution_count": 65
        }
      ]
    },
    {
      "cell_type": "markdown",
      "source": [
        "\n",
        "30. Merge two tuples.\n"
      ],
      "metadata": {
        "id": "SmJC1b51E9UQ"
      }
    },
    {
      "cell_type": "code",
      "source": [
        "tup1=(1,2,3,4)\n",
        "tup2=(6,7,8)\n",
        "s=tup1+tup2\n",
        "s"
      ],
      "metadata": {
        "colab": {
          "base_uri": "https://localhost:8080/"
        },
        "id": "vtfRl8ghE_3Y",
        "outputId": "9ee25c57-8c22-4f4f-b3ab-0fecefac72e6"
      },
      "execution_count": 66,
      "outputs": [
        {
          "output_type": "execute_result",
          "data": {
            "text/plain": [
              "(1, 2, 3, 4, 6, 7, 8)"
            ]
          },
          "metadata": {},
          "execution_count": 66
        }
      ]
    },
    {
      "cell_type": "markdown",
      "source": [
        "\n",
        "31. Flatten a nested tuple.\n"
      ],
      "metadata": {
        "id": "lvdJWSnbFNEk"
      }
    },
    {
      "cell_type": "code",
      "execution_count": 67,
      "metadata": {
        "colab": {
          "base_uri": "https://localhost:8080/"
        },
        "id": "QLFlrwN7bDev",
        "outputId": "c3d2b0e0-b256-41fa-be52-6681903a8fe6"
      },
      "outputs": [
        {
          "output_type": "stream",
          "name": "stdout",
          "text": [
            "Flattened tuple: (1, 2, 3, 4, 5, 6, 7, 8)\n"
          ]
        }
      ],
      "source": [
        "# Recursive function to flatten a nested tuple\n",
        "def flatten_tuple(nested_tuple):\n",
        "    flattened = []\n",
        "    for item in nested_tuple:\n",
        "        if isinstance(item, tuple):\n",
        "            flattened.extend(flatten_tuple(item))\n",
        "        else:\n",
        "            flattened.append(item)\n",
        "    return flattened\n",
        "\n",
        "# Step 1: Create a nested tuple\n",
        "nested_tuple = ((1, 2), (3, 4, 5), (6, (7, 8)))\n",
        "\n",
        "# Step 2: Flatten the nested tuple\n",
        "flattened_tuple = tuple(flatten_tuple(nested_tuple))\n",
        "\n",
        "# Step 3: Print the flattened tuple\n",
        "print(\"Flattened tuple:\", flattened_tuple)"
      ]
    },
    {
      "cell_type": "markdown",
      "source": [
        "\n",
        "32. Create a tuple of the first 5 prime numbers"
      ],
      "metadata": {
        "id": "RFkxdvOAFpgT"
      }
    },
    {
      "cell_type": "code",
      "source": [],
      "metadata": {
        "id": "8Qc-wCsxFs6W"
      },
      "execution_count": null,
      "outputs": []
    },
    {
      "cell_type": "code",
      "execution_count": 68,
      "metadata": {
        "colab": {
          "base_uri": "https://localhost:8080/"
        },
        "id": "VRDkDQA2bSii",
        "outputId": "ea00f7cf-c05d-4fe9-ffa0-906f5cd8cd74"
      },
      "outputs": [
        {
          "output_type": "stream",
          "name": "stdout",
          "text": [
            "Tuple of the first 5 prime numbers: (2, 3, 5, 7, 11)\n"
          ]
        }
      ],
      "source": [
        "# Function to check if a number is prime\n",
        "def is_prime(num):\n",
        "    if num <= 1:\n",
        "        return False\n",
        "    for i in range(2, int(num ** 0.5) + 1):\n",
        "        if num % i == 0:\n",
        "            return False\n",
        "    return True\n",
        "\n",
        "# Generate the first 5 prime numbers\n",
        "prime_numbers_list = [num for num in range(2, 100) if is_prime(num)][:5]\n",
        "\n",
        "# Convert the list to a tuple\n",
        "prime_numbers_tuple = tuple(prime_numbers_list)\n",
        "\n",
        "# Print the tuple of prime numbers\n",
        "print(\"Tuple of the first 5 prime numbers:\", prime_numbers_tuple)"
      ]
    },
    {
      "cell_type": "markdown",
      "source": [
        "\n",
        "33. Check if a tuple is a palindrome.\n"
      ],
      "metadata": {
        "id": "HZoWNIIMF21r"
      }
    },
    {
      "cell_type": "code",
      "source": [
        "def is_palindrome(tup1):\n",
        "  return tup1==tup1[::-1]\n",
        "tup1=(1,2,1)\n",
        "is_palindrome(tup1\n",
        "              )"
      ],
      "metadata": {
        "colab": {
          "base_uri": "https://localhost:8080/"
        },
        "id": "LZdb-eDKF3c3",
        "outputId": "f06d87dc-0f42-49de-ebf9-3775ca8a61f1"
      },
      "execution_count": 69,
      "outputs": [
        {
          "output_type": "execute_result",
          "data": {
            "text/plain": [
              "True"
            ]
          },
          "metadata": {},
          "execution_count": 69
        }
      ]
    },
    {
      "cell_type": "markdown",
      "source": [
        "\n",
        "34. Create a tuple of squares of numbers from 1 to 5"
      ],
      "metadata": {
        "id": "QWTbk453GWW9"
      }
    },
    {
      "cell_type": "code",
      "source": [
        "square=[]\n",
        "for i in range(1,6):\n",
        "  s=i**2\n",
        "  square.append(s)\n",
        "tuple(square)"
      ],
      "metadata": {
        "colab": {
          "base_uri": "https://localhost:8080/"
        },
        "id": "2AW14cidGXGw",
        "outputId": "d365ad34-6105-4229-87e7-530a78cce6be"
      },
      "execution_count": 73,
      "outputs": [
        {
          "output_type": "execute_result",
          "data": {
            "text/plain": [
              "(1, 4, 9, 16, 25)"
            ]
          },
          "metadata": {},
          "execution_count": 73
        }
      ]
    },
    {
      "cell_type": "markdown",
      "source": [
        "35. Filter out all even numbers from a tuple.\n"
      ],
      "metadata": {
        "id": "kfOFRo5WHJLK"
      }
    },
    {
      "cell_type": "code",
      "source": [
        "tup2=(2,3,4,5,6)\n",
        "s=tuple(num for num in tup2 if num%2==0)\n",
        "s"
      ],
      "metadata": {
        "colab": {
          "base_uri": "https://localhost:8080/"
        },
        "id": "RBzmWI7cHJsO",
        "outputId": "ed6235ee-7016-4659-8d29-b8045520aed1"
      },
      "execution_count": 78,
      "outputs": [
        {
          "output_type": "execute_result",
          "data": {
            "text/plain": [
              "(2, 4, 6)"
            ]
          },
          "metadata": {},
          "execution_count": 78
        }
      ]
    },
    {
      "cell_type": "markdown",
      "source": [
        "36. Multiply all elements in a tuple by 2."
      ],
      "metadata": {
        "id": "nAhy2PZWH7JS"
      }
    },
    {
      "cell_type": "code",
      "source": [
        "s=tuple(num*2 for num in tup2)\n",
        "s"
      ],
      "metadata": {
        "colab": {
          "base_uri": "https://localhost:8080/"
        },
        "id": "OkcIBnUOH7v2",
        "outputId": "52f5a201-bc23-4fca-b778-c7ce7b56196a"
      },
      "execution_count": 79,
      "outputs": [
        {
          "output_type": "execute_result",
          "data": {
            "text/plain": [
              "(4, 6, 8, 10, 12)"
            ]
          },
          "metadata": {},
          "execution_count": 79
        }
      ]
    },
    {
      "cell_type": "markdown",
      "source": [
        "37. Create a tuple of random numbers.\n"
      ],
      "metadata": {
        "id": "UYbR2X-gIFXq"
      }
    },
    {
      "cell_type": "code",
      "source": [
        "import random\n",
        "s=tuple(random.randint(1,100) for i in range(1,10))\n",
        "s\n"
      ],
      "metadata": {
        "colab": {
          "base_uri": "https://localhost:8080/"
        },
        "id": "fsCTI1LXIH_G",
        "outputId": "27c20605-d636-4c77-b0a8-79c92fcbf692"
      },
      "execution_count": 82,
      "outputs": [
        {
          "output_type": "execute_result",
          "data": {
            "text/plain": [
              "(70, 14, 90, 75, 35, 45, 94, 61, 40)"
            ]
          },
          "metadata": {},
          "execution_count": 82
        }
      ]
    },
    {
      "cell_type": "markdown",
      "source": [
        "38. Check if a tuple is sorted."
      ],
      "metadata": {
        "id": "0S22Lp3RI2k5"
      }
    },
    {
      "cell_type": "code",
      "execution_count": 83,
      "metadata": {
        "colab": {
          "base_uri": "https://localhost:8080/"
        },
        "id": "U1qeXetYcuXI",
        "outputId": "8fcb1898-ca24-4f1b-ebab-3d590d3878a5"
      },
      "outputs": [
        {
          "output_type": "stream",
          "name": "stdout",
          "text": [
            "sorted_tuple is sorted: True\n",
            "unsorted_tuple is sorted: False\n"
          ]
        }
      ],
      "source": [
        "# Function to check if a tuple is sorted\n",
        "def is_sorted(tup):\n",
        "    for i in range(len(tup) - 1):\n",
        "        if tup[i] > tup[i + 1]:\n",
        "            return False\n",
        "    return True\n",
        "\n",
        "# Create tuples for testing\n",
        "sorted_tuple = (1, 2, 3, 4, 5)\n",
        "unsorted_tuple = (5, 3, 1, 4, 2)\n",
        "\n",
        "# Check if the tuples are sorted\n",
        "is_sorted1 = is_sorted(sorted_tuple)\n",
        "is_sorted2 = is_sorted(unsorted_tuple)\n",
        "\n",
        "# Print the results\n",
        "print(\"sorted_tuple is sorted:\", is_sorted1)\n",
        "print(\"unsorted_tuple is sorted:\", is_sorted2)"
      ]
    },
    {
      "cell_type": "markdown",
      "source": [
        "\n",
        "39. Rotate a tuple to the left by `n` positions"
      ],
      "metadata": {
        "id": "MUYLHscANaF-"
      }
    },
    {
      "cell_type": "code",
      "execution_count": 84,
      "metadata": {
        "colab": {
          "base_uri": "https://localhost:8080/"
        },
        "id": "uejMlLpj7ShG",
        "outputId": "1ac3b4b3-be1c-4642-c1f9-6228958a78cd"
      },
      "outputs": [
        {
          "output_type": "stream",
          "name": "stdout",
          "text": [
            "(3, 4, 5, 1, 2)\n"
          ]
        }
      ],
      "source": [
        "def rotate_tuple_left(tup, n):\n",
        "    n = n % len(tup)  # Ensure n is within the range of tuple length\n",
        "    rotated_tuple = tup[n:] + tup[:n]  # Rotate the tuple\n",
        "    return rotated_tuple\n",
        "\n",
        "# Example tuple\n",
        "my_tuple = (1, 2, 3, 4, 5)\n",
        "n_positions = 2\n",
        "result = rotate_tuple_left(my_tuple, n_positions)\n",
        "print(result)"
      ]
    },
    {
      "cell_type": "markdown",
      "source": [
        "\n",
        "40. Rotate a tuple to the right by `n` positions"
      ],
      "metadata": {
        "id": "nFH_saGxNkzS"
      }
    },
    {
      "cell_type": "code",
      "execution_count": 85,
      "metadata": {
        "colab": {
          "base_uri": "https://localhost:8080/"
        },
        "id": "xJ3dNZMw7iVo",
        "outputId": "7b9072f2-b99d-4ed9-e9ba-fc7e47176b49"
      },
      "outputs": [
        {
          "output_type": "stream",
          "name": "stdout",
          "text": [
            "(4, 5, 1, 2, 3)\n"
          ]
        }
      ],
      "source": [
        "def rotate_tuple_right(tup, n):\n",
        "    n = n % len(tup)  # Ensure n is within the range of tuple length\n",
        "    rotated_tuple = tup[-n:] + tup[:-n]  # Rotate the tuple\n",
        "    return rotated_tuple\n",
        "\n",
        "# Example tuple\n",
        "my_tuple = (1, 2, 3, 4, 5)\n",
        "n_positions = 2\n",
        "result = rotate_tuple_right(my_tuple, n_positions)\n",
        "print(result)"
      ]
    },
    {
      "cell_type": "markdown",
      "source": [
        "41. Create a tuple of the first 5 Fibonacci numbers.\n"
      ],
      "metadata": {
        "id": "t8LO1S57N4ce"
      }
    },
    {
      "cell_type": "code",
      "execution_count": 90,
      "metadata": {
        "colab": {
          "base_uri": "https://localhost:8080/"
        },
        "id": "X7dXQVvC8QTC",
        "outputId": "2ab0a57b-e83e-4110-969a-a40de297fcb4"
      },
      "outputs": [
        {
          "output_type": "stream",
          "name": "stdout",
          "text": [
            "(0, 1, 1, 2, 3)\n"
          ]
        }
      ],
      "source": [
        "# Define a function to generate the first n Fibonacci numbers\n",
        "def generate_fibonacci(n):\n",
        "    fibonacci = [0, 1]  # Initialize the list with the first two Fibonacci numbers\n",
        "    while len(fibonacci) < n:  # Continue generating Fibonacci numbers until the list has n elements\n",
        "        next_number = fibonacci[-1] + fibonacci[-2]  # Calculate the next Fibonacci number\n",
        "        fibonacci.append(next_number)  # Add the next Fibonacci number to the list\n",
        "    return tuple(fibonacci)  # Convert the list to a tuple and return it\n",
        "\n",
        "# Call the generate_fibonacci function to create a tuple of the first 5 Fibonacci numbers\n",
        "fibonacci_tuple = generate_fibonacci(5)\n",
        "\n",
        "# Print the resulting tuple\n",
        "print(fibonacci_tuple)"
      ]
    },
    {
      "cell_type": "markdown",
      "source": [
        "\n",
        "42. Create a tuple from user input"
      ],
      "metadata": {
        "id": "aCBo9sfgPNnP"
      }
    },
    {
      "cell_type": "code",
      "source": [
        "tup=input(\"enter the element\")\n",
        "s=tup.split(\",\")\n",
        "tuple(s)"
      ],
      "metadata": {
        "colab": {
          "base_uri": "https://localhost:8080/"
        },
        "id": "c6v21u_LPQ6J",
        "outputId": "588fe355-1222-434d-df32-65c27721e940"
      },
      "execution_count": 93,
      "outputs": [
        {
          "name": "stdout",
          "output_type": "stream",
          "text": [
            "enter the elementhimansu\n"
          ]
        },
        {
          "output_type": "execute_result",
          "data": {
            "text/plain": [
              "('himansu',)"
            ]
          },
          "metadata": {},
          "execution_count": 93
        }
      ]
    },
    {
      "cell_type": "markdown",
      "source": [
        "\n",
        "43. Swap two elements in a tuple"
      ],
      "metadata": {
        "id": "_HVJXfe4Po_1"
      }
    },
    {
      "cell_type": "code",
      "execution_count": 94,
      "metadata": {
        "colab": {
          "base_uri": "https://localhost:8080/"
        },
        "id": "mjbBK80Q88Ea",
        "outputId": "c1e8d1de-cdc2-465b-dd76-9f0ead081e78"
      },
      "outputs": [
        {
          "output_type": "stream",
          "name": "stdout",
          "text": [
            "Swapped tuple: (1, 4, 3, 2, 5)\n"
          ]
        }
      ],
      "source": [
        "# Create a tuple\n",
        "my_tuple = (1, 2, 3, 4, 5)\n",
        "\n",
        "# Swap elements at indices 1 and 3\n",
        "index1 = 1\n",
        "index2 = 3\n",
        "swapped_tuple = tuple(\n",
        "    my_tuple[i] if i not in (index1, index2) else\n",
        "    my_tuple[index2] if i == index1 else\n",
        "    my_tuple[index1]\n",
        "    for i in range(len(my_tuple))\n",
        ")\n",
        "\n",
        "# Print the swapped tuple\n",
        "print(\"Swapped tuple:\", swapped_tuple)"
      ]
    },
    {
      "cell_type": "markdown",
      "source": [
        "44. Reverse the elements of a tuple.\n"
      ],
      "metadata": {
        "id": "cQHwbasZQLIQ"
      }
    },
    {
      "cell_type": "code",
      "execution_count": null,
      "metadata": {
        "colab": {
          "base_uri": "https://localhost:8080/"
        },
        "id": "GLjlZw0T9tnx",
        "outputId": "00266414-0565-459d-8021-df3b7da2ad80"
      },
      "outputs": [
        {
          "name": "stdout",
          "output_type": "stream",
          "text": [
            "Reversed tuple: (5, 4, 3, 2, 1)\n"
          ]
        }
      ],
      "source": [
        "# Create a tuple\n",
        "my_tuple = (1, 2, 3, 4, 5)\n",
        "\n",
        "# Reverse the elements using slicing\n",
        "reversed_tuple = my_tuple[::-1]\n",
        "\n",
        "# Print the reversed tuple\n",
        "print(\"Reversed tuple:\", reversed_tuple)"
      ]
    },
    {
      "cell_type": "markdown",
      "source": [
        "45. Create a tuple of the first `n` powers of 2.\n"
      ],
      "metadata": {
        "id": "4_oTZUp3QX4z"
      }
    },
    {
      "cell_type": "code",
      "source": [
        "def n_power(n):\n",
        "  s=tuple(num**2 for num in range(n+1))\n",
        "  return s\n",
        "n=5\n",
        "n_power(n)"
      ],
      "metadata": {
        "colab": {
          "base_uri": "https://localhost:8080/"
        },
        "id": "kKj0yD3aQa7S",
        "outputId": "a2057fde-3375-43ec-cb50-ad85be3e36c9"
      },
      "execution_count": 96,
      "outputs": [
        {
          "output_type": "execute_result",
          "data": {
            "text/plain": [
              "(0, 1, 4, 9, 16, 25)"
            ]
          },
          "metadata": {},
          "execution_count": 96
        }
      ]
    },
    {
      "cell_type": "markdown",
      "source": [
        "46. Find the longest string in a tuple of strings.\n"
      ],
      "metadata": {
        "id": "1jKBYf01QzPB"
      }
    },
    {
      "cell_type": "code",
      "source": [
        "string_tuple=(\"hello\",\"hi\",\"hhh\")\n",
        "longest_strings=max(string_tuple,key=len)\n",
        "longest_strings"
      ],
      "metadata": {
        "colab": {
          "base_uri": "https://localhost:8080/",
          "height": 36
        },
        "id": "VoMJm1O_Q56k",
        "outputId": "7821527f-3be4-416e-bd1b-7813b95340df"
      },
      "execution_count": 97,
      "outputs": [
        {
          "output_type": "execute_result",
          "data": {
            "text/plain": [
              "'hello'"
            ],
            "application/vnd.google.colaboratory.intrinsic+json": {
              "type": "string"
            }
          },
          "metadata": {},
          "execution_count": 97
        }
      ]
    },
    {
      "cell_type": "markdown",
      "source": [
        "47. Find the shortest string in a tuple of strings.\n"
      ],
      "metadata": {
        "id": "177Hvw3ARNG5"
      }
    },
    {
      "cell_type": "code",
      "source": [
        "string_tuple=(\"hello\",\"hi\",\"hhh\")\n",
        "shortest_strings=min(string_tuple,key=len)\n",
        "shortest_strings"
      ],
      "metadata": {
        "colab": {
          "base_uri": "https://localhost:8080/",
          "height": 36
        },
        "id": "P5UU9NodRQ8G",
        "outputId": "d576edab-298d-4405-e56c-d3467fa6de24"
      },
      "execution_count": 100,
      "outputs": [
        {
          "output_type": "execute_result",
          "data": {
            "text/plain": [
              "'hi'"
            ],
            "application/vnd.google.colaboratory.intrinsic+json": {
              "type": "string"
            }
          },
          "metadata": {},
          "execution_count": 100
        }
      ]
    },
    {
      "cell_type": "markdown",
      "source": [
        "\n",
        "48. Create a tuple of the first `n` triangular numbers"
      ],
      "metadata": {
        "id": "R7sWLFPPRdxa"
      }
    },
    {
      "cell_type": "code",
      "execution_count": 101,
      "metadata": {
        "colab": {
          "base_uri": "https://localhost:8080/"
        },
        "id": "Fjs9tenZ_mY3",
        "outputId": "e0159df4-2add-4f54-f53d-0efdd4e39b33"
      },
      "outputs": [
        {
          "output_type": "stream",
          "name": "stdout",
          "text": [
            "Tuple of the first 5 triangular numbers: (1, 3, 6, 10, 15)\n"
          ]
        }
      ],
      "source": [
        "# Define the value of n\n",
        "n = 5\n",
        "\n",
        "# Create a tuple of the first n triangular numbers using a list comprehension\n",
        "triangular_numbers_tuple = tuple((i * (i + 1)) // 2 for i in range(1, n + 1))\n",
        "\n",
        "# Print the tuple of triangular numbers\n",
        "print(\"Tuple of the first\", n, \"triangular numbers:\", triangular_numbers_tuple)"
      ]
    },
    {
      "cell_type": "markdown",
      "source": [
        "49. Check if a tuple contains another tuple as a subsequence.\n"
      ],
      "metadata": {
        "id": "YPWqQVSmRuqp"
      }
    },
    {
      "cell_type": "code",
      "execution_count": 102,
      "metadata": {
        "colab": {
          "base_uri": "https://localhost:8080/"
        },
        "id": "Q0sFzkTW_tgc",
        "outputId": "d0c455b8-ec0a-453a-b6be-63f5abf567e1"
      },
      "outputs": [
        {
          "output_type": "stream",
          "name": "stdout",
          "text": [
            "Main tuple contains subsequence tuple: True\n"
          ]
        }
      ],
      "source": [
        "# Function to check if a tuple contains another tuple as a subsequence\n",
        "def contains_subsequence(main_tuple, sub_tuple):\n",
        "    sub_length = len(sub_tuple)\n",
        "    for i in range(len(main_tuple) - sub_length + 1):\n",
        "        if main_tuple[i:i+sub_length] == sub_tuple:\n",
        "            return True\n",
        "    return False\n",
        "\n",
        "# Main tuple\n",
        "main_tuple = (1, 2, 3, 4, 5, 6, 7, 8, 9)\n",
        "\n",
        "# Subsequence tuple\n",
        "sub_tuple = (3, 4, 5)\n",
        "\n",
        "# Check if the main tuple contains the subsequence tuple\n",
        "contains_subseq = contains_subsequence(main_tuple, sub_tuple)\n",
        "\n",
        "# Print the result\n",
        "print(\"Main tuple contains subsequence tuple:\", contains_subseq)"
      ]
    },
    {
      "cell_type": "markdown",
      "source": [
        "50. Create a tuple of alternating 1s and 0s of length `n`"
      ],
      "metadata": {
        "id": "-W0up1fVSPT8"
      }
    },
    {
      "cell_type": "code",
      "source": [
        "n=5\n",
        "s=tuple(n%2 for n in range(n))\n",
        "s"
      ],
      "metadata": {
        "colab": {
          "base_uri": "https://localhost:8080/"
        },
        "id": "Z6iebav5SVlC",
        "outputId": "731621df-e782-40ee-ad6b-3e17a38e7004"
      },
      "execution_count": 103,
      "outputs": [
        {
          "output_type": "execute_result",
          "data": {
            "text/plain": [
              "(0, 1, 0, 1, 0)"
            ]
          },
          "metadata": {},
          "execution_count": 103
        }
      ]
    },
    {
      "cell_type": "markdown",
      "source": [
        "**SET**"
      ],
      "metadata": {
        "id": "o-n1QXFCSfUD"
      }
    },
    {
      "cell_type": "markdown",
      "source": [
        "1. Create a set with integers from 1 to 5.\n"
      ],
      "metadata": {
        "id": "OQTUktx6Sjdp"
      }
    },
    {
      "cell_type": "code",
      "source": [
        "S={1,2,3,4,5}\n",
        "S"
      ],
      "metadata": {
        "colab": {
          "base_uri": "https://localhost:8080/"
        },
        "id": "6H6LqyjfSiqL",
        "outputId": "bfbe5d83-7cfe-487e-d1ca-55c52bfb9c0b"
      },
      "execution_count": 105,
      "outputs": [
        {
          "output_type": "execute_result",
          "data": {
            "text/plain": [
              "{1, 2, 3, 4, 5}"
            ]
          },
          "metadata": {},
          "execution_count": 105
        }
      ]
    },
    {
      "cell_type": "markdown",
      "source": [
        "2. Add an element to a set.\n"
      ],
      "metadata": {
        "id": "CONfxUilcCAi"
      }
    },
    {
      "cell_type": "code",
      "source": [
        "S.add(10)\n",
        "S"
      ],
      "metadata": {
        "colab": {
          "base_uri": "https://localhost:8080/"
        },
        "id": "t6BifMnycDIC",
        "outputId": "dc5d4915-ccc4-4cc9-d8cc-9dc2cad538d7"
      },
      "execution_count": 108,
      "outputs": [
        {
          "output_type": "execute_result",
          "data": {
            "text/plain": [
              "{1, 2, 3, 4, 5, 10}"
            ]
          },
          "metadata": {},
          "execution_count": 108
        }
      ]
    },
    {
      "cell_type": "markdown",
      "source": [
        "3. Remove an element from a set.\n"
      ],
      "metadata": {
        "id": "5lkpjmJIcOyg"
      }
    },
    {
      "cell_type": "code",
      "source": [
        "S.remove(4)\n",
        "S"
      ],
      "metadata": {
        "colab": {
          "base_uri": "https://localhost:8080/"
        },
        "id": "ZqguIdAdcQbj",
        "outputId": "aa02eb9d-79f1-4c83-92e4-043d5f636c80"
      },
      "execution_count": 115,
      "outputs": [
        {
          "output_type": "execute_result",
          "data": {
            "text/plain": [
              "{1, 2, 3}"
            ]
          },
          "metadata": {},
          "execution_count": 115
        }
      ]
    },
    {
      "cell_type": "markdown",
      "source": [
        "\n",
        "4. Check if an element exists in a set"
      ],
      "metadata": {
        "id": "v-JFsLhfcmgP"
      }
    },
    {
      "cell_type": "code",
      "source": [
        "def set_element(s,ch):\n",
        "  lst=list(s)\n",
        "  for i in s:\n",
        "    if lst[i]==ch:\n",
        "      return True\n",
        "s={1,2,3,4}\n",
        "ch=4\n",
        "set_element(s,ch)"
      ],
      "metadata": {
        "colab": {
          "base_uri": "https://localhost:8080/"
        },
        "id": "NCc44gRHcp2a",
        "outputId": "7a95087c-937c-4348-b15d-3fcf3cc52684"
      },
      "execution_count": 116,
      "outputs": [
        {
          "output_type": "execute_result",
          "data": {
            "text/plain": [
              "True"
            ]
          },
          "metadata": {},
          "execution_count": 116
        }
      ]
    },
    {
      "cell_type": "markdown",
      "source": [
        "5. Find the length of a set without using the `len()` function.\n"
      ],
      "metadata": {
        "id": "MgzBjmWidc2s"
      }
    },
    {
      "cell_type": "code",
      "source": [
        "def set_length(s):\n",
        "  lst=list(s)\n",
        "  count=0\n",
        "  for i in s:\n",
        "    count=count+1\n",
        "  return count\n",
        "s={1,2,3,4}\n",
        "set_length(s)"
      ],
      "metadata": {
        "colab": {
          "base_uri": "https://localhost:8080/"
        },
        "id": "gRsYR9o-dfHq",
        "outputId": "66482917-063b-4e02-9aea-06e9cc1d7f2f"
      },
      "execution_count": 117,
      "outputs": [
        {
          "output_type": "execute_result",
          "data": {
            "text/plain": [
              "4"
            ]
          },
          "metadata": {},
          "execution_count": 117
        }
      ]
    },
    {
      "cell_type": "markdown",
      "source": [
        "6. Clear all elements from a set.\n"
      ],
      "metadata": {
        "id": "uQAYZtK7d4ow"
      }
    },
    {
      "cell_type": "code",
      "source": [
        "s={1,2,3,4}\n",
        "s.clear()"
      ],
      "metadata": {
        "id": "hdQTJkyod6NS"
      },
      "execution_count": 118,
      "outputs": []
    },
    {
      "cell_type": "code",
      "source": [
        "s"
      ],
      "metadata": {
        "colab": {
          "base_uri": "https://localhost:8080/"
        },
        "id": "ruSED35Kd_wa",
        "outputId": "60fc533a-be05-46a6-d720-0244692ae818"
      },
      "execution_count": 119,
      "outputs": [
        {
          "output_type": "execute_result",
          "data": {
            "text/plain": [
              "set()"
            ]
          },
          "metadata": {},
          "execution_count": 119
        }
      ]
    },
    {
      "cell_type": "markdown",
      "source": [
        "\n",
        "7. Create a set of even numbers from 1 to 10."
      ],
      "metadata": {
        "id": "WBXav-JqeDTr"
      }
    },
    {
      "cell_type": "code",
      "source": [
        "def set_even(s):\n",
        "  lst=list(s)\n",
        "  for i in range(1,11):\n",
        "    if i%2==0:\n",
        "      lst.append(i)\n",
        "  return set(lst)\n",
        "s=()\n",
        "set_even(s)\n"
      ],
      "metadata": {
        "colab": {
          "base_uri": "https://localhost:8080/"
        },
        "id": "hzGPLg2yeD_i",
        "outputId": "487fd187-7fea-4be9-f3de-9f39faf8b2af"
      },
      "execution_count": 121,
      "outputs": [
        {
          "output_type": "execute_result",
          "data": {
            "text/plain": [
              "{2, 4, 6, 8, 10}"
            ]
          },
          "metadata": {},
          "execution_count": 121
        }
      ]
    },
    {
      "cell_type": "markdown",
      "source": [
        "8. Create a set of odd numbers from 1 to 10.\n"
      ],
      "metadata": {
        "id": "yoZ7BYcte5W0"
      }
    },
    {
      "cell_type": "code",
      "source": [
        "def set_odd(s):\n",
        "  lst=list(s)\n",
        "  for i in range(1,11):\n",
        "    if i%2!=0:\n",
        "      lst.append(i)\n",
        "  return set(lst)\n",
        "s=()\n",
        "set_odd(s)"
      ],
      "metadata": {
        "colab": {
          "base_uri": "https://localhost:8080/"
        },
        "id": "2ABfU3yNe7sK",
        "outputId": "994d3ee8-f523-4e75-987a-2f0f30c740cb"
      },
      "execution_count": 122,
      "outputs": [
        {
          "output_type": "execute_result",
          "data": {
            "text/plain": [
              "{1, 3, 5, 7, 9}"
            ]
          },
          "metadata": {},
          "execution_count": 122
        }
      ]
    },
    {
      "cell_type": "markdown",
      "source": [
        "9. Find the union of two sets.\n"
      ],
      "metadata": {
        "id": "OUxViNPcfGiv"
      }
    },
    {
      "cell_type": "code",
      "source": [
        "set1={1,2,3,4}\n",
        "set2={4,3,2,65,7}\n",
        "union_res=set1.union(set2)\n",
        "union_res"
      ],
      "metadata": {
        "colab": {
          "base_uri": "https://localhost:8080/"
        },
        "id": "0pDvq4WxfJCZ",
        "outputId": "c89bef91-939d-4a3a-c0af-21c1599dd6a5"
      },
      "execution_count": 123,
      "outputs": [
        {
          "output_type": "execute_result",
          "data": {
            "text/plain": [
              "{1, 2, 3, 4, 7, 65}"
            ]
          },
          "metadata": {},
          "execution_count": 123
        }
      ]
    },
    {
      "cell_type": "markdown",
      "source": [
        "10. Find the intersection of two sets."
      ],
      "metadata": {
        "id": "hOWIxBOZfWye"
      }
    },
    {
      "cell_type": "code",
      "source": [
        "intersection=set1.intersection(set2)\n",
        "intersection"
      ],
      "metadata": {
        "colab": {
          "base_uri": "https://localhost:8080/"
        },
        "id": "eV6jMZOQfXwy",
        "outputId": "61f0450d-c808-4f06-8e88-ad8059a275dd"
      },
      "execution_count": 124,
      "outputs": [
        {
          "output_type": "execute_result",
          "data": {
            "text/plain": [
              "{2, 3, 4}"
            ]
          },
          "metadata": {},
          "execution_count": 124
        }
      ]
    },
    {
      "cell_type": "markdown",
      "source": [
        "\n",
        "11. Find the difference between two sets."
      ],
      "metadata": {
        "id": "h5ODD0dpfluk"
      }
    },
    {
      "cell_type": "code",
      "source": [
        "difference=set1.difference(set2)\n",
        "difference"
      ],
      "metadata": {
        "colab": {
          "base_uri": "https://localhost:8080/"
        },
        "id": "5rnKGX3EfmV5",
        "outputId": "022659e7-cb24-461c-ab7c-2b14da9d9e18"
      },
      "execution_count": 125,
      "outputs": [
        {
          "output_type": "execute_result",
          "data": {
            "text/plain": [
              "{1}"
            ]
          },
          "metadata": {},
          "execution_count": 125
        }
      ]
    },
    {
      "cell_type": "markdown",
      "source": [
        "\n",
        "12. Check if a set is a subset of another set.\n"
      ],
      "metadata": {
        "id": "1KZuIHprfu5L"
      }
    },
    {
      "cell_type": "code",
      "source": [
        "is_subset=set1.issubset(set2)\n",
        "is_subset"
      ],
      "metadata": {
        "colab": {
          "base_uri": "https://localhost:8080/"
        },
        "id": "m0CepzSYfxIg",
        "outputId": "79b2da4b-0fe0-453c-a495-e5eddd4525a3"
      },
      "execution_count": 127,
      "outputs": [
        {
          "output_type": "execute_result",
          "data": {
            "text/plain": [
              "False"
            ]
          },
          "metadata": {},
          "execution_count": 127
        }
      ]
    },
    {
      "cell_type": "markdown",
      "source": [
        "\n",
        "13. Check if a set is a superset of another set"
      ],
      "metadata": {
        "id": "CWbXz9yzgHrA"
      }
    },
    {
      "cell_type": "code",
      "source": [
        "is_superset=set1.issuperset(set2)\n",
        "is_superset"
      ],
      "metadata": {
        "colab": {
          "base_uri": "https://localhost:8080/"
        },
        "id": "Mr8eI8wEgIZR",
        "outputId": "506f8c53-5929-4f87-cdc7-18e9ac384e7e"
      },
      "execution_count": 128,
      "outputs": [
        {
          "output_type": "execute_result",
          "data": {
            "text/plain": [
              "False"
            ]
          },
          "metadata": {},
          "execution_count": 128
        }
      ]
    },
    {
      "cell_type": "markdown",
      "source": [
        "\n",
        "14. Create a set from a list"
      ],
      "metadata": {
        "id": "TbjIvS3PgTiz"
      }
    },
    {
      "cell_type": "code",
      "source": [
        "lst=[1,2,3,4]\n",
        "set(lst)"
      ],
      "metadata": {
        "colab": {
          "base_uri": "https://localhost:8080/"
        },
        "id": "nhcyhohsgURC",
        "outputId": "d6c0b8ea-9e36-40ba-d7dd-257777e38d2f"
      },
      "execution_count": 129,
      "outputs": [
        {
          "output_type": "execute_result",
          "data": {
            "text/plain": [
              "{1, 2, 3, 4}"
            ]
          },
          "metadata": {},
          "execution_count": 129
        }
      ]
    },
    {
      "cell_type": "markdown",
      "source": [
        "\n",
        "15. Convert a set to a list"
      ],
      "metadata": {
        "id": "giNEQc5egbg3"
      }
    },
    {
      "cell_type": "code",
      "source": [
        "list(lst)"
      ],
      "metadata": {
        "colab": {
          "base_uri": "https://localhost:8080/"
        },
        "id": "2aLkHeXkgcF5",
        "outputId": "d4111924-9a81-4a62-f64a-816ac2038557"
      },
      "execution_count": 130,
      "outputs": [
        {
          "output_type": "execute_result",
          "data": {
            "text/plain": [
              "[1, 2, 3, 4]"
            ]
          },
          "metadata": {},
          "execution_count": 130
        }
      ]
    },
    {
      "cell_type": "markdown",
      "source": [
        "16. Remove a random element from a set.\n"
      ],
      "metadata": {
        "id": "W3bE6YnogioU"
      }
    },
    {
      "cell_type": "code",
      "source": [
        "import random\n",
        "set3={1,2,3,4,5}\n",
        "random_el=random.choice(list(set3))\n",
        "set3.remove(random_el)\n",
        "set3"
      ],
      "metadata": {
        "colab": {
          "base_uri": "https://localhost:8080/"
        },
        "id": "E-b_Nz5KgkZY",
        "outputId": "e352ee3c-5806-4587-e569-fe5120354ce0"
      },
      "execution_count": 132,
      "outputs": [
        {
          "output_type": "execute_result",
          "data": {
            "text/plain": [
              "{1, 3, 4, 5}"
            ]
          },
          "metadata": {},
          "execution_count": 132
        }
      ]
    },
    {
      "cell_type": "markdown",
      "source": [
        "17. Pop an element from a set.\n"
      ],
      "metadata": {
        "id": "nQqCTZ06hP5O"
      }
    },
    {
      "cell_type": "code",
      "source": [
        "set3.pop()"
      ],
      "metadata": {
        "colab": {
          "base_uri": "https://localhost:8080/"
        },
        "id": "Cf14KySShRJQ",
        "outputId": "55ff92fb-07db-4696-81d4-17b0a7557aa7"
      },
      "execution_count": 133,
      "outputs": [
        {
          "output_type": "execute_result",
          "data": {
            "text/plain": [
              "1"
            ]
          },
          "metadata": {},
          "execution_count": 133
        }
      ]
    },
    {
      "cell_type": "markdown",
      "source": [
        "\n",
        "18. Check if two sets have no elements in common.\n"
      ],
      "metadata": {
        "id": "j3TAVR56hT6O"
      }
    },
    {
      "cell_type": "code",
      "execution_count": 138,
      "metadata": {
        "colab": {
          "base_uri": "https://localhost:8080/"
        },
        "id": "00tOpMkoYijY",
        "outputId": "4bcdbb3f-bfea-4e49-f2e4-9e1210eb2a71"
      },
      "outputs": [
        {
          "output_type": "stream",
          "name": "stdout",
          "text": [
            "The two sets have no elements in common.\n"
          ]
        }
      ],
      "source": [
        "# Step 1: Define two sets\n",
        "set1 = {1, 2, 3, 4}\n",
        "set2 = {5, 6, 7, 8}\n",
        "\n",
        "# Step 2: Check if the intersection of the two sets is empty\n",
        "# The intersection is the set of elements that are common to both sets\n",
        "common_elements = set1.intersection(set2)\n",
        "\n",
        "# Step 3: Check if the common_elements set is empty\n",
        "if not common_elements:\n",
        "    print(\"The two sets have no elements in common.\")\n",
        "else:\n",
        "    print(\"The two sets have common elements:\", common_elements)"
      ]
    },
    {
      "cell_type": "markdown",
      "source": [
        "\n",
        "19. Find the symmetric difference between two sets."
      ],
      "metadata": {
        "id": "Et-N9MMXhyjt"
      }
    },
    {
      "cell_type": "code",
      "source": [
        "symmetric_diff=set1^set2\n",
        "symmetric_diff"
      ],
      "metadata": {
        "colab": {
          "base_uri": "https://localhost:8080/"
        },
        "id": "tk-g5Zo8h9sA",
        "outputId": "a61ffccf-5641-4686-bde3-60544630cf05"
      },
      "execution_count": 139,
      "outputs": [
        {
          "output_type": "execute_result",
          "data": {
            "text/plain": [
              "{1, 2, 3, 4, 5, 6, 7, 8}"
            ]
          },
          "metadata": {},
          "execution_count": 139
        }
      ]
    },
    {
      "cell_type": "markdown",
      "source": [
        "\n",
        "20. Update a set with elements from another set.\n"
      ],
      "metadata": {
        "id": "MoyQS9z3iIgn"
      }
    },
    {
      "cell_type": "code",
      "source": [
        "set1.update(set2)\n",
        "set1"
      ],
      "metadata": {
        "colab": {
          "base_uri": "https://localhost:8080/"
        },
        "id": "eKlspJlgiJNw",
        "outputId": "2abd4aa3-e737-4339-a0c0-e1cda35cd7c7"
      },
      "execution_count": 140,
      "outputs": [
        {
          "output_type": "execute_result",
          "data": {
            "text/plain": [
              "{1, 2, 3, 4, 5, 6, 7, 8}"
            ]
          },
          "metadata": {},
          "execution_count": 140
        }
      ]
    },
    {
      "cell_type": "markdown",
      "source": [
        "21. Create a set of the first 5 prime numbers"
      ],
      "metadata": {
        "id": "Sr_ZjWtkiQYD"
      }
    },
    {
      "cell_type": "code",
      "execution_count": 141,
      "metadata": {
        "colab": {
          "base_uri": "https://localhost:8080/"
        },
        "id": "iD2gtfocYiaa",
        "outputId": "e92891ed-1ec1-4589-cd5e-2bacdd315cb1"
      },
      "outputs": [
        {
          "output_type": "stream",
          "name": "stdout",
          "text": [
            "Set of the first 5 prime numbers: {2, 3, 5, 7, 11}\n"
          ]
        }
      ],
      "source": [
        "# Function to check if a number is prime\n",
        "def is_prime(num):\n",
        "    if num <= 1:\n",
        "        return False\n",
        "    for i in range(2, int(num ** 0.5) + 1):\n",
        "        if num % i == 0:\n",
        "            return False\n",
        "    return True\n",
        "\n",
        "# Create an empty set to store the prime numbers\n",
        "prime_set = set()\n",
        "\n",
        "# Initialize the number to start checking for primes\n",
        "num = 2\n",
        "\n",
        "# Loop until we have found the first 5 prime numbers\n",
        "while len(prime_set) < 5:\n",
        "    # Check if the current number is prime using the is_prime function\n",
        "    if is_prime(num):\n",
        "        # If the number is prime, add it to the prime_set\n",
        "        prime_set.add(num)\n",
        "\n",
        "    # Move on to the next number for the next iteration\n",
        "    num += 1\n",
        "\n",
        "# Print the set of prime numbers\n",
        "print(\"Set of the first 5 prime numbers:\", prime_set)"
      ]
    },
    {
      "cell_type": "markdown",
      "source": [
        "22. Check if two sets are identical.\n"
      ],
      "metadata": {
        "id": "QUjtG7uMiZms"
      }
    },
    {
      "cell_type": "code",
      "source": [
        "if set1==set2:\n",
        "  print(\"two sets are identical\")"
      ],
      "metadata": {
        "id": "aTVY71GFibkJ"
      },
      "execution_count": 142,
      "outputs": []
    },
    {
      "cell_type": "markdown",
      "source": [
        "23. Create a frozen set.\n"
      ],
      "metadata": {
        "id": "5EZ9ltnFiuWl"
      }
    },
    {
      "cell_type": "code",
      "execution_count": 147,
      "metadata": {
        "colab": {
          "base_uri": "https://localhost:8080/"
        },
        "id": "NyhGtlcuYiUy",
        "outputId": "1110f829-6c3e-4641-af7d-2a4303a1d93c"
      },
      "outputs": [
        {
          "output_type": "stream",
          "name": "stdout",
          "text": [
            "Frozen Set: frozenset({1, 2, 3, 4, 5})\n"
          ]
        }
      ],
      "source": [
        "# Step 2: Define a list of elements that you want to include in the frozen set\n",
        "elements = [1, 2, 3, 4, 5]\n",
        "\n",
        "# Step 3: Create a frozen set using the 'frozenset' constructor and passing the list of elements\n",
        "my_frozen_set = frozenset(elements)\n",
        "\n",
        "# Step 4: Print the frozen set\n",
        "print(\"Frozen Set:\", my_frozen_set)"
      ]
    },
    {
      "cell_type": "markdown",
      "source": [
        "24. Check if a set is disjoint with another set.\n"
      ],
      "metadata": {
        "id": "Fp51jFbSjUad"
      }
    },
    {
      "cell_type": "code",
      "source": [
        "disjoint_set=set1.isdisjoint(set2)\n",
        "disjoint_set"
      ],
      "metadata": {
        "colab": {
          "base_uri": "https://localhost:8080/"
        },
        "id": "dpfHKrxjjVFy",
        "outputId": "bdef6486-4cdf-4329-f14e-3565619bc79c"
      },
      "execution_count": 148,
      "outputs": [
        {
          "output_type": "execute_result",
          "data": {
            "text/plain": [
              "False"
            ]
          },
          "metadata": {},
          "execution_count": 148
        }
      ]
    },
    {
      "cell_type": "markdown",
      "source": [
        "25. Create a set of squares of numbers from 1 to 5"
      ],
      "metadata": {
        "id": "Z6Da7Apxjqgl"
      }
    },
    {
      "cell_type": "code",
      "execution_count": 149,
      "metadata": {
        "colab": {
          "base_uri": "https://localhost:8080/"
        },
        "id": "1OXTOon5YiO7",
        "outputId": "ef997010-82e1-4865-ac09-406c27cd2bc5"
      },
      "outputs": [
        {
          "output_type": "stream",
          "name": "stdout",
          "text": [
            "{1, 4, 9, 16, 25}\n"
          ]
        }
      ],
      "source": [
        "# Step 1: Create an empty set to store the squares of numbers\n",
        "squares_set = set()\n",
        "\n",
        "# Step 2: Use a loop to iterate through numbers from 1 to 5\n",
        "for num in range(1, 6):\n",
        "    # Step 3: Calculate the square of the current number\n",
        "    square = num ** 2\n",
        "\n",
        "    # Step 4: Add the square to the set\n",
        "    squares_set.add(square)\n",
        "\n",
        "# Step 5: Print the set of squares\n",
        "print(squares_set)"
      ]
    },
    {
      "cell_type": "markdown",
      "source": [
        "26. Filter out all even numbers from a set.\n"
      ],
      "metadata": {
        "id": "1zN0KrnqjziJ"
      }
    },
    {
      "cell_type": "code",
      "execution_count": 150,
      "metadata": {
        "colab": {
          "base_uri": "https://localhost:8080/"
        },
        "id": "FW6izDjfYiL7",
        "outputId": "e067d7ed-e8c8-47fd-dfd6-6aa0cf50625f"
      },
      "outputs": [
        {
          "output_type": "stream",
          "name": "stdout",
          "text": [
            "Original Set: {1, 2, 3, 4, 5}\n",
            "Even Numbers Set: {2, 4}\n"
          ]
        }
      ],
      "source": [
        "# Step 1: Create a set with integers from 1 to 5\n",
        "original_set = {1, 2, 3, 4, 5}\n",
        "\n",
        "# Step 2: Initialize an empty set to store the filtered even numbers\n",
        "even_numbers_set = set()\n",
        "\n",
        "# Step 3: Iterate through each element in the original set\n",
        "for num in original_set:\n",
        "    # Step 4: Check if the current number is even (divisible by 2)\n",
        "    if num % 2 == 0:\n",
        "        # Step 5: If even, add it to the even_numbers_set\n",
        "        even_numbers_set.add(num)\n",
        "\n",
        "# Step 6: Print the original set and the set containing even numbers\n",
        "print(\"Original Set:\", original_set)\n",
        "print(\"Even Numbers Set:\", even_numbers_set)"
      ]
    },
    {
      "cell_type": "markdown",
      "source": [
        "\n",
        "27. Multiply all elements in a set by 2.\n"
      ],
      "metadata": {
        "id": "xYjg6uKJkCMP"
      }
    },
    {
      "cell_type": "code",
      "execution_count": 151,
      "metadata": {
        "colab": {
          "base_uri": "https://localhost:8080/"
        },
        "id": "Czs215VlYiJA",
        "outputId": "4dd7911a-303f-4d89-af7e-d758db457f73"
      },
      "outputs": [
        {
          "output_type": "stream",
          "name": "stdout",
          "text": [
            "Original Set: {1, 2, 3, 4, 5}\n",
            "Multiplied Set: {2, 4, 6, 8, 10}\n"
          ]
        }
      ],
      "source": [
        "# Create a set with integers from 1 to 5\n",
        "original_set = {1, 2, 3, 4, 5}\n",
        "\n",
        "# Initialize an empty set to store the multiplied elements\n",
        "multiplied_set = set()\n",
        "\n",
        "# Loop through each element in the original set\n",
        "for num in original_set:\n",
        "    # Multiply the current element by 2\n",
        "    multiplied_num = num * 2\n",
        "\n",
        "    # Add the multiplied element to the multiplied_set\n",
        "    multiplied_set.add(multiplied_num)\n",
        "\n",
        "# The original_set remains unchanged\n",
        "print(\"Original Set:\", original_set)\n",
        "\n",
        "# Display the set with elements multiplied by 2\n",
        "print(\"Multiplied Set:\", multiplied_set)"
      ]
    },
    {
      "cell_type": "markdown",
      "source": [
        "28. Create a set of random numbers.\n"
      ],
      "metadata": {
        "id": "3usYCSk4kJVF"
      }
    },
    {
      "cell_type": "code",
      "execution_count": 152,
      "metadata": {
        "colab": {
          "base_uri": "https://localhost:8080/"
        },
        "id": "y0GmtDPVYiGA",
        "outputId": "9788cc3e-baed-436a-b1e2-4e7dba3ef8fe"
      },
      "outputs": [
        {
          "output_type": "stream",
          "name": "stdout",
          "text": [
            "Generated set of random numbers: {66, 100, 83, 23, 94}\n"
          ]
        }
      ],
      "source": [
        "# Step 1: Import the `random` module to generate random numbers\n",
        "import random\n",
        "\n",
        "# Step 2: Define the number of random numbers you want in the set\n",
        "num_random_numbers = 5\n",
        "\n",
        "# Step 3: Initialize an empty set to store the random numbers\n",
        "random_number_set = set()\n",
        "\n",
        "# Step 4: Use a loop to generate random numbers and add them to the set\n",
        "for _ in range(num_random_numbers):\n",
        "    # Generate a random integer using the `randint` function from the `random` module\n",
        "    random_num = random.randint(1, 100)  # Generate a random number between 1 and 100\n",
        "    # Add the random number to the set\n",
        "    random_number_set.add(random_num)\n",
        "\n",
        "# Step 5: Print the generated set of random numbers\n",
        "print(\"Generated set of random numbers:\", random_number_set)"
      ]
    },
    {
      "cell_type": "markdown",
      "source": [
        "29. Check if a set is empty.\n"
      ],
      "metadata": {
        "id": "m8QwDHI0kUzn"
      }
    },
    {
      "cell_type": "code",
      "execution_count": 153,
      "metadata": {
        "colab": {
          "base_uri": "https://localhost:8080/"
        },
        "id": "q5q3NMeEYiC4",
        "outputId": "de13b9c5-daf7-4f68-888f-5d63c8e17b4f"
      },
      "outputs": [
        {
          "output_type": "stream",
          "name": "stdout",
          "text": [
            "The set is empty.\n"
          ]
        }
      ],
      "source": [
        "# Step 1: Create a set (you can replace this with your own set)\n",
        "my_set = set()\n",
        "\n",
        "# Step 2: Check if the set is empty using the 'if' statement\n",
        "if not my_set:\n",
        "    print(\"The set is empty.\")\n",
        "else:\n",
        "    print(\"The set is not empty.\")"
      ]
    },
    {
      "cell_type": "markdown",
      "source": [
        "30. Create a nested set (hint: use frozenset).\n"
      ],
      "metadata": {
        "id": "syMcjXexkkP2"
      }
    },
    {
      "cell_type": "code",
      "execution_count": 154,
      "metadata": {
        "colab": {
          "base_uri": "https://localhost:8080/"
        },
        "id": "p2-n7xMPa7xJ",
        "outputId": "9d4f68a2-98be-4c36-97b5-b4e9fae30123"
      },
      "outputs": [
        {
          "output_type": "stream",
          "name": "stdout",
          "text": [
            "Nested Set: {frozenset({1, 2, 3, 4, 5}), frozenset({6, 7, 8, 9, 10})}\n"
          ]
        }
      ],
      "source": [
        "# Step 1: Create the inner sets\n",
        "set1 = {1, 2, 3, 4, 5}\n",
        "set2 = {6, 7, 8, 9, 10}\n",
        "\n",
        "# Step 2: Create frozensets from the inner sets\n",
        "frozen_set1 = frozenset(set1)\n",
        "frozen_set2 = frozenset(set2)\n",
        "\n",
        "# Step 3: Create the nested set using the frozensets\n",
        "nested_set = {frozen_set1, frozen_set2}\n",
        "\n",
        "# Print the nested set\n",
        "print(\"Nested Set:\", nested_set)"
      ]
    },
    {
      "cell_type": "markdown",
      "source": [
        "31. Remove an element from a set using the discard method."
      ],
      "metadata": {
        "id": "825KS1aWkq4i"
      }
    },
    {
      "cell_type": "code",
      "source": [
        "set1.discard(4)\n",
        "set1"
      ],
      "metadata": {
        "colab": {
          "base_uri": "https://localhost:8080/"
        },
        "id": "WnrHs5aKky_0",
        "outputId": "ec6111be-ca22-4b0a-e5f1-7be414d7d5c3"
      },
      "execution_count": 156,
      "outputs": [
        {
          "output_type": "execute_result",
          "data": {
            "text/plain": [
              "{1, 2, 5}"
            ]
          },
          "metadata": {},
          "execution_count": 156
        }
      ]
    },
    {
      "cell_type": "markdown",
      "source": [
        "32. Compare two sets.\n"
      ],
      "metadata": {
        "id": "cFzSkePblGTc"
      }
    },
    {
      "cell_type": "code",
      "execution_count": 157,
      "metadata": {
        "colab": {
          "base_uri": "https://localhost:8080/"
        },
        "id": "sf6wUCdIYh9A",
        "outputId": "21709cde-c467-4609-cb9f-c85f9b3f3e77"
      },
      "outputs": [
        {
          "output_type": "stream",
          "name": "stdout",
          "text": [
            "Set 1: {1, 2, 3, 4, 5}\n",
            "Set 2: {4, 5, 6, 7, 8}\n",
            "Is set1 a subset of set2? False\n",
            "Is set2 a subset of set1? False\n",
            "Intersection: {4, 5}\n",
            "Union: {1, 2, 3, 4, 5, 6, 7, 8}\n",
            "Elements in set1 but not in set2: {1, 2, 3}\n",
            "Elements in set2 but not in set1: {8, 6, 7}\n"
          ]
        }
      ],
      "source": [
        "# Step 1: Define two sets\n",
        "set1 = {1, 2, 3, 4, 5}\n",
        "set2 = {4, 5, 6, 7, 8}\n",
        "\n",
        "# Step 2: Use set operations to compare the sets\n",
        "# Check if set1 is a subset of set2\n",
        "is_subset = set1.issubset(set2)\n",
        "\n",
        "# Check if set2 is a subset of set1\n",
        "is_superset = set1.issuperset(set2)\n",
        "\n",
        "# Find the intersection of the sets\n",
        "intersection = set1.intersection(set2)\n",
        "\n",
        "# Find the union of the sets\n",
        "union = set1.union(set2)\n",
        "\n",
        "# Find the elements that are in set1 but not in set2\n",
        "difference1 = set1.difference(set2)\n",
        "\n",
        "# Find the elements that are in set2 but not in set1\n",
        "difference2 = set2.difference(set1)\n",
        "\n",
        "# Step 3: Print the results\n",
        "print(\"Set 1:\", set1)\n",
        "print(\"Set 2:\", set2)\n",
        "print(\"Is set1 a subset of set2?\", is_subset)\n",
        "print(\"Is set2 a subset of set1?\", is_superset)\n",
        "print(\"Intersection:\", intersection)\n",
        "print(\"Union:\", union)\n",
        "print(\"Elements in set1 but not in set2:\", difference1)\n",
        "print(\"Elements in set2 but not in set1:\", difference2)"
      ]
    },
    {
      "cell_type": "markdown",
      "source": [
        "33. Create a set from a string"
      ],
      "metadata": {
        "id": "oLV6cLHqlKO6"
      }
    },
    {
      "cell_type": "code",
      "source": [
        "s=\"himansu\"\n",
        "set(s)\n"
      ],
      "metadata": {
        "colab": {
          "base_uri": "https://localhost:8080/"
        },
        "id": "DjAxwXQElM8-",
        "outputId": "f1bedc8f-3af7-48db-f1a0-1171209f0418"
      },
      "execution_count": 158,
      "outputs": [
        {
          "output_type": "execute_result",
          "data": {
            "text/plain": [
              "{'a', 'h', 'i', 'm', 'n', 's', 'u'}"
            ]
          },
          "metadata": {},
          "execution_count": 158
        }
      ]
    },
    {
      "cell_type": "markdown",
      "source": [
        "34. Convert a set of strings to a set of integers.\n"
      ],
      "metadata": {
        "id": "UqKFs3_6pbp0"
      }
    },
    {
      "cell_type": "code",
      "source": [],
      "metadata": {
        "id": "9q0Mqgg5pjxy"
      },
      "execution_count": null,
      "outputs": []
    },
    {
      "cell_type": "code",
      "execution_count": 159,
      "metadata": {
        "colab": {
          "base_uri": "https://localhost:8080/"
        },
        "id": "GLhLM2FnYh3D",
        "outputId": "ca6cff11-1cfd-42db-8632-99eb30aa07bf"
      },
      "outputs": [
        {
          "output_type": "stream",
          "name": "stdout",
          "text": [
            "Original String Set: {'123', '456', '789'}\n",
            "Converted Integer Set: {456, 123, 789}\n"
          ]
        }
      ],
      "source": [
        "# Step 1: Create a set of strings\n",
        "string_set = {\"123\", \"456\", \"789\"}\n",
        "\n",
        "# Step 2: Initialize an empty set to store integers\n",
        "integer_set = set()\n",
        "\n",
        "# Step 3: Iterate through each string in the string set\n",
        "for string in string_set:\n",
        "    # Step 4: Convert the string to an integer using the int() function\n",
        "    integer_value = int(string)\n",
        "\n",
        "    # Step 5: Add the integer to the integer set\n",
        "    integer_set.add(integer_value)\n",
        "\n",
        "# Step 6: Print the original string set and the converted integer set\n",
        "print(\"Original String Set:\", string_set)\n",
        "print(\"Converted Integer Set:\", integer_set)"
      ]
    },
    {
      "cell_type": "markdown",
      "source": [
        "\n",
        "35. Convert a set of integers to a set of strings"
      ],
      "metadata": {
        "id": "KHFrQTImpnxh"
      }
    },
    {
      "cell_type": "code",
      "execution_count": 160,
      "metadata": {
        "colab": {
          "base_uri": "https://localhost:8080/"
        },
        "id": "ggKvDrWdYh0W",
        "outputId": "03366ad6-194d-4ac9-de5d-1c0fc6644ec1"
      },
      "outputs": [
        {
          "output_type": "stream",
          "name": "stdout",
          "text": [
            "Original integers_set: {1, 2, 3, 4, 5}\n",
            "Converted strings_set: {'4', '2', '5', '1', '3'}\n"
          ]
        }
      ],
      "source": [
        "# Step 1: Create a set of integers\n",
        "integers_set = {1, 2, 3, 4, 5}\n",
        "\n",
        "# Step 2: Initialize an empty set to store the strings\n",
        "strings_set = set()\n",
        "\n",
        "# Step 3: Iterate through each integer in the integers_set\n",
        "for num in integers_set:\n",
        "    # Step 4: Convert the integer to a string using the str() function\n",
        "    num_str = str(num)\n",
        "\n",
        "    # Step 5: Add the string representation to the strings_set\n",
        "    strings_set.add(num_str)\n",
        "\n",
        "# Step 6: Print the original integers_set and the converted strings_set\n",
        "print(\"Original integers_set:\", integers_set)\n",
        "print(\"Converted strings_set:\", strings_set)"
      ]
    },
    {
      "cell_type": "markdown",
      "source": [
        "\n",
        "36. Create a set from a tuple"
      ],
      "metadata": {
        "id": "nA_9rLvJpxvm"
      }
    },
    {
      "cell_type": "code",
      "source": [
        "tuple(set1\n",
        "      )"
      ],
      "metadata": {
        "colab": {
          "base_uri": "https://localhost:8080/"
        },
        "id": "R2x3I8T5pyPl",
        "outputId": "ce381548-3abc-4453-842b-27d7230b7035"
      },
      "execution_count": 161,
      "outputs": [
        {
          "output_type": "execute_result",
          "data": {
            "text/plain": [
              "(1, 2, 3, 4, 5)"
            ]
          },
          "metadata": {},
          "execution_count": 161
        }
      ]
    },
    {
      "cell_type": "code",
      "source": [
        "set(set1)"
      ],
      "metadata": {
        "colab": {
          "base_uri": "https://localhost:8080/"
        },
        "id": "mVy9ZLVlp7XF",
        "outputId": "3f88f086-94a8-459c-f500-7b93ec974ba0"
      },
      "execution_count": 162,
      "outputs": [
        {
          "output_type": "execute_result",
          "data": {
            "text/plain": [
              "{1, 2, 3, 4, 5}"
            ]
          },
          "metadata": {},
          "execution_count": 162
        }
      ]
    },
    {
      "cell_type": "markdown",
      "source": [
        "\n",
        "38. Find the maximum value in a set.\n"
      ],
      "metadata": {
        "id": "6by3I0Ngp_hR"
      }
    },
    {
      "cell_type": "code",
      "execution_count": 164,
      "metadata": {
        "colab": {
          "base_uri": "https://localhost:8080/"
        },
        "id": "enBVzB8jYhrU",
        "outputId": "1a74aa00-3725-4d1d-c0c1-f2964fc6e87a"
      },
      "outputs": [
        {
          "output_type": "stream",
          "name": "stdout",
          "text": [
            "Maximum value: 22\n"
          ]
        }
      ],
      "source": [
        "# Define a set with some values\n",
        "my_set = {15, 7, 22, 13, 8}\n",
        "\n",
        "# Initialize a variable to store the maximum value\n",
        "max_value = None\n",
        "\n",
        "# Iterate through each element in the set\n",
        "for num in my_set:\n",
        "    # Check if max_value is None (first iteration) or if the current number is greater than max_value\n",
        "    if max_value is None or num > max_value:\n",
        "        max_value = num  # Update max_value with the current number if it's greater\n",
        "\n",
        "# Print the maximum value\n",
        "print(\"Maximum value:\", max_value)"
      ]
    },
    {
      "cell_type": "markdown",
      "source": [
        "39. Find the minimum value in a set.\n"
      ],
      "metadata": {
        "id": "8FkTAg6eqYOe"
      }
    },
    {
      "cell_type": "code",
      "execution_count": 165,
      "metadata": {
        "colab": {
          "base_uri": "https://localhost:8080/"
        },
        "id": "Fr4_cZb9YhoZ",
        "outputId": "6414a55c-0c02-4408-9406-d9f726736c20"
      },
      "outputs": [
        {
          "output_type": "stream",
          "name": "stdout",
          "text": [
            "The minimum value in the set is: 4\n"
          ]
        }
      ],
      "source": [
        "# Create a sample set of numbers\n",
        "number_set = {15, 8, 23, 4, 42, 11}\n",
        "\n",
        "# Initialize a variable to store the minimum value\n",
        "min_value = None\n",
        "\n",
        "# Iterate through each element in the set\n",
        "for num in number_set:\n",
        "    # Check if min_value is None (first iteration) or if num is smaller than the current min_value\n",
        "    if min_value is None or num < min_value:\n",
        "        # Update min_value to the current num since it's smaller\n",
        "        min_value = num\n",
        "\n",
        "# Print the minimum value found in the set\n",
        "print(\"The minimum value in the set is:\", min_value)"
      ]
    },
    {
      "cell_type": "markdown",
      "source": [
        "\n",
        "40. Create a set from user input"
      ],
      "metadata": {
        "id": "8KtQi7cDqsQy"
      }
    },
    {
      "cell_type": "code",
      "source": [
        "s=set()\n",
        "set5=input(\"enter the value\")\n",
        "s.add(set5)\n",
        "s"
      ],
      "metadata": {
        "colab": {
          "base_uri": "https://localhost:8080/"
        },
        "id": "O8r1_0nVqtTs",
        "outputId": "a9c4449a-0e29-4730-a385-e8cd9ca5595c"
      },
      "execution_count": 169,
      "outputs": [
        {
          "name": "stdout",
          "output_type": "stream",
          "text": [
            "enter the valuehimansu\n"
          ]
        },
        {
          "output_type": "execute_result",
          "data": {
            "text/plain": [
              "{'himansu'}"
            ]
          },
          "metadata": {},
          "execution_count": 169
        }
      ]
    },
    {
      "cell_type": "markdown",
      "source": [
        "41. Check if the intersection of two sets is empty.\n"
      ],
      "metadata": {
        "id": "18yA4JUrrQ4u"
      }
    },
    {
      "cell_type": "code",
      "execution_count": 170,
      "metadata": {
        "colab": {
          "base_uri": "https://localhost:8080/"
        },
        "id": "G0V2dXFzbNpd",
        "outputId": "476742a0-3f7e-4d29-d238-71b4d5a2be4d"
      },
      "outputs": [
        {
          "output_type": "stream",
          "name": "stdout",
          "text": [
            "The intersection of the two sets is not empty.\n"
          ]
        }
      ],
      "source": [
        "# Step 1: Define two sets\n",
        "set1 = {1, 2, 3, 4, 5}\n",
        "set2 = {4, 5, 6, 7, 8}\n",
        "\n",
        "# Step 2: Find the intersection of the two sets using the `intersection()` method\n",
        "intersection_result = set1.intersection(set2)\n",
        "\n",
        "# Step 3: Check if the intersection result is empty\n",
        "if not intersection_result:\n",
        "    print(\"The intersection of the two sets is empty.\")\n",
        "else:\n",
        "    print(\"The intersection of the two sets is not empty.\")"
      ]
    },
    {
      "cell_type": "markdown",
      "source": [
        "42. Create a set of the first 5 Fibonacci numbers.\n"
      ],
      "metadata": {
        "id": "2-7RfILWrYFg"
      }
    },
    {
      "cell_type": "code",
      "execution_count": 171,
      "metadata": {
        "colab": {
          "base_uri": "https://localhost:8080/"
        },
        "id": "XkPDWFhrYhiZ",
        "outputId": "6d1f189b-8320-48ba-a5ec-4a8f1e0d905e"
      },
      "outputs": [
        {
          "output_type": "stream",
          "name": "stdout",
          "text": [
            "Set of the first 5 Fibonacci numbers: {0, 1, 2, 3, 5}\n"
          ]
        }
      ],
      "source": [
        "# Create a set to store the first 5 Fibonacci numbers\n",
        "fibonacci_set = set()\n",
        "\n",
        "# Initialize the first two Fibonacci numbers\n",
        "a, b = 0, 1\n",
        "\n",
        "# Loop to generate the first 5 Fibonacci numbers\n",
        "for _ in range(6):\n",
        "    # Add the current Fibonacci number to the set\n",
        "    fibonacci_set.add(a)\n",
        "\n",
        "    # Calculate the next Fibonacci number\n",
        "    a, b = b, a + b\n",
        "\n",
        "# Print the set of Fibonacci numbers\n",
        "print(\"Set of the first 5 Fibonacci numbers:\", fibonacci_set)"
      ]
    },
    {
      "cell_type": "markdown",
      "source": [
        "\n",
        "43. Remove duplicates from a list using sets.\n"
      ],
      "metadata": {
        "id": "Cz0-wXdkr-x0"
      }
    },
    {
      "cell_type": "code",
      "execution_count": 172,
      "metadata": {
        "colab": {
          "base_uri": "https://localhost:8080/"
        },
        "id": "a2LuC0UlYhfa",
        "outputId": "37480e75-a32c-443d-ce7b-6a13fe3c09b9"
      },
      "outputs": [
        {
          "output_type": "stream",
          "name": "stdout",
          "text": [
            "Original List: [2, 4, 6, 8, 4, 10, 6, 12, 14, 8]\n",
            "List with Duplicates Removed: [2, 4, 6, 8, 10, 12, 14]\n"
          ]
        }
      ],
      "source": [
        "# Step 1: Define a list with duplicates\n",
        "original_list = [2, 4, 6, 8, 4, 10, 6, 12, 14, 8]\n",
        "\n",
        "# Step 2: Convert the list to a set\n",
        "unique_set = set(original_list)\n",
        "# Now, 'unique_set' contains only unique elements from 'original_list'\n",
        "\n",
        "# Step 3: Convert the set back to a list\n",
        "unique_list = list(unique_set)\n",
        "# Now, 'unique_list' is a list containing only unique elements\n",
        "\n",
        "# Step 4: Print the original list and the list with duplicates removed\n",
        "print(\"Original List:\", original_list)\n",
        "print(\"List with Duplicates Removed:\", unique_list)"
      ]
    },
    {
      "cell_type": "markdown",
      "source": [
        "44. Check if two sets have the same elements, regardless of their count.\n"
      ],
      "metadata": {
        "id": "AWCaafewsEXm"
      }
    },
    {
      "cell_type": "code",
      "execution_count": 173,
      "metadata": {
        "colab": {
          "base_uri": "https://localhost:8080/"
        },
        "id": "m4u4QzYEYhca",
        "outputId": "dbf59bd5-fe68-45f9-9b38-bbeb0d6d113d"
      },
      "outputs": [
        {
          "output_type": "stream",
          "name": "stdout",
          "text": [
            "The sets have the same elements.\n"
          ]
        }
      ],
      "source": [
        "def have_same_elements(set1, set2):\n",
        "    # Convert the sets to lists and sort them\n",
        "    sorted_list1 = sorted(list(set1))\n",
        "    sorted_list2 = sorted(list(set2))\n",
        "\n",
        "    # Compare the sorted lists to check if they are equal\n",
        "    return sorted_list1 == sorted_list2\n",
        "\n",
        "# Example sets\n",
        "set1 = {1, 2, 3, 2, 1}\n",
        "set2 = {3, 1, 2}\n",
        "\n",
        "# Check if the sets have the same elements\n",
        "result = have_same_elements(set1, set2)\n",
        "\n",
        "# Print the result\n",
        "if result:\n",
        "    print(\"The sets have the same elements.\")\n",
        "else:\n",
        "    print(\"The sets do not have the same elements.\")"
      ]
    },
    {
      "cell_type": "code",
      "execution_count": 174,
      "metadata": {
        "colab": {
          "base_uri": "https://localhost:8080/"
        },
        "id": "oPHxj85mYhZQ",
        "outputId": "fd001755-1290-4aa1-b908-9bf6606a9c93"
      },
      "outputs": [
        {
          "output_type": "stream",
          "name": "stdout",
          "text": [
            "{1, 2, 4, 8, 16}\n"
          ]
        }
      ],
      "source": [
        "def generate_powers_of_2(n):\n",
        "    # Initialize an empty set to store the powers of 2\n",
        "    powers_of_2 = set()\n",
        "\n",
        "    # Loop from 0 to n-1\n",
        "    for i in range(n):\n",
        "        # Calculate the current power of 2 using the exponentiation operator **\n",
        "        power = 2 ** i\n",
        "\n",
        "        # Add the current power of 2 to the set\n",
        "        powers_of_2.add(power)\n",
        "\n",
        "    # Return the set of powers of 2\n",
        "    return powers_of_2\n",
        "\n",
        "# Define the value of n\n",
        "n = 5\n",
        "\n",
        "# Call the function to generate the set of powers of 2\n",
        "powers_set = generate_powers_of_2(n)\n",
        "\n",
        "# Print the resulting set\n",
        "print(powers_set)"
      ]
    },
    {
      "cell_type": "markdown",
      "source": [
        "\n",
        "46. Find the common elements between a set and a list"
      ],
      "metadata": {
        "id": "TgVuWuTmsgWw"
      }
    },
    {
      "cell_type": "code",
      "execution_count": 175,
      "metadata": {
        "colab": {
          "base_uri": "https://localhost:8080/"
        },
        "id": "-nuX0tVHYhWq",
        "outputId": "79695371-1f10-4034-be1b-28bc2580247d"
      },
      "outputs": [
        {
          "output_type": "stream",
          "name": "stdout",
          "text": [
            "Common elements: [7, 9, 12]\n"
          ]
        }
      ],
      "source": [
        "# Step 1: Define a set and a list\n",
        "my_set = {3, 7, 9, 12, 15}\n",
        "my_list = [7, 12, 5, 9]\n",
        "\n",
        "# Step 2: Convert the list to a set for efficient comparison\n",
        "list_to_set = set(my_list)\n",
        "\n",
        "# Step 3: Initialize an empty list to store common elements\n",
        "common_elements = []\n",
        "\n",
        "# Step 4: Iterate through the elements in the set\n",
        "for element in my_set:\n",
        "    # Step 5: Check if the element is present in the converted set (list_to_set)\n",
        "    if element in list_to_set:\n",
        "        # Step 6: If the element is present in both the set and the list, add it to the common_elements list\n",
        "        common_elements.append(element)\n",
        "\n",
        "# Step 7: Print the common elements\n",
        "print(\"Common elements:\", common_elements)"
      ]
    },
    {
      "cell_type": "markdown",
      "source": [
        "\n",
        "47. Create a set of the first `n` triangular numbers"
      ],
      "metadata": {
        "id": "dFIMoGOTs2oZ"
      }
    },
    {
      "cell_type": "code",
      "execution_count": 176,
      "metadata": {
        "colab": {
          "base_uri": "https://localhost:8080/"
        },
        "id": "9a8YlPfNYhUF",
        "outputId": "8da980dc-b263-498f-b28e-83b25f222bee"
      },
      "outputs": [
        {
          "output_type": "stream",
          "name": "stdout",
          "text": [
            "Enter the value of n: 10\n",
            "The set of the first 10 triangular numbers is: {1, 3, 36, 6, 10, 45, 15, 21, 55, 28}\n"
          ]
        }
      ],
      "source": [
        "def generate_triangular_numbers(n):\n",
        "    triangular_numbers = set()  # Create an empty set to store the triangular numbers\n",
        "    for i in range(1, n + 1):\n",
        "        triangular_number = i * (i + 1) // 2  # Calculate the ith triangular number using the formula\n",
        "        triangular_numbers.add(triangular_number)  # Add the calculated triangular number to the set\n",
        "    return triangular_numbers\n",
        "\n",
        "# Input the value of 'n'\n",
        "n = int(input(\"Enter the value of n: \"))\n",
        "\n",
        "# Call the function to generate the set of first 'n' triangular numbers\n",
        "triangular_set = generate_triangular_numbers(n)\n",
        "\n",
        "# Display the set of triangular numbers\n",
        "print(f\"The set of the first {n} triangular numbers is:\", triangular_set)"
      ]
    },
    {
      "cell_type": "markdown",
      "source": [
        "48. Check if a set contains another set as a subset.\n"
      ],
      "metadata": {
        "id": "Fyn-xwN_tDXw"
      }
    },
    {
      "cell_type": "code",
      "execution_count": 177,
      "metadata": {
        "colab": {
          "base_uri": "https://localhost:8080/"
        },
        "id": "DsTN_9R7YhQf",
        "outputId": "149fbbe5-962b-4295-a7c7-2eda8b2f40f8"
      },
      "outputs": [
        {
          "output_type": "stream",
          "name": "stdout",
          "text": [
            "set2 is a subset of set1\n"
          ]
        }
      ],
      "source": [
        "# Define two sets\n",
        "set1 = {1, 2, 3, 4, 5}\n",
        "set2 = {3, 4}\n",
        "\n",
        "# Check if set2 is a subset of set1\n",
        "is_subset = set2.issubset(set1)\n",
        "\n",
        "# Print the result\n",
        "if is_subset:\n",
        "    print(\"set2 is a subset of set1\")\n",
        "else:\n",
        "    print(\"set2 is not a subset of set1\")"
      ]
    },
    {
      "cell_type": "code",
      "execution_count": 178,
      "metadata": {
        "colab": {
          "base_uri": "https://localhost:8080/"
        },
        "id": "-wkNOB1YYhNc",
        "outputId": "7db0047f-62f0-48d9-ca37-f5e88d90877f"
      },
      "outputs": [
        {
          "output_type": "stream",
          "name": "stdout",
          "text": [
            "{0, 1}\n"
          ]
        }
      ],
      "source": [
        "def create_alternating_set(n):\n",
        "    # Initialize an empty set to store the alternating sequence.\n",
        "    alternating_set = set()\n",
        "\n",
        "    # Loop to generate alternating 1s and 0s.\n",
        "    for i in range(n):\n",
        "        # Alternate between adding 1 and 0 to the set based on whether i is even or odd.\n",
        "        if i % 2 == 0:\n",
        "            alternating_set.add(1)  # Add 1 if i is even.\n",
        "        else:\n",
        "            alternating_set.add(0)  # Add 0 if i is odd.\n",
        "\n",
        "    return alternating_set\n",
        "\n",
        "# Define the desired length of the alternating set.\n",
        "length_n = 10\n",
        "\n",
        "# Call the function to create the alternating set of length 'length_n'.\n",
        "result = create_alternating_set(length_n)\n",
        "\n",
        "# Print the resulting set.\n",
        "print(result)"
      ]
    },
    {
      "cell_type": "markdown",
      "source": [
        "50. Merge multiple sets into one.\n"
      ],
      "metadata": {
        "id": "agfiB7UbtjTk"
      }
    },
    {
      "cell_type": "code",
      "execution_count": 179,
      "metadata": {
        "colab": {
          "base_uri": "https://localhost:8080/"
        },
        "id": "xomwOAwIYhKu",
        "outputId": "f1aac997-1680-4e91-ccd7-0087513808eb"
      },
      "outputs": [
        {
          "output_type": "stream",
          "name": "stdout",
          "text": [
            "Merged Set: {1, 2, 3, 4, 5, 6, 7}\n"
          ]
        }
      ],
      "source": [
        "# Step 1: Create multiple sets\n",
        "set1 = {1, 2, 3}\n",
        "set2 = {3, 4, 5}\n",
        "set3 = {5, 6, 7}\n",
        "\n",
        "# Step 2: Use the union() method to merge sets\n",
        "merged_set = set1.union(set2, set3)\n",
        "\n",
        "# Alternatively, you can use the | operator\n",
        "# merged_set = set1 | set2 | set3\n",
        "\n",
        "# Step 3: Print the merged set\n",
        "print(\"Merged Set:\", merged_set)"
      ]
    }
  ]
}