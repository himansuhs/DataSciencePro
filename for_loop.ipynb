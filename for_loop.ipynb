{
  "nbformat": 4,
  "nbformat_minor": 0,
  "metadata": {
    "colab": {
      "provenance": []
    },
    "kernelspec": {
      "name": "python3",
      "display_name": "Python 3"
    },
    "language_info": {
      "name": "python"
    }
  },
  "cells": [
    {
      "cell_type": "markdown",
      "source": [
        "Basic Level:"
      ],
      "metadata": {
        "id": "VnJ_zVog28tH"
      }
    },
    {
      "cell_type": "markdown",
      "source": [
        "1. Write a Python program to print the numbers from 1 to 10 using a `for` loop.\n"
      ],
      "metadata": {
        "id": "9026gOUV3Fbz"
      }
    },
    {
      "cell_type": "code",
      "execution_count": null,
      "metadata": {
        "colab": {
          "base_uri": "https://localhost:8080/"
        },
        "id": "UeB94Wqqy4Ew",
        "outputId": "35fe1c39-1c14-4060-9cbc-75319a9d5d6e"
      },
      "outputs": [
        {
          "output_type": "stream",
          "name": "stdout",
          "text": [
            "1\n",
            "2\n",
            "3\n",
            "4\n",
            "5\n",
            "6\n",
            "7\n",
            "8\n",
            "9\n",
            "10\n"
          ]
        }
      ],
      "source": [
        "for i in range(1,11):\n",
        "  print(i)"
      ]
    },
    {
      "cell_type": "markdown",
      "source": [
        "2. Create a program that calculates the sum of all numbers in a list using a `for` loop.\n"
      ],
      "metadata": {
        "id": "Ybo5O-z-3S8l"
      }
    },
    {
      "cell_type": "code",
      "source": [
        "lst=[1,2,3,4,5,6]\n",
        "result=0\n",
        "for i in lst:\n",
        "  result=result+i\n",
        "result"
      ],
      "metadata": {
        "colab": {
          "base_uri": "https://localhost:8080/"
        },
        "id": "VCFe4i9q3WAb",
        "outputId": "0e303731-0cbc-4ba3-c2d9-fa845a957ce7"
      },
      "execution_count": null,
      "outputs": [
        {
          "output_type": "execute_result",
          "data": {
            "text/plain": [
              "21"
            ]
          },
          "metadata": {},
          "execution_count": 2
        }
      ]
    },
    {
      "cell_type": "markdown",
      "source": [
        "3. Write a program to print the characters of a string in reverse order using a `for` loop"
      ],
      "metadata": {
        "id": "v-5rJgVg3rSd"
      }
    },
    {
      "cell_type": "code",
      "source": [
        "s=\"himansu\"\n",
        "g=\"\"\n",
        "for i in s:\n",
        "  g=i+g\n",
        "g\n"
      ],
      "metadata": {
        "colab": {
          "base_uri": "https://localhost:8080/",
          "height": 36
        },
        "id": "4zTQzRzd3vmy",
        "outputId": "00a26428-267b-42d3-ee6f-4216e0c30c17"
      },
      "execution_count": null,
      "outputs": [
        {
          "output_type": "execute_result",
          "data": {
            "text/plain": [
              "'usnamih'"
            ],
            "application/vnd.google.colaboratory.intrinsic+json": {
              "type": "string"
            }
          },
          "metadata": {},
          "execution_count": 3
        }
      ]
    },
    {
      "cell_type": "markdown",
      "source": [
        "4. Develop a program that finds the factorial of a given number using a `for` loop.\n"
      ],
      "metadata": {
        "id": "qejZniYf4XEk"
      }
    },
    {
      "cell_type": "code",
      "source": [
        "def facto(n):\n",
        "  if n<=1:\n",
        "    return 1\n",
        "  f=1\n",
        "  for i in range(1,n+1):\n",
        "    f=i*f\n",
        "  return f\n",
        "facto(5)\n"
      ],
      "metadata": {
        "colab": {
          "base_uri": "https://localhost:8080/"
        },
        "id": "ElwmhAPw4aaL",
        "outputId": "c9481b4f-aa88-4190-cc06-d3a0a35c5bba"
      },
      "execution_count": null,
      "outputs": [
        {
          "output_type": "execute_result",
          "data": {
            "text/plain": [
              "120"
            ]
          },
          "metadata": {},
          "execution_count": 7
        }
      ]
    },
    {
      "cell_type": "markdown",
      "source": [
        "5. Create a program to print the multiplication table of a given number using a `for` loop."
      ],
      "metadata": {
        "id": "gnVkk-r5_I3i"
      }
    },
    {
      "cell_type": "code",
      "source": [
        "def multi_table(n):\n",
        "  for i in range(1,11):\n",
        "    print(i*n)\n",
        "multi_table(2)"
      ],
      "metadata": {
        "colab": {
          "base_uri": "https://localhost:8080/"
        },
        "id": "_XLJGrt-_LfA",
        "outputId": "3bc83fcf-5387-4d72-83b3-162793fb1ff2"
      },
      "execution_count": null,
      "outputs": [
        {
          "output_type": "stream",
          "name": "stdout",
          "text": [
            "2\n",
            "4\n",
            "6\n",
            "8\n",
            "10\n",
            "12\n",
            "14\n",
            "16\n",
            "18\n",
            "20\n"
          ]
        }
      ]
    },
    {
      "cell_type": "markdown",
      "source": [
        "6. Write a program that counts the number of even and odd numbers in a list using a `for` loop."
      ],
      "metadata": {
        "id": "Qu164JsUAW3D"
      }
    },
    {
      "cell_type": "code",
      "source": [
        "def even_and_odd(lst):\n",
        "  even=0\n",
        "  odd=0\n",
        "  for i in lst:\n",
        "    if i%2==0:\n",
        "      even=even+1\n",
        "    else:\n",
        "      odd=odd+1\n",
        "  return even,odd\n",
        "even_and_odd([1,2,3,4,5,65,6,7,8])"
      ],
      "metadata": {
        "colab": {
          "base_uri": "https://localhost:8080/"
        },
        "id": "qkk_Kq5fAZKr",
        "outputId": "91d1f56e-3529-43be-cc6c-a23fe5959b2b"
      },
      "execution_count": null,
      "outputs": [
        {
          "output_type": "execute_result",
          "data": {
            "text/plain": [
              "(4, 5)"
            ]
          },
          "metadata": {},
          "execution_count": 10
        }
      ]
    },
    {
      "cell_type": "markdown",
      "source": [
        "7. Develop a program that prints the squares of numbers from 1 to 5 using a `for` loop."
      ],
      "metadata": {
        "id": "pbpnJ9_iHdog"
      }
    },
    {
      "cell_type": "code",
      "source": [
        "for i in range(1,6):\n",
        "  print(i**2)\n",
        "\n"
      ],
      "metadata": {
        "colab": {
          "base_uri": "https://localhost:8080/"
        },
        "id": "4lnO06bwHeOE",
        "outputId": "96aee7b5-fc4d-45c4-dec9-0b1471960b6c"
      },
      "execution_count": null,
      "outputs": [
        {
          "output_type": "stream",
          "name": "stdout",
          "text": [
            "1\n",
            "4\n",
            "9\n",
            "16\n",
            "25\n"
          ]
        }
      ]
    },
    {
      "cell_type": "markdown",
      "source": [
        "8. Create a program to find the length of a string without using the `len()` function"
      ],
      "metadata": {
        "id": "uLznFSVAHuT4"
      }
    },
    {
      "cell_type": "code",
      "source": [
        "def length_of_string(st):\n",
        "  length=0\n",
        "  for i in st:\n",
        "    length=length+1\n",
        "  return length\n",
        "length_of_string(\"himansu\")"
      ],
      "metadata": {
        "colab": {
          "base_uri": "https://localhost:8080/"
        },
        "id": "hIVXn1vnHvBc",
        "outputId": "2ed41428-02b1-49c4-869e-65ec877fff8b"
      },
      "execution_count": null,
      "outputs": [
        {
          "output_type": "execute_result",
          "data": {
            "text/plain": [
              "7"
            ]
          },
          "metadata": {},
          "execution_count": 12
        }
      ]
    },
    {
      "cell_type": "markdown",
      "source": [
        "9. Write a program that calculates the average of a list of numbers using a `for` loop."
      ],
      "metadata": {
        "id": "mEBgVOxiIKl_"
      }
    },
    {
      "cell_type": "code",
      "source": [
        "def average_list(lst):\n",
        "  result=0\n",
        "  average=None\n",
        "  for i in lst:\n",
        "    result=result+i\n",
        "  average=result//len(lst)\n",
        "  return average\n",
        "average_list([1,2,3])"
      ],
      "metadata": {
        "colab": {
          "base_uri": "https://localhost:8080/"
        },
        "id": "mvH0BynrIL6i",
        "outputId": "d4201248-1e58-4268-ea80-04e2b5db8acc"
      },
      "execution_count": null,
      "outputs": [
        {
          "output_type": "execute_result",
          "data": {
            "text/plain": [
              "2"
            ]
          },
          "metadata": {},
          "execution_count": 15
        }
      ]
    },
    {
      "cell_type": "markdown",
      "source": [
        "10. Develop a program that prints the first `n` Fibonacci numbers using a `for` loop.\n"
      ],
      "metadata": {
        "id": "sWfb2WgNI7yY"
      }
    },
    {
      "cell_type": "code",
      "source": [
        "def fibo(n):\n",
        "  lst=[0,1]\n",
        "  for i in range(2,n):\n",
        "    num=lst[-1]+lst[-2]\n",
        "    lst.append(num)\n",
        "  return lst\n",
        "fibo(5)"
      ],
      "metadata": {
        "colab": {
          "base_uri": "https://localhost:8080/"
        },
        "id": "o_N0xixOI8dS",
        "outputId": "ffdea632-4766-459c-b846-36d0f63be8a7"
      },
      "execution_count": null,
      "outputs": [
        {
          "output_type": "execute_result",
          "data": {
            "text/plain": [
              "[0, 1, 1, 2, 3]"
            ]
          },
          "metadata": {},
          "execution_count": 22
        }
      ]
    },
    {
      "cell_type": "markdown",
      "source": [
        "Intermediate Level:\n"
      ],
      "metadata": {
        "id": "egTbkRTYLYSE"
      }
    },
    {
      "cell_type": "markdown",
      "source": [
        "\n",
        "11. Write a program to check if a given list contains any duplicates using a `for` loop."
      ],
      "metadata": {
        "id": "_UxoZxnFLcQC"
      }
    },
    {
      "cell_type": "code",
      "source": [
        "def check_duplicate(lst):\n",
        "  seen=set()\n",
        "  for i in (lst):\n",
        "    if i in seen:\n",
        "      return True\n",
        "    seen.add(i)\n",
        "  return False\n",
        "lst=[1,2,3,2,3,4,5]\n",
        "result=check_duplicate(lst)\n",
        "if result:\n",
        "  print(\"contain duplicate\")\n",
        "else:\n",
        "  print(\"not contain any \")\n"
      ],
      "metadata": {
        "colab": {
          "base_uri": "https://localhost:8080/"
        },
        "id": "YV720HJVLa3Z",
        "outputId": "4c749b6b-18cd-4223-fd42-c2d168bc8b30"
      },
      "execution_count": null,
      "outputs": [
        {
          "output_type": "stream",
          "name": "stdout",
          "text": [
            "contain duplicate\n"
          ]
        }
      ]
    },
    {
      "cell_type": "markdown",
      "source": [
        "\n",
        "12. Create a program that prints the prime numbers in a given range using a `for` loop."
      ],
      "metadata": {
        "id": "Iv_pMlniQEoF"
      }
    },
    {
      "cell_type": "code",
      "source": [
        "def prime_number(start,end):\n",
        "  for i in range(start,end+1):\n",
        "    flag=0\n",
        "    for j in range(2,i):\n",
        "      if i%j==0:\n",
        "        flag=1\n",
        "        break\n",
        "    if(flag==0):\n",
        "      print(i,end=\" \")\n",
        "prime_number(1,10)"
      ],
      "metadata": {
        "colab": {
          "base_uri": "https://localhost:8080/"
        },
        "id": "yj_e_a6OQFZk",
        "outputId": "3f4cf731-003c-4627-c7cc-1a43e4c0af40"
      },
      "execution_count": null,
      "outputs": [
        {
          "output_type": "stream",
          "name": "stdout",
          "text": [
            "1 2 3 5 7 "
          ]
        }
      ]
    },
    {
      "cell_type": "markdown",
      "source": [
        "13. Develop a program that counts the number of vowels in a string using a `for` loop.\n"
      ],
      "metadata": {
        "id": "W925Os2vWtSs"
      }
    },
    {
      "cell_type": "code",
      "source": [
        "vowels=\"aeiou\"\n",
        "count=0\n",
        "s=\"himansu\"\n",
        "for i in s:\n",
        "  if i in vowels:\n",
        "    count=count+1\n",
        "count\n"
      ],
      "metadata": {
        "colab": {
          "base_uri": "https://localhost:8080/"
        },
        "id": "9oq8HmLAWuv9",
        "outputId": "7d1145ff-2c4a-4ae6-ffe2-d02f87ba0943"
      },
      "execution_count": null,
      "outputs": [
        {
          "output_type": "execute_result",
          "data": {
            "text/plain": [
              "3"
            ]
          },
          "metadata": {},
          "execution_count": 25
        }
      ]
    },
    {
      "cell_type": "markdown",
      "source": [
        "14. Write a program to find the maximum element in a 2D list using a nested `for` loop.\n"
      ],
      "metadata": {
        "id": "obA9ecaxW_XH"
      }
    },
    {
      "cell_type": "code",
      "source": [
        "def max_element(matrix):\n",
        "  max_e=float(\"-inf\")\n",
        "  for row in matrix:\n",
        "    for element in row:\n",
        "      if element>max_e:\n",
        "        max_e=element\n",
        "  return max_e\n",
        "matrix=[[1,2,3],\n",
        "       [54,4,3],\n",
        "       [87,4,31]\n",
        "]\n",
        "max_element(matrix)"
      ],
      "metadata": {
        "colab": {
          "base_uri": "https://localhost:8080/"
        },
        "id": "XOG9zxOjXCw3",
        "outputId": "960e73fb-f754-4f2c-e52d-7e3ae1018791"
      },
      "execution_count": null,
      "outputs": [
        {
          "output_type": "execute_result",
          "data": {
            "text/plain": [
              "87"
            ]
          },
          "metadata": {},
          "execution_count": 26
        }
      ]
    },
    {
      "cell_type": "markdown",
      "source": [
        "15. Create a program that removes all occurrences of a specific element from a list using a `for` loop.\n"
      ],
      "metadata": {
        "id": "fTq-Zhn5Z4FZ"
      }
    },
    {
      "cell_type": "code",
      "source": [
        "def remove_occ(lst,target):\n",
        "  new_lst=[item for item in lst if item!=target]\n",
        "  return new_lst\n",
        "remove_occ([1,2,2,3,4,3,2,6],2)"
      ],
      "metadata": {
        "colab": {
          "base_uri": "https://localhost:8080/"
        },
        "id": "mIHGkECIZ44j",
        "outputId": "f2ff94c9-4520-4315-90a3-41d484604030"
      },
      "execution_count": null,
      "outputs": [
        {
          "output_type": "execute_result",
          "data": {
            "text/plain": [
              "[1, 3, 4, 3, 6]"
            ]
          },
          "metadata": {},
          "execution_count": 27
        }
      ]
    },
    {
      "cell_type": "markdown",
      "source": [
        "\n",
        "\n",
        "17. Write a program that converts a list of Fahrenheit temperatures to Celsius using a `for` loop\n"
      ],
      "metadata": {
        "id": "UVq6EVb1bOgL"
      }
    },
    {
      "cell_type": "code",
      "source": [
        "def f_to_c(ftemp):\n",
        "  celsius=[]\n",
        "  for f in ftemp:\n",
        "    c=(f-32)*5/9\n",
        "    celsius.append(c)\n",
        "  return celsius\n",
        "ftemp=[38,69,104]\n",
        "f_to_c(ftemp)"
      ],
      "metadata": {
        "colab": {
          "base_uri": "https://localhost:8080/"
        },
        "id": "49qPqc2VbaJh",
        "outputId": "4942a8d0-0009-41a4-cbef-489960b2a90b"
      },
      "execution_count": null,
      "outputs": [
        {
          "output_type": "execute_result",
          "data": {
            "text/plain": [
              "[3.3333333333333335, 20.555555555555557, 40.0]"
            ]
          },
          "metadata": {},
          "execution_count": 29
        }
      ]
    },
    {
      "cell_type": "markdown",
      "source": [
        "18. Create a program to print the common elements from two lists using a `for` loop.\n"
      ],
      "metadata": {
        "id": "ngH0exAIdJxh"
      }
    },
    {
      "cell_type": "code",
      "source": [
        "s=[1,2,3,4]\n",
        "w=[2,3,4,5,6]\n",
        "for i in s:\n",
        "  if i in w:\n",
        "    print(i)\n"
      ],
      "metadata": {
        "colab": {
          "base_uri": "https://localhost:8080/"
        },
        "id": "dUsHpg0KdML_",
        "outputId": "43aee5a3-f973-4111-eac5-814a4c04e346"
      },
      "execution_count": null,
      "outputs": [
        {
          "output_type": "stream",
          "name": "stdout",
          "text": [
            "2\n",
            "3\n",
            "4\n"
          ]
        }
      ]
    },
    {
      "cell_type": "markdown",
      "source": [
        "\n",
        "19. Develop a program that prints the pattern of right-angled triangles using a `for` loop. Use ‘*’ to draw the\n",
        "pattern"
      ],
      "metadata": {
        "id": "uC1Y9AcBdnWE"
      }
    },
    {
      "cell_type": "code",
      "source": [
        "for i in range(1,5):\n",
        "  for j in range(i):\n",
        "    print(\"*\",end=\" \")\n",
        "  print(\"\\n\")\n"
      ],
      "metadata": {
        "colab": {
          "base_uri": "https://localhost:8080/"
        },
        "id": "cfcqMNAbdow_",
        "outputId": "57048199-30e9-4d40-9dd7-cc56311434b0"
      },
      "execution_count": null,
      "outputs": [
        {
          "output_type": "stream",
          "name": "stdout",
          "text": [
            "* \n",
            "\n",
            "* * \n",
            "\n",
            "* * * \n",
            "\n",
            "* * * * \n",
            "\n"
          ]
        }
      ]
    },
    {
      "cell_type": "markdown",
      "source": [
        "20. Write a program to find the greatest common divisor (GCD) of two numbers using a `for` loop.\n"
      ],
      "metadata": {
        "id": "rP75m18RfYdG"
      }
    },
    {
      "cell_type": "code",
      "source": [
        "def gcd(a,b):\n",
        "  smallest=min(a,b)\n",
        "\n",
        "  for i in range(smallest,0,-1):\n",
        "    if a%i==0 and b%i==0:\n",
        "      return i\n",
        "  return 1\n",
        "a=46\n",
        "b=38\n",
        "gcd(a,b)"
      ],
      "metadata": {
        "colab": {
          "base_uri": "https://localhost:8080/"
        },
        "id": "YerhpsEVfa41",
        "outputId": "87c40e1d-5721-477f-9326-d3fef025c3b9"
      },
      "execution_count": null,
      "outputs": [
        {
          "output_type": "execute_result",
          "data": {
            "text/plain": [
              "2"
            ]
          },
          "metadata": {},
          "execution_count": 42
        }
      ]
    },
    {
      "cell_type": "markdown",
      "source": [
        "\n",
        "21. Create a program that calculates the sum of the digits of numbers in a list using a list comprehension."
      ],
      "metadata": {
        "id": "r6tEebcRx88S"
      }
    },
    {
      "cell_type": "code",
      "source": [
        "lst=[1,2,3,4,5]\n",
        "sumlist=sum([element for element in lst])\n",
        "sumlist"
      ],
      "metadata": {
        "colab": {
          "base_uri": "https://localhost:8080/"
        },
        "id": "plQzRIL8yAHW",
        "outputId": "a51133e0-6ff0-4d74-a0cc-942d8e9ff4d7"
      },
      "execution_count": null,
      "outputs": [
        {
          "output_type": "execute_result",
          "data": {
            "text/plain": [
              "15"
            ]
          },
          "metadata": {},
          "execution_count": 3
        }
      ]
    },
    {
      "cell_type": "markdown",
      "source": [
        "22. Write a program to find the prime factors of a given number using a `for` loop and list comprehension."
      ],
      "metadata": {
        "id": "KOdFlpGuyxUR"
      }
    },
    {
      "cell_type": "code",
      "source": [
        "def prime_factors(n):\n",
        "    factors = [i for i in range(2, n + 1) if n % i == 0 and all(i % j != 0 for j in range(2, int(i**0.5) + 1))]\n",
        "    return factors\n",
        "\n",
        "# Input a number\n",
        "num = int(input(\"Enter a number: \"))\n",
        "\n",
        "# Find and print the prime factors\n",
        "result = prime_factors(num)\n",
        "print(f\"Prime factors of {num}: {result}\")\n"
      ],
      "metadata": {
        "colab": {
          "base_uri": "https://localhost:8080/"
        },
        "id": "I2rgjJVJyx2l",
        "outputId": "571b60ea-e464-4fba-d76e-94269ba242e1"
      },
      "execution_count": null,
      "outputs": [
        {
          "output_type": "stream",
          "name": "stdout",
          "text": [
            "Enter a number: 45\n",
            "Prime factors of 45: [3, 5]\n"
          ]
        }
      ]
    },
    {
      "cell_type": "markdown",
      "source": [
        "23. Develop a program that extracts unique elements from a list and stores them in a new list using a list\n",
        "comprehension."
      ],
      "metadata": {
        "id": "WUCaQ5G8307A"
      }
    },
    {
      "cell_type": "code",
      "source": [
        "lst=[1,2,3,4,5]\n",
        "unique_list=[]\n",
        "unique_element=[3,4,5]\n",
        "s=[unique_list.append(element) for element in lst if element in unique_element]\n",
        "unique_list"
      ],
      "metadata": {
        "colab": {
          "base_uri": "https://localhost:8080/"
        },
        "id": "sgfKTLO2317f",
        "outputId": "0ff210d2-c495-4210-c538-8d0c787da35e"
      },
      "execution_count": null,
      "outputs": [
        {
          "output_type": "execute_result",
          "data": {
            "text/plain": [
              "[3, 4, 5]"
            ]
          },
          "metadata": {},
          "execution_count": 8
        }
      ]
    },
    {
      "cell_type": "markdown",
      "source": [
        "24. Create a program that generates a list of all palindromic numbers up to a specified limit using a list\n",
        "comprehension"
      ],
      "metadata": {
        "id": "-VqKaup_57Id"
      }
    },
    {
      "cell_type": "code",
      "source": [
        "def is_palindrome_c(number):\n",
        "  return str(number)==str(number)[::-1]\n",
        "def generate_palindrome(limit):\n",
        "  lst=[num for num in range(limit+1) if is_palindrome_c(num)]\n",
        "  return lst\n",
        "limit=int(input(\"enter the limit\"))\n",
        "generate_palindrome(limit)\n"
      ],
      "metadata": {
        "colab": {
          "base_uri": "https://localhost:8080/"
        },
        "id": "ifRgt7wo584m",
        "outputId": "0cd5b714-2ca0-4c7f-e1a1-cdf06bd80215"
      },
      "execution_count": null,
      "outputs": [
        {
          "name": "stdout",
          "output_type": "stream",
          "text": [
            "enter the limit20\n"
          ]
        },
        {
          "output_type": "execute_result",
          "data": {
            "text/plain": [
              "[0, 1, 2, 3, 4, 5, 6, 7, 8, 9, 11]"
            ]
          },
          "metadata": {},
          "execution_count": 24
        }
      ]
    },
    {
      "cell_type": "code",
      "source": [
        "def flatten_nested_list(nested_list):\n",
        "    # Use nested list comprehension to flatten the nested list\n",
        "    flattened_list = [element for sublist in nested_list for element in (flatten_nested_list(sublist) if isinstance(sublist, list) else [sublist])]\n",
        "    return flattened_list\n",
        "\n",
        "# Example nested list\n",
        "nested_list = [1, [2, 3, [4, 5]], 6, [7, [8, 9]]]\n",
        "\n",
        "# Flatten the nested list and print the result\n",
        "flattened_result = flatten_nested_list(nested_list)\n",
        "print(\"Original nested list:\", nested_list)\n",
        "print(\"Flattened list:\", flattened_result)\n"
      ],
      "metadata": {
        "colab": {
          "base_uri": "https://localhost:8080/"
        },
        "id": "e21X8q6eEVXe",
        "outputId": "fd55b327-6859-48db-ba7a-2054ad71cbef"
      },
      "execution_count": null,
      "outputs": [
        {
          "output_type": "stream",
          "name": "stdout",
          "text": [
            "Original nested list: [1, [2, 3, [4, 5]], 6, [7, [8, 9]]]\n",
            "Flattened list: [1, 2, 3, 4, 5, 6, 7, 8, 9]\n"
          ]
        }
      ]
    },
    {
      "cell_type": "markdown",
      "source": [
        "26. Develop a program that computes the sum of even and odd numbers in a list separately using list\n",
        "comprehension."
      ],
      "metadata": {
        "id": "G-5ulzi-Fv3x"
      }
    },
    {
      "cell_type": "code",
      "source": [
        "def sum_even_odd(numbers):\n",
        "    # Use list comprehension to separate even and odd numbers, then calculate their sums\n",
        "    even_sum = sum([num for num in numbers if num % 2 == 0])\n",
        "    odd_sum = sum([num for num in numbers if num % 2 != 0])\n",
        "    return even_sum, odd_sum\n",
        "\n",
        "# Example list of numbers\n",
        "numbers_list = [1, 2, 3, 4, 5, 6, 7, 8, 9, 10]\n",
        "\n",
        "# Calculate and print the sum of even and odd numbers\n",
        "even_sum, odd_sum = sum_even_odd(numbers_list)\n",
        "print(\"List of numbers:\", numbers_list)\n",
        "print(\"Sum of even numbers:\", even_sum)\n",
        "print(\"Sum of odd numbers:\", odd_sum)\n"
      ],
      "metadata": {
        "colab": {
          "base_uri": "https://localhost:8080/"
        },
        "id": "wN8lxNSLIECh",
        "outputId": "0d4d3ca7-1628-41b9-d76b-cd06bf607635"
      },
      "execution_count": null,
      "outputs": [
        {
          "output_type": "stream",
          "name": "stdout",
          "text": [
            "List of numbers: [1, 2, 3, 4, 5, 6, 7, 8, 9, 10]\n",
            "Sum of even numbers: 30\n",
            "Sum of odd numbers: 25\n"
          ]
        }
      ]
    },
    {
      "cell_type": "markdown",
      "source": [
        "\n",
        "27. Create a program that generates a list of squares of odd numbers between 1 and 10 using list"
      ],
      "metadata": {
        "id": "kAfdIq53Kmvi"
      }
    },
    {
      "cell_type": "code",
      "source": [
        "square=sum([element**2 for element in range(1,11)])\n",
        "square"
      ],
      "metadata": {
        "colab": {
          "base_uri": "https://localhost:8080/"
        },
        "id": "g20zdINwKn6e",
        "outputId": "7ff20304-9d2c-4077-a629-306c207ff969"
      },
      "execution_count": null,
      "outputs": [
        {
          "output_type": "execute_result",
          "data": {
            "text/plain": [
              "385"
            ]
          },
          "metadata": {},
          "execution_count": 27
        }
      ]
    },
    {
      "cell_type": "markdown",
      "source": [
        "28. Write a program that combines two lists into a dictionary using list comprehension.\n"
      ],
      "metadata": {
        "id": "_lKPRT_NLBAa"
      }
    },
    {
      "cell_type": "code",
      "source": [
        "def dictionary_c(keys,values):\n",
        "  lst={k:v for k,v in zip(keys,values)}\n",
        "  return lst\n",
        "keys=[\"names\",\"number\",\"surname\"]\n",
        "values=[\"himansu\",\"41\",\"sahoo\"]\n",
        "dictionary_c(keys,values)\n"
      ],
      "metadata": {
        "colab": {
          "base_uri": "https://localhost:8080/"
        },
        "id": "FCGez40tLCGU",
        "outputId": "0c505e56-f7fe-4b32-be27-23d5a60ee950"
      },
      "execution_count": null,
      "outputs": [
        {
          "output_type": "execute_result",
          "data": {
            "text/plain": [
              "{'names': 'himansu', 'number': '41', 'surname': 'sahoo'}"
            ]
          },
          "metadata": {},
          "execution_count": 28
        }
      ]
    },
    {
      "cell_type": "markdown",
      "source": [
        "29. Develop a program that extracts the vowels from a string and stores them in a list using list comprehension.\n"
      ],
      "metadata": {
        "id": "_g4-tQ5pL3qa"
      }
    },
    {
      "cell_type": "code",
      "source": [
        "def extract_vowels(s):\n",
        "  vowels=\"aeiou\"\n",
        "\n",
        "  lst=[element for element in s if element in \"aeiou\"]\n",
        "  return lst\n",
        "\n",
        "s=\"himansu\"\n",
        "extract_vowels(s)"
      ],
      "metadata": {
        "colab": {
          "base_uri": "https://localhost:8080/"
        },
        "id": "0_cGN2a7L4RV",
        "outputId": "d5c3dfd9-067f-46dd-ee69-0a4e0c9b3835"
      },
      "execution_count": null,
      "outputs": [
        {
          "output_type": "execute_result",
          "data": {
            "text/plain": [
              "['i', 'a', 'u']"
            ]
          },
          "metadata": {},
          "execution_count": 40
        }
      ]
    },
    {
      "cell_type": "markdown",
      "source": [
        "30. Create a program that removes all non-numeric characters from a list of strings using list comprehension."
      ],
      "metadata": {
        "id": "qSFIFSxpOB7a"
      }
    },
    {
      "cell_type": "code",
      "source": [
        "def remove_character(s):\n",
        "  lst=[\"\".join(char for char in string if char.isnumeric()) for string in s]\n",
        "  return lst\n",
        "lst=[\"12as\",\"34ergft\"]\n",
        "remove_character(lst)"
      ],
      "metadata": {
        "colab": {
          "base_uri": "https://localhost:8080/"
        },
        "id": "VuOZO2SGOCey",
        "outputId": "86fda589-50be-4938-8b34-b86cd87ebcc9"
      },
      "execution_count": null,
      "outputs": [
        {
          "output_type": "execute_result",
          "data": {
            "text/plain": [
              "['12', '34']"
            ]
          },
          "metadata": {},
          "execution_count": 43
        }
      ]
    },
    {
      "cell_type": "markdown",
      "source": [
        "\n",
        "31. Write a program to generate a list of prime numbers using the Sieve of Eratosthenes algorithm and list\n",
        "comprehension"
      ],
      "metadata": {
        "id": "dQG-beUBiKy1"
      }
    },
    {
      "cell_type": "code",
      "source": [
        "def prime_number(n):\n",
        "  prime=[0 for i in range(101)]\n",
        "  for i in range(2,n+1):\n",
        "    if prime[i]==0:\n",
        "      for j in range(i*i,n+1,i):\n",
        "        prime[j]= 1\n",
        "  primes=[i for i in range(2,n+1) if prime[i]==0]\n",
        "  return primes\n",
        "n=50\n",
        "prime_number(n)"
      ],
      "metadata": {
        "colab": {
          "base_uri": "https://localhost:8080/"
        },
        "id": "mBgN-8pkiLeI",
        "outputId": "df4d3235-18e0-48b3-c423-ffde97788ab7"
      },
      "execution_count": null,
      "outputs": [
        {
          "output_type": "execute_result",
          "data": {
            "text/plain": [
              "[2, 3, 5, 7, 11, 13, 17, 19, 23, 29, 31, 37, 41, 43, 47]"
            ]
          },
          "metadata": {},
          "execution_count": 59
        }
      ]
    },
    {
      "cell_type": "markdown",
      "source": [
        "32. Create a program that generates a list of all Pythagorean triplets up to a specified limit using list\n",
        "comprehension."
      ],
      "metadata": {
        "id": "pmy5colNovxc"
      }
    },
    {
      "cell_type": "code",
      "source": [
        "def pythagorean_triplets(limit):\n",
        "    triplets = [(a, b, c) for a in range(1, limit + 1)\n",
        "                            for b in range(a, limit + 1)\n",
        "                            for c in range(b, limit + 1)\n",
        "                            if a**2 + b**2 == c**2]\n",
        "    return triplets\n",
        "\n",
        "# Input the limit\n",
        "limit = int(input(\"Enter the limit for Pythagorean triplets: \"))\n",
        "\n",
        "# Generate and print the list of Pythagorean triplets\n",
        "result = pythagorean_triplets(limit)\n",
        "print(f\"Pythagorean triplets up to {limit}: {result}\")\n"
      ],
      "metadata": {
        "colab": {
          "base_uri": "https://localhost:8080/"
        },
        "id": "vweIMi-dozZa",
        "outputId": "58d7da9f-6c24-4a7f-f791-fdc7b23e8cf8"
      },
      "execution_count": null,
      "outputs": [
        {
          "output_type": "stream",
          "name": "stdout",
          "text": [
            "Enter the limit for Pythagorean triplets: 5\n",
            "Pythagorean triplets up to 5: [(3, 4, 5)]\n"
          ]
        }
      ]
    },
    {
      "cell_type": "markdown",
      "source": [
        "33. Develop a program that generates a list of all possible combinations of two lists using list comprehension."
      ],
      "metadata": {
        "id": "sHQNl16Q9mXb"
      }
    },
    {
      "cell_type": "code",
      "source": [
        "def combination(list1,list2):\n",
        "  combo=[(x,y) for x in list1 for y in list2]\n",
        "  return combo\n",
        "list1=[1,2,3,4]\n",
        "list2=[\"h\",\"i\",\"m\",\"a\"]\n",
        "combination(list1,list2)"
      ],
      "metadata": {
        "colab": {
          "base_uri": "https://localhost:8080/"
        },
        "id": "8pbhpFcu9nNv",
        "outputId": "9ade67b5-1395-40fa-8099-f93f29770f8d"
      },
      "execution_count": null,
      "outputs": [
        {
          "output_type": "execute_result",
          "data": {
            "text/plain": [
              "[(1, 'h'),\n",
              " (1, 'i'),\n",
              " (1, 'm'),\n",
              " (1, 'a'),\n",
              " (2, 'h'),\n",
              " (2, 'i'),\n",
              " (2, 'm'),\n",
              " (2, 'a'),\n",
              " (3, 'h'),\n",
              " (3, 'i'),\n",
              " (3, 'm'),\n",
              " (3, 'a'),\n",
              " (4, 'h'),\n",
              " (4, 'i'),\n",
              " (4, 'm'),\n",
              " (4, 'a')]"
            ]
          },
          "metadata": {},
          "execution_count": 65
        }
      ]
    },
    {
      "cell_type": "markdown",
      "source": [
        "34. Write a program that calculates the mean, median, and mode of a list of numbers using list\n",
        "comprehension."
      ],
      "metadata": {
        "id": "ahhMsIzLZAXC"
      }
    },
    {
      "cell_type": "code",
      "source": [
        "from collections import Counter\n",
        "\n",
        "def calculate_mean(numbers):\n",
        "    return sum(numbers) / len(numbers)\n",
        "\n",
        "def calculate_median(numbers):\n",
        "    sorted_numbers = sorted(numbers)\n",
        "    n = len(sorted_numbers)\n",
        "    if n % 2 == 0:\n",
        "        middle1 = sorted_numbers[n // 2 - 1]\n",
        "        middle2 = sorted_numbers[n // 2]\n",
        "        return (middle1 + middle2) / 2\n",
        "    else:\n",
        "        return sorted_numbers[n // 2]\n",
        "\n",
        "def calculate_mode(numbers):\n",
        "    count_dict = Counter(numbers)\n",
        "    max_count = max(count_dict.values())\n",
        "    mode = [key for key, value in count_dict.items() if value == max_count]\n",
        "    return mode\n",
        "\n",
        "# Example usage:\n",
        "numbers = [1, 2, 2, 3, 4, 5, 5, 6, 6, 6]\n",
        "mean = calculate_mean(numbers)\n",
        "median = calculate_median(numbers)\n",
        "mode = calculate_mode(numbers)\n",
        "\n",
        "print(f\"Mean: {mean}\")\n",
        "print(f\"Median: {median}\")\n",
        "print(f\"Mode: {mode}\")\n"
      ],
      "metadata": {
        "colab": {
          "base_uri": "https://localhost:8080/"
        },
        "id": "L_q3vFKDZBFe",
        "outputId": "60e9392e-6746-43a1-eb45-130082fc22ac"
      },
      "execution_count": null,
      "outputs": [
        {
          "output_type": "stream",
          "name": "stdout",
          "text": [
            "Mean: 4.0\n",
            "Median: 4.5\n",
            "Mode: [6]\n"
          ]
        }
      ]
    },
    {
      "cell_type": "code",
      "source": [
        "class Solution:\n",
        "    def generate(self, numRows: int) -> List[List[int]]:\n",
        "        result=[]\n",
        "        for i in range(numRows):\n",
        "            row=[None for _ in range(i+1)]\n",
        "            row[0],row[-1]=1,1\n",
        "            for j in range(1,len(row)-1):\n",
        "                row[j]=result[i-1][j-1]+result[i-1][j]\n",
        "            result.append(row)\n",
        "        return result\n",
        "\n"
      ],
      "metadata": {
        "id": "Tu10chL4y-aw"
      },
      "execution_count": null,
      "outputs": []
    },
    {
      "cell_type": "markdown",
      "source": [
        "36. Develop a program that calculates the sum of the digits of a factorial of numbers from 1 to 5 using list\n",
        "comprehension."
      ],
      "metadata": {
        "id": "-Suo2KWp0IXW"
      }
    },
    {
      "cell_type": "code",
      "source": [
        "import math\n",
        "\n",
        "def factorial(n):\n",
        "    return math.factorial(n)\n",
        "\n",
        "def digit_sum(number):\n",
        "    return sum(int(digit) for digit in str(number))\n",
        "\n",
        "# Calculate factorials and sum of digits using list comprehension\n",
        "factorials = [factorial(i) for i in range(1, 6)]\n",
        "digit_sums = [digit_sum(factorial) for factorial in factorials]\n",
        "\n",
        "# Display results\n",
        "for i in range(1, 6):\n",
        "    print(f\"Factorial of {i}: {factorials[i-1]}, Sum of digits: {digit_sums[i-1]}\")\n"
      ],
      "metadata": {
        "colab": {
          "base_uri": "https://localhost:8080/"
        },
        "id": "ORnhNTHq0I-L",
        "outputId": "60ad95cb-2166-44fd-d2d2-869fd2995736"
      },
      "execution_count": null,
      "outputs": [
        {
          "output_type": "stream",
          "name": "stdout",
          "text": [
            "Factorial of 1: 1, Sum of digits: 1\n",
            "Factorial of 2: 2, Sum of digits: 2\n",
            "Factorial of 3: 6, Sum of digits: 6\n",
            "Factorial of 4: 24, Sum of digits: 6\n",
            "Factorial of 5: 120, Sum of digits: 3\n"
          ]
        }
      ]
    },
    {
      "cell_type": "markdown",
      "source": [
        "37. Write a program that finds the longest word in a sentence using list comprehension."
      ],
      "metadata": {
        "id": "fmFlwIu4SVsA"
      }
    },
    {
      "cell_type": "code",
      "source": [
        "def longest_word(word):\n",
        "  s=[words.strip(\".,?!\") for words in word.split()]\n",
        "  result=max(s,key=len)\n",
        "  return result\n",
        "word=\"himansu is a developer\"\n",
        "longest_word(word)\n"
      ],
      "metadata": {
        "colab": {
          "base_uri": "https://localhost:8080/",
          "height": 36
        },
        "id": "rDgHWkUUSYsg",
        "outputId": "820aca07-22f8-40bf-e822-3c9fe1b62cea"
      },
      "execution_count": 2,
      "outputs": [
        {
          "output_type": "execute_result",
          "data": {
            "text/plain": [
              "'developer'"
            ],
            "application/vnd.google.colaboratory.intrinsic+json": {
              "type": "string"
            }
          },
          "metadata": {},
          "execution_count": 2
        }
      ]
    },
    {
      "cell_type": "markdown",
      "source": [
        "\n",
        "38. Create a program that filters a list of strings to include only those with more than three vowels using list\n",
        "comprehension."
      ],
      "metadata": {
        "id": "-MZ7nbkiUGwY"
      }
    },
    {
      "cell_type": "code",
      "source": [
        "def vowels_count(word):\n",
        "  return sum(1 for i in word if i.lower() in \"aeiou\")\n",
        "def generate_vowels(word_list):\n",
        "  filter_list=[item for item in word_list if vowels_count(item)>3]\n",
        "  return filter_list\n",
        "word_list=[\"himansui\",\"sekhar\",\"sahoo\",\"datascience\"]\n",
        "generate_vowels(word_list)"
      ],
      "metadata": {
        "colab": {
          "base_uri": "https://localhost:8080/"
        },
        "id": "0uqfvOxrY9S2",
        "outputId": "0aed99c7-97d9-4ec0-dafb-0cb37fcb3738"
      },
      "execution_count": 20,
      "outputs": [
        {
          "output_type": "execute_result",
          "data": {
            "text/plain": [
              "['himansui', 'datascience']"
            ]
          },
          "metadata": {},
          "execution_count": 20
        }
      ]
    },
    {
      "cell_type": "markdown",
      "source": [
        "39. Develop a program that calculates the sum of the digits of numbers from 1 to 1000 using list\n",
        "comprehension"
      ],
      "metadata": {
        "id": "5i5__qDqeKPM"
      }
    },
    {
      "cell_type": "code",
      "source": [
        "# Function to calculate the sum of digits in a number\n",
        "def digit_sum(number):\n",
        "    return sum(int(digit) for digit in str(number))\n",
        "\n",
        "# Using list comprehension to calculate the sum of digits for numbers from 1 to 1000\n",
        "sum_of_digits = sum(digit_sum(number) for number in range(1, 1001))\n",
        "\n",
        "print(\"Sum of the digits of numbers from 1 to 1000:\", sum_of_digits)\n"
      ],
      "metadata": {
        "colab": {
          "base_uri": "https://localhost:8080/"
        },
        "id": "7c_iR9IVeLfP",
        "outputId": "24ed63c2-f569-4fa9-bc23-68cefe551f22"
      },
      "execution_count": 21,
      "outputs": [
        {
          "output_type": "stream",
          "name": "stdout",
          "text": [
            "Sum of the digits of numbers from 1 to 1000: 13501\n"
          ]
        }
      ]
    },
    {
      "cell_type": "markdown",
      "source": [
        "40. Write a program that generates a list of prime palindromic numbers using list comprehension.\n"
      ],
      "metadata": {
        "id": "gn6pI8MqjyRJ"
      }
    },
    {
      "cell_type": "code",
      "source": [
        "def is_prime(num):\n",
        "    if num < 2:\n",
        "        return False\n",
        "    for i in range(2, int(num**0.5) + 1):\n",
        "        if num % i == 0:\n",
        "            return False\n",
        "    return True\n",
        "\n",
        "def is_palindrome(num):\n",
        "    return str(num) == str(num)[::-1]\n",
        "\n",
        "# Using list comprehension to generate a list of prime palindromic numbers\n",
        "prime_palindromes = [num for num in range(1, 1000) if is_prime(num) and is_palindrome(num)]\n",
        "\n",
        "print(\"List of prime palindromic numbers up to 1000:\", prime_palindromes)\n"
      ],
      "metadata": {
        "colab": {
          "base_uri": "https://localhost:8080/"
        },
        "id": "eMrlzpTij1di",
        "outputId": "e752ad4c-f161-4fbe-e591-0303f93ef239"
      },
      "execution_count": 22,
      "outputs": [
        {
          "output_type": "stream",
          "name": "stdout",
          "text": [
            "List of prime palindromic numbers up to 1000: [2, 3, 5, 7, 11, 101, 131, 151, 181, 191, 313, 353, 373, 383, 727, 757, 787, 797, 919, 929]\n"
          ]
        }
      ]
    }
  ]
}